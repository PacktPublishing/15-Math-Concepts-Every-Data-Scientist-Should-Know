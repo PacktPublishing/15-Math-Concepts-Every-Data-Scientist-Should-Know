{
 "cells": [
  {
   "cell_type": "markdown",
   "id": "f2937a37",
   "metadata": {},
   "source": [
    "## Q1\n",
    "\n",
    "We have the AR(1) evolution equation $y_{t} = \\phi y_{t-1} + \\varepsilon_{t}$ and where the noise is i.i.d. Gaussian distributed with mean zero and variance $\\sigma^{2}$. \n",
    "\n",
    "Taking the expectation of both sides of the evolution equation we have,\n",
    "\n",
    "$\\mathbb{E}\\left ( y_{t} \\right ) = \\phi \\mathbb{E}\\left ( y_{t-1} \\right )$. \n",
    "\n",
    "Interating this last equation gives us, \n",
    "\n",
    "$\\mathbb{E}\\left ( y_{t}\\right ) = \\phi^{t}\\mathbb{E} \\left ( y_{0} \\right )$.\n",
    "\n",
    "Since $y_{0}$ is a fixed given value we have $\\mathbb{E}\\left ( y_{0}\\right ) = y_{0}$ and so overall we have,\n",
    "\n",
    "$\\mathbb{E}\\left ( y_{t}\\right ) = \\phi^{t} y_{0}$.\n",
    "\n",
    "Since we are assuming $0 < \\phi < 1$ for this exercise, then $\\phi^{t}$ will get smaller and smaller as $t$ increases. So $\\phi^{t} \\rightarrow 0$ as $t\\rightarrow \\infty$. This means that we have $\\mathbb{E}\\left ( y_{t}\\right ) \\rightarrow 0$ as $t \\rightarrow\\infty$, as required.\n",
    "\n",
    "Deriving the behaviour of $\\mathrm{Var}\\left ( y_{t} \\right )$ as $t\\rightarrow\\infty$ follows the same steps as given in the main text. We first take the variance of both sides of our AR(1) evolution equation to get,\n",
    "\n",
    "$\\mathrm{Var}\\left ( y_{t}\\right ) = \\phi^{2}\\mathrm{Var}\\left ( y_{t-1}\\right ) + \\sigma^{2}$. \n",
    "\n",
    "We will assume that $\\mathrm{Var}\\left ( y_{t}\\right )\\rightarrow V_{\\infty}$ as $t\\rightarrow\\infty$. This means that we also have $\\mathrm{Var}\\left ( y_{t-1}\\right )\\rightarrow V_{\\infty}$ as $t\\rightarrow\\infty$, and so we must have the asymptotic relationship,\n",
    "\n",
    "$V_{\\infty} \\;=\\; \\phi^{2}V_{\\infty} + \\sigma^{2}$.\n",
    "\n",
    "Solving this relationship for $V_{\\infty}$ gives,\n",
    "\n",
    "$V_{\\infty} = \\frac{\\sigma^{2}}{1 - \\phi^{2}}$, irrespective of the starting value $y_{0}$, and so we have shown that,\n",
    "\n",
    "$\\mathrm{Var}\\left ( y_{t} \\right ) \\rightarrow \\frac{\\sigma^{2}}{1 - \\phi^{2}}$ as $t\\rightarrow \\infty$, irrespective of the value of $y_{0}$, as required."
   ]
  },
  {
   "cell_type": "markdown",
   "id": "bd32e1f3",
   "metadata": {},
   "source": [
    "## Q2\n",
    "\n",
    "We have the AR(1) evolution equation $y_{t} = \\left ( 1 - \\phi\\right )\\mu + \\phi y_{t-1} + \\varepsilon_{t}$ and where the noise is i.i.d. Gaussian distributed with mean zero and variance $\\sigma^{2}$. \n",
    "\n",
    "Our approach is very similar to Q1. We take the expectation of both sides of the evolution equation to get,\n",
    "\n",
    "$\\mathbb{E}\\left ( y_{t}\\right ) = \\left ( 1 - \\phi \\right ) \\mu + \\phi \\mathbb{E}\\left ( y_{t-1} \\right )$.\n",
    "\n",
    "We will assume that $\\mathbb{E}\\left ( y_{t} \\right )$ tends to some finite value as $t\\rightarrow\\infty$, which we will denote by $E_{\\infty}$. So we have $\\mathbb{E}\\left ( y_{t} \\right ) \\rightarrow E_{\\infty}$ and $\\mathbb{E}\\left ( y_{t-1} \\right ) \\rightarrow E_{\\infty}$ as $t\\rightarrow \\infty$. Plugging this into the equation above we get,\n",
    "\n",
    "$E_{\\infty} = \\left ( 1 - \\phi \\right ) \\mu + \\phi E_{\\infty}$.\n",
    "\n",
    "Solving for $E_{\\infty}$ gives,\n",
    "\n",
    "$E_{\\infty} = \\frac{(1-\\phi)\\mu}{1-\\phi} = \\mu$, and so we have,\n",
    "\n",
    "$\\mathbb{E}\\left ( y_{t}\\right ) \\rightarrow \\mu$ as $t\\rightarrow\\infty$, as required.\n",
    "\n",
    "Proving that $\\mathrm{Var}\\left ( y_{t} \\right ) \\rightarrow \\sigma^{2}/\\left ( 1-\\phi^{2} \\right )$ as $t\\rightarrow\\infty$ follows exactly the same process as in Q1 (remembering that the variance of the constant $(1-\\phi)\\mu$ is zero).\n",
    "\n",
    "To derive the value of $\\mathbb{E} \\left ( y_{t} \\right )$ at any value of $t$ we can iterate the expression above for $\\mathbb{E} \\left ( y_{t} \\right )$. Doing so we get,\n",
    "\n",
    "$$\\begin{aligned}\\mathbb{E}\\left ( y_{t} \\right ) &= \\left ( 1 - \\phi \\right ) \\mu + \\phi \\mathbb{E}\\left ( y_{t-1} \\right )\\\\ &= \\left ( 1 - \\phi \\right ) \\mu + \\phi (1-\\phi)\\mu + \\phi \\mathbb{E}\\left ( y_{t-2} \\right ) \\\\\n",
    "&=  \\left ( 1 - \\phi \\right ) \\mu + \\phi (1-\\phi)\\mu + \\phi^{2} (1-\\phi)\\mu + \\phi \\mathbb{E}\\left ( y_{t-3} \\right ) \\\\\n",
    "&\\vdots \\\\\n",
    "&=  (1-\\phi)\\mu \\sum_{k=0}^{t-1}\\phi^{k}\\; + \\; \\phi^{t}\\mathbb{E}\\left ( y_{0}\\right ) \\\\\n",
    "&= \\frac{(1-\\phi)\\mu (1-\\phi^{t})}{1-\\phi}\\;+\\;\\phi^{t}y_{0}\\\\\n",
    "&= \\mu + \\left ( y_{0} - \\mu \\right ) \\phi^{t}\\end{aligned}$$.\n",
    "\n",
    "So the initial value $y_{0}$ decays exponentially fast towards $\\mu$ as $t$ increases, with the rate of exponential decay depending on the value of $\\phi$. The closer $\\phi$ is to 1, the slower the exponential decay.\n",
    "\n",
    "To derive the value of $\\mathrm{Var}\\left ( y_{t}\\right )$ at any value of $t$ we use a similar approach, but we start with the equation,\n",
    "\n",
    "$\\mathrm{Var}\\left ( y_{t}\\right ) = \\phi^{2} \\mathrm{Var} \\left ( y_{t-1} \\right ) + \\sigma^{2}$. We can re-write this as,\n",
    "\n",
    "$$\\begin{aligned} \\mathrm{Var}\\left ( y_{t}\\right ) &= \\sigma^{2} + \\phi^{2}\\mathrm{Var} \\left ( y_{t-1} \\right ) \\\\\n",
    "&= \\sigma^{2} + \\phi^{2}\\left ( \\sigma^{2} + \\phi^{2}\\mathrm{Var} \\left ( y_{t-2} \\right ) \\right ) \\\\\n",
    "&= \\sigma^{2} + \\sigma^{2}\\phi^{2} + \\phi^{4} \\left ( \\sigma^{2} + \\phi^{2}\\mathrm{Var} \\left ( y_{t-3} \\right )\\right ) \\\\\n",
    "&\\vdots \\\\\n",
    "&= \\sigma^{2}\\sum_{k=0}^{t-1}\\phi^{2k} + \\phi^{2t}\\mathrm{Var} \\left ( y_{0} \\right ) \\\\\n",
    "&= \\sigma^{2} \\frac{1 - \\phi^{2t}}{1-\\phi^{2}} + \\phi^{2t}\\mathrm{Var} \\left ( y_{0} \\right )\\end{aligned}$$.\n",
    "\n",
    "Since we are considering $y_{0}$ to be a fixed given value rather than a random variable, we then have $\\mathrm{Var}\\left ( y_{0} \\right ) = 0$. So we finally have, $\\mathrm{Var} \\left ( y_{t}\\right ) = \\sigma^{2}\\frac{1 - \\phi^{2t}}{1-\\phi^{2}}$. As with the expectation $\\mathbb{E} \\left ( y_{t} \\right )$, the variance $\\mathrm{Var} \\left ( y_{t}\\right )$ decays exponentially towards its asymptotic value of $\\sigma^{2}/\\left ( 1-\\phi^{2}\\right )$ as $t\\rightarrow\\infty$."
   ]
  },
  {
   "cell_type": "markdown",
   "id": "42810d16",
   "metadata": {},
   "source": [
    "## Q3\n",
    "\n",
    "Use the ARIMA equation to generate a sample time series of length $T=500$ timepoints, that is of order $p=1, d=1, q = 1$, with coefficients $\\phi_{1} = 0.6, \\theta_{1} = 0.7$. The noise values should be i.i.d. $\\mathrm{Normal}(0, 0.1^{2})$. We'll start the integrated series at $y_{0} = 0$."
   ]
  },
  {
   "cell_type": "markdown",
   "id": "855644d1",
   "metadata": {},
   "source": [
    "First we'll import the required packages"
   ]
  },
  {
   "cell_type": "code",
   "execution_count": 1,
   "id": "712f851c",
   "metadata": {},
   "outputs": [],
   "source": [
    "import numpy as np\n",
    "import matplotlib.pyplot as plt\n",
    "from statsmodels.tsa.arima.model import ARIMA\n",
    "from pmdarima.arima import auto_arima"
   ]
  },
  {
   "cell_type": "markdown",
   "id": "ac343da5",
   "metadata": {},
   "source": [
    "Next we'll set the seed for the numpy random number generator, as we're going to generate a simulated time series"
   ]
  },
  {
   "cell_type": "code",
   "execution_count": 2,
   "id": "cd7e9bed",
   "metadata": {},
   "outputs": [],
   "source": [
    "# Set the random number generator seed\n",
    "np.random.seed(11386)"
   ]
  },
  {
   "cell_type": "markdown",
   "id": "8878ae25",
   "metadata": {},
   "source": [
    "Now we'll generate the simulated time series. First of all we generate a stationary time series, using a (1,0,1) ARIMA model, and then we'll integrate that simulated time series to give us a sample from a (1,1,1) ARIMA process."
   ]
  },
  {
   "cell_type": "code",
   "execution_count": 3,
   "id": "e9efe676",
   "metadata": {},
   "outputs": [],
   "source": [
    "# Set the number of time points we want to generate data for\n",
    "nT = 500\n",
    "\n",
    "# Set the parameters of the ARIMA(1,0,1) process\n",
    "phi_1 = 0.6\n",
    "theta_1 = 0.7\n",
    "sigma = 0.1\n",
    "\n",
    "# Initialize empty arrays to hold the non-integrated and integrated series\n",
    "y_non_integrated = np.zeros(nT)\n",
    "y_integrated = np.zeros(nT)\n",
    "\n",
    "# Create the noise series\n",
    "noise = sigma*np.random.randn(nT)\n",
    "\n",
    "# Set the first value of the non-integrated series to the first \n",
    "# value of the noise series\n",
    "y_non_integrated[0] = noise[0]\n",
    "\n",
    "# Now create the remainder of the non-integrated series using the \n",
    "# ARIMA(1,0,1) model equation\n",
    "for i in range(1, nT):\n",
    "    # Add the AR(1) component\n",
    "    y_non_integrated[i] = phi_1*y_non_integrated[i-1]\n",
    "    \n",
    "    # Add the MA(1) component\n",
    "    y_non_integrated[i] += theta_1*noise[i-1]\n",
    "    \n",
    "    # Add the current noise value\n",
    "    y_non_integrated[i] += noise[i]\n",
    "\n",
    "## Now we'll integrate the time series we have just generated\n",
    "\n",
    "# We set the initial value of our integrated series\n",
    "y_integrated[0] = 0.0\n",
    "\n",
    "# Now we can generate the integrated series by adding the \n",
    "# non-integrated series values\n",
    "for i in range(1, nT):\n",
    "    y_integrated[i] = y_integrated[i-1] + y_non_integrated[i]\n",
    "    "
   ]
  },
  {
   "cell_type": "markdown",
   "id": "a1ed4bea",
   "metadata": {},
   "source": [
    "Now we'll check what is the best values of $p,d,q$ to fit this generated data with. We can do this using the auto_arima function from the pmdarima function we demonstrated in the main text. We'll do this check for both the non-integrated and integrated series we have just generated. The optimal choice of $(p,d,q)$ for the non-integrared series should be (1,0,1), whilst the optimal choice of $(p,d,q)$ for the integrated series should be (1,1,1)."
   ]
  },
  {
   "cell_type": "code",
   "execution_count": 4,
   "id": "8cacdac8",
   "metadata": {},
   "outputs": [
    {
     "data": {
      "text/plain": [
       "ARIMA(order=(1, 0, 1), scoring_args={}, suppress_warnings=True,\n",
       "      with_intercept=False)"
      ]
     },
     "execution_count": 4,
     "metadata": {},
     "output_type": "execute_result"
    }
   ],
   "source": [
    "# Apply the auto_arima function to the non-integrated series we have just generated.\n",
    "# The optimal result should be (1,0,1).\n",
    "auto_arima(y_non_integrated)"
   ]
  },
  {
   "cell_type": "code",
   "execution_count": 5,
   "id": "41d0ce76",
   "metadata": {},
   "outputs": [
    {
     "data": {
      "text/plain": [
       "ARIMA(order=(1, 1, 1), scoring_args={}, suppress_warnings=True,\n",
       "      with_intercept=False)"
      ]
     },
     "execution_count": 5,
     "metadata": {},
     "output_type": "execute_result"
    }
   ],
   "source": [
    "# Apply the auto_arima function to the integrated series we have just generated.\n",
    "# The optimal result should be (1,1,1).\n",
    "auto_arima(y_integrated)"
   ]
  },
  {
   "cell_type": "markdown",
   "id": "f6077699",
   "metadata": {},
   "source": [
    "Now let's fit ARIMA models (with those optimal $(p,d,q)$ values) to both the non-integrated and integrated series. We'll do the non-integrated series first."
   ]
  },
  {
   "cell_type": "code",
   "execution_count": 6,
   "id": "5ff692b1",
   "metadata": {},
   "outputs": [
    {
     "name": "stdout",
     "output_type": "stream",
     "text": [
      "                               SARIMAX Results                                \n",
      "==============================================================================\n",
      "Dep. Variable:                      y   No. Observations:                  500\n",
      "Model:                 ARIMA(1, 0, 1)   Log Likelihood                 429.546\n",
      "Date:                Sun, 23 Apr 2023   AIC                           -851.092\n",
      "Time:                        21:59:35   BIC                           -834.234\n",
      "Sample:                             0   HQIC                          -844.477\n",
      "                                - 500                                         \n",
      "Covariance Type:                  opg                                         \n",
      "==============================================================================\n",
      "                 coef    std err          z      P>|z|      [0.025      0.975]\n",
      "------------------------------------------------------------------------------\n",
      "const         -0.0190      0.022     -0.879      0.380      -0.062       0.023\n",
      "ar.L1          0.6501      0.040     16.232      0.000       0.572       0.729\n",
      "ma.L1          0.6499      0.037     17.469      0.000       0.577       0.723\n",
      "sigma2         0.0105      0.001     16.131      0.000       0.009       0.012\n",
      "===================================================================================\n",
      "Ljung-Box (L1) (Q):                   0.05   Jarque-Bera (JB):                 0.33\n",
      "Prob(Q):                              0.83   Prob(JB):                         0.85\n",
      "Heteroskedasticity (H):               1.00   Skew:                            -0.03\n",
      "Prob(H) (two-sided):                  0.99   Kurtosis:                         3.11\n",
      "===================================================================================\n",
      "\n",
      "Warnings:\n",
      "[1] Covariance matrix calculated using the outer product of gradients (complex-step).\n"
     ]
    }
   ],
   "source": [
    "# Create the (1,0,1) ARIMA model\n",
    "y_arima_non_integrated = ARIMA(y_non_integrated, order=(1,0,1))\n",
    "\n",
    "# Fit the model to the data\n",
    "y_arima_non_integrated_fitted = y_arima_non_integrated.fit()\n",
    "\n",
    "# Print the results summary\n",
    "print(y_arima_non_integrated_fitted.summary())"
   ]
  },
  {
   "cell_type": "markdown",
   "id": "c1797c5f",
   "metadata": {},
   "source": [
    "The AR(1) and MA(1) coefficients are significant and close to the values we used to generate the simulated data. The constant, equivalent to the long-run mean is small and not statistically significant, so let's re-fit the model where we explicitly set the constant term to zero. We can do that using the fit_constrained method of the statsmodels ARIMA object."
   ]
  },
  {
   "cell_type": "code",
   "execution_count": 7,
   "id": "d52acc28",
   "metadata": {},
   "outputs": [
    {
     "name": "stdout",
     "output_type": "stream",
     "text": [
      "                               SARIMAX Results                                \n",
      "==============================================================================\n",
      "Dep. Variable:                      y   No. Observations:                  500\n",
      "Model:                 ARIMA(1, 0, 1)   Log Likelihood                 429.157\n",
      "Date:                Sun, 23 Apr 2023   AIC                           -852.315\n",
      "Time:                        21:59:35   BIC                           -839.671\n",
      "Sample:                             0   HQIC                          -847.353\n",
      "                                - 500                                         \n",
      "Covariance Type:                  opg                                         \n",
      "=================================================================================\n",
      "                    coef    std err          z      P>|z|      [0.025      0.975]\n",
      "---------------------------------------------------------------------------------\n",
      "const (fixed)          0        nan        nan        nan         nan         nan\n",
      "ar.L1             0.6531      0.040     16.343      0.000       0.575       0.731\n",
      "ma.L1             0.6491      0.037     17.456      0.000       0.576       0.722\n",
      "sigma2            0.0105      0.001     16.163      0.000       0.009       0.012\n",
      "===================================================================================\n",
      "Ljung-Box (L1) (Q):                   0.03   Jarque-Bera (JB):                 0.33\n",
      "Prob(Q):                              0.87   Prob(JB):                         0.85\n",
      "Heteroskedasticity (H):               1.00   Skew:                            -0.03\n",
      "Prob(H) (two-sided):                  0.99   Kurtosis:                         3.11\n",
      "===================================================================================\n",
      "\n",
      "Warnings:\n",
      "[1] Covariance matrix calculated using the outer product of gradients (complex-step).\n"
     ]
    }
   ],
   "source": [
    "y_arima_non_integrated_fitted_meanZero = y_arima_non_integrated.fit_constrained({'const':0.0})\n",
    "\n",
    "print(y_arima_non_integrated_fitted_meanZero.summary())"
   ]
  },
  {
   "cell_type": "markdown",
   "id": "b4556ebd",
   "metadata": {},
   "source": [
    "This gives AR(1) and MA(1) coefficients that are slightly closer to the true values used to generate the data. This is because we have noise in our data and we have a finite number of datapoints in our training set. You may want to repreat the whole process with an increased value of nT  (try nT=5000) and see how the estimated coefficients get closer to the true values of $\\phi_{1} = 0.6, \\theta_{1} = 0.7, \\sigma = 0.1$."
   ]
  },
  {
   "cell_type": "markdown",
   "id": "d25dc28a",
   "metadata": {},
   "source": [
    "Now let's fit an ARIMA(1,1,1) to the integrated series we have generated."
   ]
  },
  {
   "cell_type": "code",
   "execution_count": 8,
   "id": "862618bd",
   "metadata": {},
   "outputs": [
    {
     "name": "stdout",
     "output_type": "stream",
     "text": [
      "                               SARIMAX Results                                \n",
      "==============================================================================\n",
      "Dep. Variable:                      y   No. Observations:                  500\n",
      "Model:                 ARIMA(1, 1, 1)   Log Likelihood                 427.805\n",
      "Date:                Sun, 23 Apr 2023   AIC                           -849.609\n",
      "Time:                        21:59:35   BIC                           -836.971\n",
      "Sample:                             0   HQIC                          -844.650\n",
      "                                - 500                                         \n",
      "Covariance Type:                  opg                                         \n",
      "==============================================================================\n",
      "                 coef    std err          z      P>|z|      [0.025      0.975]\n",
      "------------------------------------------------------------------------------\n",
      "ar.L1          0.6531      0.040     16.323      0.000       0.575       0.732\n",
      "ma.L1          0.6488      0.037     17.394      0.000       0.576       0.722\n",
      "sigma2         0.0105      0.001     16.136      0.000       0.009       0.012\n",
      "===================================================================================\n",
      "Ljung-Box (L1) (Q):                   0.03   Jarque-Bera (JB):                 0.32\n",
      "Prob(Q):                              0.87   Prob(JB):                         0.85\n",
      "Heteroskedasticity (H):               0.99   Skew:                            -0.03\n",
      "Prob(H) (two-sided):                  0.96   Kurtosis:                         3.11\n",
      "===================================================================================\n",
      "\n",
      "Warnings:\n",
      "[1] Covariance matrix calculated using the outer product of gradients (complex-step).\n"
     ]
    }
   ],
   "source": [
    "# Create the (1,1,1) ARIMA model\n",
    "y_arima_integrated = ARIMA(y_integrated, order=(1,1,1))\n",
    "\n",
    "# Fit the model to the data\n",
    "y_arima_integrated_fitted = y_arima_integrated.fit()\n",
    "\n",
    "# Print the results summary\n",
    "print(y_arima_integrated_fitted.summary())"
   ]
  },
  {
   "cell_type": "markdown",
   "id": "03214d9b",
   "metadata": {},
   "source": [
    "The AR(1) and MA(1) estimated coefficients are similar to those we get from our ARIMA(1,0,1) model. This is as expected, as the only difference between the (1,0,1) and (1,1,1) series is that one is an integrated version of the other. The AR(1) and MA(1) components are the same for both datasets. Again, if you increase the value of nT and repeat the process you will set the estmiated coefficients get closer to the ground-truth values of $\\phi_{1} = 0.6, \\theta_{1} = 0.7, \\sigma = 0.1$."
   ]
  },
  {
   "cell_type": "code",
   "execution_count": null,
   "id": "9a014016",
   "metadata": {},
   "outputs": [],
   "source": []
  }
 ],
 "metadata": {
  "kernelspec": {
   "display_name": "Python 3 (ipykernel)",
   "language": "python",
   "name": "python3"
  },
  "language_info": {
   "codemirror_mode": {
    "name": "ipython",
    "version": 3
   },
   "file_extension": ".py",
   "mimetype": "text/x-python",
   "name": "python",
   "nbconvert_exporter": "python",
   "pygments_lexer": "ipython3",
   "version": "3.11.5"
  }
 },
 "nbformat": 4,
 "nbformat_minor": 5
}
