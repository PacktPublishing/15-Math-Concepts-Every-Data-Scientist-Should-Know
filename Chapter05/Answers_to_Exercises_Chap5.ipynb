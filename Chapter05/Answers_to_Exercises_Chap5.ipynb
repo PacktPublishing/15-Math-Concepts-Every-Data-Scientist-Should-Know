{
 "cells": [
  {
   "cell_type": "code",
   "execution_count": 1,
   "id": "8656a25a",
   "metadata": {},
   "outputs": [],
   "source": [
    "import pandas as pd\n",
    "import numpy as np\n",
    "import matplotlib.pyplot as plt\n",
    "\n",
    "from scipy.special import loggamma\n",
    "from scipy.optimize import minimize"
   ]
  },
  {
   "cell_type": "markdown",
   "id": "f2718084",
   "metadata": {},
   "source": [
    "## Q1: MAP estimation with user-supplied gradient function\n",
    "\n",
    "We're going to repeat the MAP estimation calculation in the main text, but with a user-supplied derivative function. The log-posterior is given by the following equation (hint: $x! = \\Gamma(x+1)$),\n",
    "\n",
    "$\\mathrm{log-posterior}\\;=\\;\\log \\Gamma(N+1) -\\log \\Gamma(N_{Head}+1) - \\log \\Gamma(N - N_{Head} + 1) + \\log \\Gamma(\\alpha + \\beta) - \\log \\Gamma(\\alpha) - \\log \\Gamma(\\beta) + (N_{Head} + \\alpha - 1)\\log p + (N-N_{Head} + \\beta - 1)\\log (1 - p)$\n",
    "\n",
    "So the gradient of the log-posterior, with respect to p is given by the following equation,\n",
    "\n",
    "$\\frac{\\partial \\mathrm{log-posterior}}{\\partial p} \\;=\\;\\frac{N_{Head} + \\alpha - 1}{p} - \\frac{N-N_{Head} + \\beta - 1}{1-p}$.\n",
    "\n",
    "So we need to generate functions that return the negative of the log-posterior and the negative of its gradient, both as a function of $\\log\\left( \\frac{p}{1-p}\\right )$."
   ]
  },
  {
   "cell_type": "code",
   "execution_count": 2,
   "id": "c75d5cde",
   "metadata": {},
   "outputs": [],
   "source": [
    "def get_neg_log_binomial_posterior(n_trial, n_success, alpha, beta):\n",
    "    '''\n",
    "    A function to construct a callable that returns the negative of the \n",
    "    log-posterior for binomially distributed data, with a Beta \n",
    "    prior for the success probability of the Bernoulli trials. \n",
    "    \n",
    "    :param n_trial: The number of Bernoulli trials.\n",
    "    :type n_trial: int\n",
    "    \n",
    "    :param n_success: The number of successes.\n",
    "    :type n_success: int\n",
    "    \n",
    "    :param alpha: The alpha parameter of the Beta prior.\n",
    "    :type alpha: float\n",
    "    \n",
    "    :param beta: The beta parameter of the Beta prior.\n",
    "    :type beta: float\n",
    "    \n",
    "    :return: A callable that returns the negative of the log-posterior \n",
    "             (up to a global constant) and takes the logit of the success\n",
    "             probability logit(p) as input.\n",
    "    :rtype: A callable\n",
    "    '''\n",
    "    \n",
    "    def neg_log_binomial_posterior(logit_p):\n",
    "        '''\n",
    "        A function to compute the negative log-posterrior (up to a\n",
    "        global constant) for binomially distributed data, with a Beta \n",
    "        prior for the success probability of the Bernoulli trials. \n",
    "        \n",
    "        The function is a function of the logit of the success probability.\n",
    "        This is so the optimization algorithm can search between -infinity \n",
    "        and +infinity and still yield a valid success probability p that is \n",
    "        between 0 and 1. If we were to use p instead of logit(p) for our \n",
    "        parameter, we would have to perform a constrained optimization to \n",
    "        ensure we keep within [0,1]. The logit transformation is a \n",
    "        convenient way of doing this.\n",
    "        \n",
    "        We return the negative of the log-posterior because we will use \n",
    "        scipy's inbuilt minimization algorithms. Recall, maximizing a \n",
    "        function is the same as minimizing the negative of the function.\n",
    "        \n",
    "        :param logit_p: The logit of the success probability.\n",
    "        :type logit_p: float\n",
    "        \n",
    "        :return: The negative of the sum of the log-likelihood and \n",
    "                 the log-prior\n",
    "        :rtype: float\n",
    "        '''\n",
    "\n",
    "        # Compute the success probability p from logit(p)\n",
    "        p = np.exp(logit_p)/ (1.0 + np.exp(logit_p))\n",
    "        \n",
    "        # Compute the log-prior\n",
    "        log_prior = loggamma(alpha + beta) - loggamma(alpha) - loggamma(beta) \n",
    "        log_prior += ((alpha-1.0)*np.log(p)) + ((beta-1.0)*np.log(1.0 - p))\n",
    "  \n",
    "        # Compute the log-likelihood\n",
    "        log_likelihood = loggamma(n_trial + 1.0) - loggamma(n_trial - n_success + 1.0) - loggamma(n_success + 1.0)\n",
    "        log_likelihood += (n_success*np.log(p)) + ((n_trial-n_success)*np.log(1.0-p))\n",
    "  \n",
    "        # Compute the log-posterior, up to the global normalization factor,\n",
    "        # as the sum of the log prior and log-likelihood\n",
    "        log_posterior = log_likelihood + log_prior\n",
    "  \n",
    "        return -log_posterior\n",
    "\n",
    "    return neg_log_binomial_posterior"
   ]
  },
  {
   "cell_type": "code",
   "execution_count": 3,
   "id": "3f1a2148",
   "metadata": {},
   "outputs": [],
   "source": [
    "def get_grad_neg_log_binomial_posterior(n_trial, n_success, alpha, beta):\n",
    "    '''\n",
    "    A function to construct a callable that returns the gradient of negative of the \n",
    "    log-posterior for binomially distributed data, with a Beta \n",
    "    prior for the success probability of the Bernoulli trials. \n",
    "    \n",
    "    :param n_trial: The number of Bernoulli trials.\n",
    "    :type n_trial: int\n",
    "    \n",
    "    :param n_success: The number of successes.\n",
    "    :type n_success: int\n",
    "    \n",
    "    :param alpha: The alpha parameter of the Beta prior.\n",
    "    :type alpha: float\n",
    "    \n",
    "    :param beta: The beta parameter of the Beta prior.\n",
    "    :type beta: float\n",
    "    \n",
    "    :return: A callable that returns the gradient of the \n",
    "             negative of the log-posterior and takes the \n",
    "             logit of the success probability logit(p) as input.\n",
    "    :rtype: A callable\n",
    "    '''\n",
    "    \n",
    "    def grad_neg_log_binomial_posterior(logit_p):\n",
    "        '''\n",
    "        A function to compute the gradient of the negative \n",
    "        log-posterrior for binomially distributed data, with a Beta \n",
    "        prior for the success probability of the Bernoulli trials. \n",
    "        \n",
    "        :param logit_p: The logit of the success probability.\n",
    "        :type logit_p: float\n",
    "        \n",
    "        :return: The gradient of the negative of the sum of \n",
    "                 the log-likelihood and the log-prior\n",
    "        :rtype: float\n",
    "        '''\n",
    "\n",
    "        # Compute the success probability p from logit(p)\n",
    "        p = np.exp(logit_p)/ (1.0 + np.exp(logit_p))\n",
    "        \n",
    "        # Compute the gradient of the log-prior with respect to p\n",
    "        dlog_prior = ((alpha-1.0)/p) - ((beta-1.0)/(1.0 - p))\n",
    "  \n",
    "        # Compute the gradient of the log-likelihood with respect to p\n",
    "        dlog_likelihood = (n_success/p) - ((n_trial-n_success)/(1.0-p))\n",
    "  \n",
    "        # Compute the gradient of the log-posterior with respect to p\n",
    "        dlog_posterior = dlog_likelihood + dlog_prior\n",
    "        \n",
    "        # Compute the gradient of the log-posterior with respect to logit(p)\n",
    "        dlog_posterior_logit =  dlog_posterior * p * (1.0-p)\n",
    "  \n",
    "        return -dlog_posterior_logit\n",
    "\n",
    "    return grad_neg_log_binomial_posterior"
   ]
  },
  {
   "cell_type": "markdown",
   "id": "40d39038",
   "metadata": {},
   "source": [
    "Now we specify the data and generate the callable functions which return the negative log-posterior and its gradient."
   ]
  },
  {
   "cell_type": "code",
   "execution_count": 4,
   "id": "263bdaec",
   "metadata": {},
   "outputs": [],
   "source": [
    "# Specify the sample size and the number of successes\n",
    "n_trial = 10\n",
    "n_success = 5\n",
    "\n",
    "# Specify the parameters of the prior\n",
    "alpha = 8\n",
    "beta = 2\n",
    "\n",
    "# Get the objective function to minimized\n",
    "neg_log_posterior = get_neg_log_binomial_posterior(n_trial, n_success, alpha, beta)\n",
    "\n",
    "# Get the gradient of the objective function to minimized\n",
    "grad_neg_log_posterior = get_grad_neg_log_binomial_posterior(n_trial, n_success, alpha, beta)\n",
    "\n",
    "# Construct an initial estimate for the optimal parameter.\n",
    "# We'll use the sample success proportion to do this (and take the logit)\n",
    "p0 = float(n_success)/float(n_trial)\n",
    "logit_p0 = np.log(p0/(1.0-p0))\n",
    "x0 = np.array([logit_p0])"
   ]
  },
  {
   "cell_type": "markdown",
   "id": "622d9449",
   "metadata": {},
   "source": [
    "Now minimize the negative log-posterior (equivalent to maximizing the log-posterior) using the scipy.optimize.minimize function and using the Broyden-Fletcher-Goldfarb-Shanno algorithm. We pass in the user-supplied gradient function using the 'jac' argument of the scipy.optimize.minimize function."
   ]
  },
  {
   "cell_type": "code",
   "execution_count": 5,
   "id": "b1d193e3",
   "metadata": {},
   "outputs": [
    {
     "name": "stdout",
     "output_type": "stream",
     "text": [
      "Optimization terminated successfully.\n",
      "         Current function value: 1.651160\n",
      "         Iterations: 5\n",
      "         Function evaluations: 6\n",
      "         Gradient evaluations: 6\n"
     ]
    }
   ],
   "source": [
    "map_estimate = minimize(neg_log_posterior, x0, method='BFGS', jac=grad_neg_log_posterior, options={'disp': True})"
   ]
  },
  {
   "cell_type": "markdown",
   "id": "91d39222",
   "metadata": {},
   "source": [
    "The algorithm has converged successfully using just a small number of function evaluations. Let's look at what is the MAP estimate for the value of $p$. It is very similar to the estimate we obtained when we just supplied the log-posterior function and the gradient calculationw were done internally and numerically by the scipy.optimize.minimize function, but in some cases the use of numerical gradient estimates can cause problems and so it is usually better to supply the exact gradient function where it is easy to do so."
   ]
  },
  {
   "cell_type": "code",
   "execution_count": 6,
   "id": "2a891007",
   "metadata": {},
   "outputs": [
    {
     "name": "stdout",
     "output_type": "stream",
     "text": [
      "MAP estimate of success probability =  0.6666666672677467\n"
     ]
    }
   ],
   "source": [
    "# Convert from logit(p) to p \n",
    "p_optimal = np.exp(map_estimate['x'][0])/ (1.0 + np.exp(map_estimate['x'][0]))\n",
    "print(\"MAP estimate of success probability = \", p_optimal)"
   ]
  },
  {
   "cell_type": "markdown",
   "id": "2018de84",
   "metadata": {},
   "source": [
    "## Q2 Maximum Likelihood estimate for a model of my coffee drinking habit\n",
    "\n",
    "The target variable here is a binary outcome $n_{i}$ which represents whether I drank coffee or tea on the $i^{th}$ morning of the dataset. $n_{i}=1$ means I drank coffee, whereas $n_{i}=0$ means I drank tea. We have $N=250$ observations in the dataset, so $i=1,2,\\ldots=250$. Also in the dataset is a variable $r_{i}$ which denotes whether it rained the night before. $r_{i}=1$ means it rained, where as $r_{i}=0$ means it didn't rain.\n",
    "\n",
    "Our model is a probabilistic one. It is a model of the probability, $p_{\\mathrm{coffee}}$, that I drink coffee in the morning, given the value of $r$. We use a very simple model for a linear predictor, and we will use a logit link function. So our model is,\n",
    "\n",
    "$\\mathrm{Prob}\\left( \\mathrm{Coffee} | r \\right ) \\;=\\; \\frac{\\exp \\left ( \\beta_{0} + r\\beta_{1} \\right )}{1 + \\exp \\left ( \\beta_{0} + r\\beta_{1} \\right )}$.\n",
    "\n",
    "Applying this model to calculate the log-likelihood of our dataset, we get the following formula for the log-likelihood,\n",
    "\n",
    "$\\mathrm{\\log-likelihood}\\;=\\;\\sum_{i=1}^{N}\\left [ n_{i}(\\beta_{0} + r_{i}\\beta_{1}) \\;-\\; \\log \\left ( 1 + \\exp ( \\beta_{0} + r_{i}\\beta_{1}) \\right ) \\right ]$.\n",
    "\n",
    "The gradient of this log-likelihood is given by the following formula,\n",
    "\n",
    "$\\frac{\\partial \\mathrm{log-likelihood}}{\\partial \\underline{\\beta}}\\;=\\;\\sum_{i=1}^{N}\\left [n_{i} -\\hat{p}_{i} \\right ]\\underline{x}_{i}$ ,\n",
    "\n",
    "where $x_{i} = (1, r_{i})$ and $\\hat{p}_{i} = \\exp(\\beta_{0} + r_{i}\\beta_{1}) / \\left [ 1 + \\exp(\\beta_{0} + r_{i}\\beta_{1}) \\right ]$.\n",
    "\n",
    "First, let's read in the raw data"
   ]
  },
  {
   "cell_type": "code",
   "execution_count": 7,
   "id": "dd0840f5",
   "metadata": {},
   "outputs": [],
   "source": [
    "# Read in the raw data\n",
    "df_coffee = pd.read_csv(\"../Data/coffee_or_tea.csv\")"
   ]
  },
  {
   "cell_type": "markdown",
   "id": "1243a75f",
   "metadata": {},
   "source": [
    "Now we'll define user-supplied functions for the negative-log-likelihood and its gradient with respect to the parameters of the linear predictor."
   ]
  },
  {
   "cell_type": "code",
   "execution_count": 8,
   "id": "2e80f575",
   "metadata": {},
   "outputs": [],
   "source": [
    "def get_neg_log_coffee_likelihood(df):\n",
    "    '''\n",
    "    A function to construct a callable that returns the negative of the \n",
    "    log-likelihood for a series of Bernoulli trials. \n",
    "    \n",
    "    :param df: A dataframe container the predictor features \n",
    "               and binary outcome variable. \n",
    "    :type df: A pandas dataframe\n",
    "    \n",
    "    :return: A callable that returns the negative of \n",
    "             the log-likelihood and takes the parameters \n",
    "             of the linear predictor as input.\n",
    "    :rtype: A callable\n",
    "    '''\n",
    "    \n",
    "    def neg_log_coffee_likelihood(beta):\n",
    "        '''\n",
    "        A function to compute the negative log-likelihood for \n",
    "        series of Bernoulli trials. \n",
    "        \n",
    "        The function is a function of the parameters of the linear predictor.\n",
    "        \n",
    "        We return the negative of the log-likelihood because we will use \n",
    "        scipy's inbuilt minimization algorithms. Recall, maximizing a \n",
    "        function is the same as minimizing the negative of the function.\n",
    "        \n",
    "        :param beta: The parameters of the linear predictor.\n",
    "        :type beta: A 1D numpy array \n",
    "        \n",
    "        :return: The negative of the log-likelihood\n",
    "        :rtype: float\n",
    "        '''\n",
    " \n",
    "        ## Compute the log-likelihood\n",
    "    \n",
    "        # Initialize the log-likelihood\n",
    "        log_likelihood = 0.0\n",
    "    \n",
    "        # Loop over the data points\n",
    "        for i in range(df.shape[0]):\n",
    "            # Calculate the linear predictor for the current observation\n",
    "            eta = beta[0] + beta[1]*df['rained'][i]\n",
    "            \n",
    "            # Update the log-likelihood\n",
    "            log_likelihood += (df['coffee'][i] * eta) - np.log(1.0 + np.exp(eta))\n",
    "  \n",
    "  \n",
    "        return -log_likelihood\n",
    "\n",
    "    return neg_log_coffee_likelihood"
   ]
  },
  {
   "cell_type": "code",
   "execution_count": 9,
   "id": "064bb73a",
   "metadata": {},
   "outputs": [],
   "source": [
    "def get_grad_neg_log_coffee_likelihood(df):\n",
    "    '''  \n",
    "    A function to construct a callable that returns the \n",
    "    negative of the gradient of the log-likelihood for \n",
    "    a series of Bernoulli trials. \n",
    "    \n",
    "    :param df: A dataframe container the predictor features \n",
    "               and binary outcome variable. \n",
    "    :type df: A pandas dataframe\n",
    "    \n",
    "    :return: A callable that returns the negative of \n",
    "             gradient of the log-likelihood \n",
    "             and takes the parameters of the linear \n",
    "             predictor as input.\n",
    "    :rtype: A callable\n",
    "    '''\n",
    "    \n",
    "    def grad_neg_log_coffee_likelihood(beta):\n",
    "        '''\n",
    "        A function to compute the gradient of the negative \n",
    "        log-likelihood for series of Bernoulli trials. \n",
    "        \n",
    "        The function is a function of the parameters of the linear predictor.\n",
    "                \n",
    "        :param beta: The parameters of the linear predictor.\n",
    "        :type beta: A 1D numpy array \n",
    "        \n",
    "        :return: The gradient of the negative of the log-likelihood\n",
    "        :rtype: float\n",
    "        '''\n",
    " \n",
    "        ## Compute the log-likelihood\n",
    "    \n",
    "        # Initialize the gradients\n",
    "        grad_log_likelihood = np.zeros(beta.shape[0])\n",
    "    \n",
    "        # Loop over the observations in the dataset\n",
    "        for i in range(df.shape[0]):\n",
    "            # Calculate the linear predictor for the current observation\n",
    "            eta = beta[0] + beta[1]*df['rained'][i]\n",
    "            \n",
    "            # Calculate the predicted probability of drinking coffee \n",
    "            # for the current observation\n",
    "            p_hat = np.exp(eta)/(1.0 + np.exp(eta))\n",
    "            \n",
    "            # Update the gradients\n",
    "            grad_log_likelihood[0] += (df['coffee'][i] - p_hat)\n",
    "            grad_log_likelihood[1] += df['rained'][i]*(df['coffee'][i] - p_hat)\n",
    "  \n",
    "  \n",
    "        return -grad_log_likelihood\n",
    "\n",
    "    return grad_neg_log_coffee_likelihood"
   ]
  },
  {
   "cell_type": "markdown",
   "id": "b20eb6af",
   "metadata": {},
   "source": [
    "Now we generate the callable functions which return the negative log-likelihood and its gradient. We'll also initialize the parameter estimates."
   ]
  },
  {
   "cell_type": "code",
   "execution_count": 10,
   "id": "ab7994aa",
   "metadata": {},
   "outputs": [],
   "source": [
    "# Get the objective function to minimized\n",
    "neg_log_coffee_likelihood = get_neg_log_coffee_likelihood(df_coffee)\n",
    "grad_neg_log_coffee_likelihood = get_grad_neg_log_coffee_likelihood(df_coffee)\n",
    "\n",
    "# Construct an initial estimate for the optimal parameters.\n",
    "# We'll keep it simple and initialize to beta_0 = 0.0 and beta_1 = 0.0\n",
    "# With this initialization there is an equal probability of drinking tea or coffee\n",
    "# for each of the observations.\n",
    "beta_init = np.array([0.0, 0.0])"
   ]
  },
  {
   "cell_type": "markdown",
   "id": "9e1b7fa3",
   "metadata": {},
   "source": [
    "Now let's minimize the negative log-likelihood (equivalent to maximizing the log-likelihood) using the scipy.optimize.minimize function and using the BFGS algorithm. We'll pass in our gradient function using the 'jac' argument of the scipy.optimize.minimize function."
   ]
  },
  {
   "cell_type": "code",
   "execution_count": 11,
   "id": "e40a7ad2",
   "metadata": {},
   "outputs": [
    {
     "name": "stdout",
     "output_type": "stream",
     "text": [
      "Optimization terminated successfully.\n",
      "         Current function value: 124.913211\n",
      "         Iterations: 7\n",
      "         Function evaluations: 9\n",
      "         Gradient evaluations: 9\n"
     ]
    }
   ],
   "source": [
    "max_like_estimate = minimize(neg_log_coffee_likelihood, beta_init, method='BFGS', jac=grad_neg_log_coffee_likelihood, options={'disp': True})"
   ]
  },
  {
   "cell_type": "markdown",
   "id": "47d71106",
   "metadata": {},
   "source": [
    "The minimization algorithm has converged. Let's look at the maximum likelihood estimates of the parameters."
   ]
  },
  {
   "cell_type": "code",
   "execution_count": 12,
   "id": "88789309",
   "metadata": {},
   "outputs": [
    {
     "data": {
      "text/plain": [
       "  message: Optimization terminated successfully.\n",
       "  success: True\n",
       "   status: 0\n",
       "      fun: 124.91321062082822\n",
       "        x: [-3.655e-01  2.150e+00]\n",
       "      nit: 7\n",
       "      jac: [ 7.073e-07  8.879e-07]\n",
       " hess_inv: [[ 4.976e-02 -4.946e-02]\n",
       "            [-4.946e-02  9.638e-02]]\n",
       "     nfev: 9\n",
       "     njev: 9"
      ]
     },
     "execution_count": 12,
     "metadata": {},
     "output_type": "execute_result"
    }
   ],
   "source": [
    "max_like_estimate"
   ]
  },
  {
   "cell_type": "markdown",
   "id": "cf5dec13",
   "metadata": {},
   "source": [
    "So we have maximum likelihood estimates of $\\hat{\\beta}_{0} = -0.3655$ and $\\hat{\\beta}_{1} = 2.150$. This means that when it hasn't rained the night before, the probability of me drinking coffee in the morning is $\\exp(-0.3655)/(1 + \\exp(-0.3655))\\;\\simeq\\;0.41$, i.e. about 41%. If it has rained, then that probability goes up to $\\exp(-0.3655 + 2.15) /(1 + \\exp(-0.3655 + 2.15)) \\;\\simeq\\; 0.86$, i.e. 86%."
   ]
  },
  {
   "cell_type": "markdown",
   "id": "aae215b2",
   "metadata": {},
   "source": [
    "## Q3 MAP estimate for a model of my coffee drinking habit\n",
    "\n",
    "We'll repeat the task of estimating $\\beta_{0}$ and $\\beta_{1}$ for my coffee probability model, but we'll now include a prior for each of the parameters and estimates $\\beta_{0}$ and $\\beta_{1}$ via MAP estimation. We'll use Gaussian priors for both $\\beta_{0}$ and $\\beta_{1}$, both with a mean of zero and a standard deviation of 1. This means, that in the absence of any data, the most probable model give a 50% chance of me drinking coffee in the morning, but the standard deviation of 1 means that we think there could be quite a wide range of variation in this prior probability of drinking coffee.\n",
    "\n",
    "For transparency, we'll just retype the same code when defininng functions that create the log-posterior and its gradient. We could have re-used the functions defined in Q2, but at the expense of making the code more opaque.\n",
    "\n",
    "First, we'll write code to generate functions that return the negative log-posterior and its gradient. "
   ]
  },
  {
   "cell_type": "code",
   "execution_count": 13,
   "id": "9adbc79b",
   "metadata": {},
   "outputs": [],
   "source": [
    "def get_neg_log_coffee_posterior(df, sigma_sq):\n",
    "    '''\n",
    "    A function to construct a callable that returns the negative of the \n",
    "    log-posterior for a series of Bernoulli trials. We have Gaussian priors, \n",
    "    with zero mean and user-defined variances.\n",
    "    \n",
    "    :param df: A dataframe container the predictor features \n",
    "               and binary outcome variable. \n",
    "    :type df: A pandas dataframe\n",
    "    \n",
    "    :param sigma_sq: The variances of the priors on the \n",
    "                     parameters of the linear predictor.\n",
    "    :type sigma_sq: A 1D numpy array\n",
    "    \n",
    "    :return: A callable that returns the negative of \n",
    "             the log-posterior and takes the parameters \n",
    "             of the linear predictor as input.\n",
    "    :rtype: A callable\n",
    "    '''    \n",
    "    \n",
    "    def neg_log_coffee_posterior(beta):\n",
    "        '''\n",
    "        A function to compute the negative log-posterior for \n",
    "        series of Bernoulli trials. \n",
    "        \n",
    "        The function is a function of the parameters of the linear predictor.\n",
    "        \n",
    "        We return the negative of the log-posterior because we will use \n",
    "        scipy's inbuilt minimization algorithms. Recall, maximizing a \n",
    "        function is the same as minimizing the negative of the function.\n",
    "        \n",
    "        :param beta: The parameters of the linear predictor.\n",
    "        :type beta: A 1D numpy array \n",
    "        \n",
    "        :return: The negative of the log-posterior\n",
    "        :rtype: float\n",
    "        '''        \n",
    "        \n",
    "        ## Compute the log-likelihood\n",
    "        log_likelihood = 0.0\n",
    "    \n",
    "        # Loop over the observations\n",
    "        for i in range(df.shape[0]):\n",
    "            # Compute the linear predictor for the current observation\n",
    "            eta = beta[0] + beta[1]*df['rained'][i]\n",
    "            \n",
    "            # Update the log-likelihood\n",
    "            log_likelihood += (df['coffee'][i] * eta) - np.log(1.0 + np.exp(eta))\n",
    "            \n",
    "        ## Compute the log-prior\n",
    "        log_prior = -0.5*np.log(2.0*np.pi*sigma_sq[0]) -0.5*np.log(2.0*np.pi*sigma_sq[1])\n",
    "        log_prior -= 0.5*np.power(beta[0], 2.0)/sigma_sq[0]\n",
    "        log_prior -= 0.5*np.power(beta[1], 2.0)/sigma_sq[1]\n",
    "        \n",
    "        ## Compute the log-posterior (up to a global constant)\n",
    "        log_posterior = log_likelihood + log_prior\n",
    "        \n",
    "        return -log_posterior\n",
    "    \n",
    "    return neg_log_coffee_posterior"
   ]
  },
  {
   "cell_type": "code",
   "execution_count": 14,
   "id": "420a0f81",
   "metadata": {},
   "outputs": [],
   "source": [
    "def get_grad_neg_log_coffee_posterior(df, sigma_sq):\n",
    "    '''\n",
    "    A function to construct a callable that returns the negative of the \n",
    "    gradient of the log-posterior for a series of Bernoulli trials. \n",
    "    We have Gaussian priors, with zero mean and user-defined variances.\n",
    "    \n",
    "    :param df: A dataframe container the predictor features \n",
    "               and binary outcome variable. \n",
    "    :type df: A pandas dataframe\n",
    "    \n",
    "    :param sigma_sq: The variances of the priors on the \n",
    "                     parameters of the linear predictor.\n",
    "    :type sigma_sq: A 1D numpy array\n",
    "    \n",
    "    :return: A callable that returns the negative of the \n",
    "             gradient of the log-posterior and takes the \n",
    "             parameters of the linear predictor as input.\n",
    "    :rtype: A callable\n",
    "    '''      \n",
    "    \n",
    "    def grad_neg_log_coffee_posterior(beta):\n",
    "        '''\n",
    "        A function to compute the gradient of the negative \n",
    "        log-posterior for series of Bernoulli trials. \n",
    "        \n",
    "        The function is a function of the parameters of the linear predictor.\n",
    "                \n",
    "        :param beta: The parameters of the linear predictor.\n",
    "        :type beta: A 1D numpy array \n",
    "        \n",
    "        :return: The gradient of the negative of the log-posterior\n",
    "        :rtype: float\n",
    "        '''             \n",
    "        \n",
    "        ## Compute the gradient of the log-posterior\n",
    "        \n",
    "        # Initialize the gradients\n",
    "        grad_log_posterior = np.zeros(beta.shape[0])\n",
    "        \n",
    "        # Loop over the observations\n",
    "        for i in range(df.shape[0]):\n",
    "            # Compute the linear predictor for the current observation\n",
    "            eta = beta[0] + beta[1]*df['rained'][i]\n",
    "            \n",
    "            # Compute the predicted probability for the current observation\n",
    "            p_hat = np.exp(eta)/(1.0 + np.exp(eta))\n",
    "            \n",
    "            # Update the gradients\n",
    "            grad_log_posterior[0] += (df['coffee'][i] - p_hat)\n",
    "            grad_log_posterior[1] += df['rained'][i]*(df['coffee'][i] - p_hat)\n",
    "            \n",
    "        ## Add the gradients from the log-prior\n",
    "        grad_log_posterior[0] -= beta[0]/sigma_sq[0]\n",
    "        grad_log_posterior[1] -= beta[1]/sigma_sq[1]\n",
    "        \n",
    "        return -grad_log_posterior\n",
    "    \n",
    "    return grad_neg_log_coffee_posterior"
   ]
  },
  {
   "cell_type": "markdown",
   "id": "5a00a13a",
   "metadata": {},
   "source": [
    "Now we generate the callable functions which return the negative log-posterior and its gradient. We'll also initialize the parameter estimates."
   ]
  },
  {
   "cell_type": "code",
   "execution_count": 15,
   "id": "4fbb5b5c",
   "metadata": {},
   "outputs": [],
   "source": [
    "# Initialize the variances for the priors\n",
    "sigma_sq = np.array([1.0, 1.0])\n",
    "\n",
    "# Get the objective function to minimized and its gradient function\n",
    "neg_log_coffee_posterior = get_neg_log_coffee_posterior(df_coffee, sigma_sq)\n",
    "grad_neg_log_coffee_posterior = get_grad_neg_log_coffee_posterior(df_coffee, sigma_sq)\n",
    "\n",
    "# Construct an initial estimate for the optimal parameters.\n",
    "# We'll keep it simple and initialize to beta_0 = 0.0 and beta_1 = 0.0\n",
    "# With this initialization there is an equal probability of drinking tea or coffee\n",
    "# for each of the observations.\n",
    "beta_init = np.array([0.0, 0.0])"
   ]
  },
  {
   "cell_type": "markdown",
   "id": "8b152bae",
   "metadata": {},
   "source": [
    "Now let's minimize the negative log-posterior (equivalent to maximizing the log-posterior) using the scipy.optimize.minimize function and using the BFGS algorithm. We'll pass in our gradient function using the 'jac' argument of the scipy.optimize.minimize function."
   ]
  },
  {
   "cell_type": "code",
   "execution_count": 16,
   "id": "66b7bab6",
   "metadata": {},
   "outputs": [
    {
     "name": "stdout",
     "output_type": "stream",
     "text": [
      "Optimization terminated successfully.\n",
      "         Current function value: 128.892618\n",
      "         Iterations: 7\n",
      "         Function evaluations: 9\n",
      "         Gradient evaluations: 9\n"
     ]
    }
   ],
   "source": [
    "map_estimate = minimize(neg_log_coffee_posterior, beta_init, method='BFGS', jac=grad_neg_log_coffee_posterior, options={'disp': True})"
   ]
  },
  {
   "cell_type": "markdown",
   "id": "92ad6b14",
   "metadata": {},
   "source": [
    "The minimization algorithm has converged. Let's look at the MAP estimates of the parameters."
   ]
  },
  {
   "cell_type": "code",
   "execution_count": 17,
   "id": "519198f6",
   "metadata": {},
   "outputs": [
    {
     "data": {
      "text/plain": [
       "  message: Optimization terminated successfully.\n",
       "  success: True\n",
       "   status: 0\n",
       "      fun: 128.8926178531159\n",
       "        x: [-2.565e-01  1.949e+00]\n",
       "      nit: 7\n",
       "      jac: [ 3.943e-06  3.899e-06]\n",
       " hess_inv: [[ 4.470e-02 -4.282e-02]\n",
       "            [-4.282e-02  8.337e-02]]\n",
       "     nfev: 9\n",
       "     njev: 9"
      ]
     },
     "execution_count": 17,
     "metadata": {},
     "output_type": "execute_result"
    }
   ],
   "source": [
    "map_estimate"
   ]
  },
  {
   "cell_type": "markdown",
   "id": "cbf1b394",
   "metadata": {},
   "source": [
    "So we have maximum likelihood estimates of $\\hat{\\beta}_{0} = -0.2565$ and $\\hat{\\beta}_{1} = 1.949$. This means that when it hasn't rained the night before, the probability of me drinking coffee in the morning is $\\exp(-0.2565)/(1 + \\exp(-0.2565))\\;\\simeq\\;0.44$, i.e. about 44%. If it has rained, then that probability goes up to $\\exp(-0.2565 + 1.949) /(1 + \\exp(-0.2565 + 1.949)) \\;\\simeq\\; 0.84$, i.e. 84%. The prior, which prefers values closer to zero has moved both $\\beta_{0}$ and $\\beta_{1}$ closer (in magnitude) to zero in comparison to the maximum likelihood estimates. Consequently, the MAP estimates for the probabilities of drinking coffee, for both rain and not rain, are closer to 0.5 in comparison to the maximum likelihood estimate. The influence of the prior is clear. We don't whether the variance of 1.0 we have chosen for the priors is appropriate or not. In practice, we could either leave the variances of the priors as model parameters and estimate via MAP estimation, or we could even consider them to be hyperparameters that we tune via cross-validation."
   ]
  },
  {
   "cell_type": "markdown",
   "id": "48de836b",
   "metadata": {},
   "source": [
    "## Q4 MCMC sampling for a model of my coffee drinking habit\n",
    "\n",
    "We'll keep the log-posterior function we generated in the previous question, but use it to draw samples from the posterior using the Metropolis-Hastings algorithm. First, we'll make some changes to the MCMC code example in the main text."
   ]
  },
  {
   "cell_type": "code",
   "execution_count": 18,
   "id": "a699470d",
   "metadata": {},
   "outputs": [],
   "source": [
    "def perform_mh_trial(beta, log_posterior, delta_beta, neg_log_posterior):\n",
    "    '''\n",
    "    Function to perform a Metropolis-Hastings trial move\n",
    "    \n",
    "    :param beta: The current value of the linear predictor parameters\n",
    "    :type beta: float\n",
    "    \n",
    "    :param log_posterior: The current log-posterior value\n",
    "    :type log_posterior: float\n",
    "    \n",
    "    :param delta_beta: The half-widths of the range from which the trial \n",
    "                       adjustments to beta are made\n",
    "    :type delta_beta: float\n",
    "    \n",
    "    :param neg_log_posterior: A callable that returns the negative of the log-posterior \n",
    "                              (up to a global constant) and takes the parameters of the\n",
    "                              linear predictor as input.\n",
    "    :type neg_log_posterior: A callable    \n",
    "       \n",
    "    :return: A tuple of the updated current logit(p) value and \n",
    "             current log-posterior value\n",
    "    :rtype: A tuple of floats\n",
    "    '''\n",
    "    accept_trial = False\n",
    "    beta_trial = beta + (delta_beta*(2.0*np.random.rand(beta.shape[0]) - 1.0))\n",
    "    \n",
    "    # Calculate the log-posterior for the trial point.\n",
    "    # Note we'll need to flip the sign of neg_log_posterior, as \n",
    "    # our callable returns the negative of the log-posterior.\n",
    "    log_posterior_trial = -neg_log_posterior(beta_trial)\n",
    "    \n",
    "    # Calculate the change in log-posterior if we move to the trial point\n",
    "    delta_log_posterior = log_posterior_trial - log_posterior\n",
    "        \n",
    "    # Work out if should accept the trial point\n",
    "    if delta_log_posterior > 0.0:\n",
    "        accept_trial = True\n",
    "    else:\n",
    "        if np.log(np.random.rand(1)) < delta_log_posterior:\n",
    "            accept_trial = True\n",
    "            \n",
    "    # If we accept the trial point then update the current value of the parameter and \n",
    "    # the log-posterior\n",
    "    if accept_trial==True:\n",
    "        beta = beta_trial\n",
    "        log_posterior = log_posterior_trial\n",
    "        \n",
    "    return beta, log_posterior\n",
    "\n",
    "def mh_mcmc(n_burnin, n_iter, beta_init, delta_beta, neg_log_posterior):\n",
    "    '''\n",
    "    A function to run a simple Metropolis-Hastings MCMC\n",
    "    calculation.\n",
    "    \n",
    "    :param n_burnin: The number of burnin iterations to be run\n",
    "    :type n_burnin: int\n",
    "    \n",
    "    :param n_iter: The number of sampling iterations to be run\n",
    "    :type n_iter: int\n",
    "    \n",
    "    :param beta_init: The starting value for beta\n",
    "    :type beta_init: float\n",
    "\n",
    "    :param delta_beta: The half-widths of the range from which the trial \n",
    "                       adjustments to beta are made\n",
    "    :type delta_beta: float\n",
    "    \n",
    "    :param neg_log_posterior: A callable that returns the negative of the log-posterior \n",
    "                              (up to a global constant) and takes the parameters of the\n",
    "                              linear predictor as input.\n",
    "    :type neg_log_posterior: A callable\n",
    "    \n",
    "    :return: An array of the sampled beta values\n",
    "    :rtype: A 1D numpy array of length n_iter\n",
    "    '''\n",
    "    \n",
    "    #Calculate starting log_posterior\n",
    "    beta = beta_init\n",
    "    log_posterior = -neg_log_posterior(beta)\n",
    "    \n",
    "    # Run the chain for the specified burn-in length\n",
    "    for iter in range(n_burnin):\n",
    "        beta, log_posterior = perform_mh_trial(beta, log_posterior, delta_beta, neg_log_posterior)\n",
    "        \n",
    "    # Initialize an empty array to hold the sampled parameter values\n",
    "    beta_chain = np.zeros((n_iter, beta_init.shape[0]))\n",
    "    \n",
    "    # Continue the chain for the specified number of sampling points\n",
    "    # Store the sampled parameter values\n",
    "    for iter in range(n_iter):\n",
    "        beta, log_posterior = perform_mh_trial(beta, log_posterior, delta_beta, neg_log_posterior)\n",
    "        beta_chain[iter, :] = beta\n",
    "        \n",
    "    return beta_chain    "
   ]
  },
  {
   "cell_type": "markdown",
   "id": "3b7b51ae",
   "metadata": {},
   "source": [
    "Now we'll run the MCMC calculation. We'll run a long burn-in period of 20000 iterations to be sure, and then we'll take 100000 samples. We'll start the chain from $\\beta_{0} = 0, \\beta_{1} = 0$. The trial step range will be 0.05 for both parameters. Running the MCMC chain can take several minutes."
   ]
  },
  {
   "cell_type": "code",
   "execution_count": 19,
   "id": "5dabb4cd",
   "metadata": {},
   "outputs": [],
   "source": [
    "# Set the seed for the random number generator\n",
    "np.random.seed(1729)\n",
    "\n",
    "# Run the MCMC calculation. This can take several minutes to run.\n",
    "beta_chain = mh_mcmc(n_burnin=20000, \n",
    "                     n_iter=100000, \n",
    "                     beta_init=np.array([0.0, 0.0]), \n",
    "                     delta_beta=np.array([0.05, 0.05]), \n",
    "                     neg_log_posterior=neg_log_coffee_posterior)"
   ]
  },
  {
   "cell_type": "markdown",
   "id": "d1ec3e74",
   "metadata": {},
   "source": [
    "Finally, we plot histograms of the posterior sampled parameter values. We'll also overlay the MAP estimates so we can see how close the maximum of the histograms compare to the MAP estimates."
   ]
  },
  {
   "cell_type": "code",
   "execution_count": 20,
   "id": "de69ad59",
   "metadata": {},
   "outputs": [
    {
     "data": {
      "image/png": "[encoded data removed]",
      "text/plain": [
       "<Figure size 640x480 with 1 Axes>"
      ]
     },
     "metadata": {},
     "output_type": "display_data"
    }
   ],
   "source": [
    "# Plot the histogram of posterior sampled beta_0 parameter\n",
    "# The red line is the MAP estimate value\n",
    "hist = plt.hist(beta_chain[:, 0], bins=60, density=True)\n",
    "plt.axvline(x = map_estimate['x'][0], color = 'r')\n",
    "plt.title(r'Histogram of MCMC samples for $\\beta_{0}$', fontsize=24)\n",
    "plt.xlabel(r'$\\beta_{0}$', fontsize=20)\n",
    "plt.ylabel('Probability Density', fontsize=20)\n",
    "plt.xticks(fontsize=14)\n",
    "plt.yticks(fontsize=14)\n",
    "plt.show()"
   ]
  },
  {
   "cell_type": "code",
   "execution_count": 21,
   "id": "68019f05",
   "metadata": {},
   "outputs": [
    {
     "data": {
      "image/png": "[encoded data removed]",
      "text/plain": [
       "<Figure size 640x480 with 1 Axes>"
      ]
     },
     "metadata": {},
     "output_type": "display_data"
    }
   ],
   "source": [
    "# Plot the histogram of posterior sampled beta_1 parameter\n",
    "# The red line is the MAP estimate value\n",
    "hist = plt.hist(beta_chain[:, 1], bins=60, density=True)\n",
    "plt.axvline(x = map_estimate['x'][1], color = 'r')\n",
    "plt.title(r'Histogram of MCMC samples for $\\beta_{1}$', fontsize=24)\n",
    "plt.xlabel(r'$\\beta_{1}$', fontsize=20)\n",
    "plt.ylabel('Probability Density', fontsize=20)\n",
    "plt.xticks(fontsize=14)\n",
    "plt.yticks(fontsize=14)\n",
    "plt.show()"
   ]
  }
 ],
 "metadata": {
  "kernelspec": {
   "display_name": "Python 3 (ipykernel)",
   "language": "python",
   "name": "python3"
  },
  "language_info": {
   "codemirror_mode": {
    "name": "ipython",
    "version": 3
   },
   "file_extension": ".py",
   "mimetype": "text/x-python",
   "name": "python",
   "nbconvert_exporter": "python",
   "pygments_lexer": "ipython3",
   "version": "3.11.5"
  }
 },
 "nbformat": 4,
 "nbformat_minor": 5
}
