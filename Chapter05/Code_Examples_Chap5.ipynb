{
 "cells": [
  {
   "cell_type": "code",
   "execution_count": 1,
   "id": "8656a25a",
   "metadata": {},
   "outputs": [],
   "source": [
    "import pandas as pd\n",
    "import numpy as np\n",
    "import matplotlib.pyplot as plt\n",
    "\n",
    "from scipy.special import loggamma\n",
    "from scipy.optimize import minimize"
   ]
  },
  {
   "cell_type": "markdown",
   "id": "3f31fad1",
   "metadata": {},
   "source": [
    "## MAP estimation\n",
    "\n",
    "We'll calculate the MAP estimate for the Binomial data we illustrated in Figure 5.2 . We have data from a series of Bernoulli trials. The likelihood only depends on the number of trials, the number of successes (number of heads for the example in Figure 5.2), and the success probability $p$. We'll use scipy's in-built optimization algorithms to maximize the posterior. We do this by minimizing the negative of the log-posterior. We only need to calculate the sum of the log-likelihood and the log-prior, since we can drop the normalizing constant from the log-posterior, as this does not depend upon the success probability. The parameter we maximize the log-posterior with respect to will actually be the logit of the success probability.\n",
    "\n",
    "First we'll define some functions to construct a callable python function that returns the negative log-posterior (up to a global constant)."
   ]
  },
  {
   "cell_type": "code",
   "execution_count": 2,
   "id": "227d850f",
   "metadata": {},
   "outputs": [],
   "source": [
    "def get_neg_log_binomial_posterior(n_trial, n_success, alpha, beta):\n",
    "    '''\n",
    "    A function to construct a callable that returns the negative of \n",
    "    the log-posterior for binomially distributed data, with a Beta \n",
    "    prior for the success probability of the Bernoulli trials. \n",
    "    \n",
    "    :param n_trial: The number of Bernoulli trials.\n",
    "    :type n_trial: int\n",
    "    \n",
    "    :param n_success: The number of successes.\n",
    "    :type n_success: int\n",
    "    \n",
    "    :param alpha: The alpha parameter of the Beta prior.\n",
    "    :type alpha: float\n",
    "    \n",
    "    :param beta: The beta parameter of the Beta prior.\n",
    "    :type beta: float\n",
    "    \n",
    "    :return: A callable that returns the negative of the log-posterior \n",
    "             (up to a global constant) and takes the logit of the success\n",
    "             probability logit(p) as input.\n",
    "    :rtype: A callable\n",
    "    '''\n",
    "    \n",
    "    def neg_log_binomial_posterior(logit_p):\n",
    "        '''\n",
    "        A function to compute the negative log-posterrior (up to a\n",
    "        global constant) for binomially distributed data, with a Beta \n",
    "        prior for the success probability of the Bernoulli trials. \n",
    "        \n",
    "        The function is a function of the logit of the success probability.\n",
    "        This is so the optimization algorithm can search between -infinity \n",
    "        and +infinity and still yield a valid success probability p that is \n",
    "        between 0 and 1. If we were to use p instead of logit(p) for our \n",
    "        parameter, we would have to perform a constrained optimization to \n",
    "        ensure we keep within [0,1]. The logit transformation is a \n",
    "        convenient way of doing this.\n",
    "        \n",
    "        We return the negative of the log-posterior because we will use \n",
    "        scipy's inbuilt minimization algorithms. Recall, maximizing a \n",
    "        function is the same as minimizing the negative of the function.\n",
    "        \n",
    "        :param logit_p: The logit of the success probability.\n",
    "        :type logit_p: float\n",
    "        \n",
    "        :return: The negative of the sum of the log-likelihood and the\n",
    "                 the log-prior\n",
    "        :rtype: float\n",
    "        '''\n",
    "\n",
    "        # Compute the success probability p from logit(p)\n",
    "        p = np.exp(logit_p)/ (1.0 + np.exp(logit_p))\n",
    "        \n",
    "        # Compute the log-prior\n",
    "        log_prior = loggamma(alpha + beta) - loggamma(alpha) - loggamma(beta) \n",
    "        log_prior += ((alpha-1.0)*np.log(p)) + ((beta-1.0)*np.log(1.0 - p))\n",
    "  \n",
    "        # Compute the log-likelihood\n",
    "        log_likelihood = loggamma(n_trial + 1.0) \n",
    "        log_likelihood -= loggamma(n_trial - n_success + 1.0) \n",
    "        log_likelihood -= loggamma(n_success + 1.0)\n",
    "        log_likelihood += (n_success*np.log(p)) \n",
    "        log_likelihood += ((n_trial-n_success)*np.log(1.0-p))\n",
    "  \n",
    "        # Compute the log-posterior, up to the global normalization\n",
    "        # factor, as the sum of the log prior and log-likelihood\n",
    "        log_posterior = log_likelihood + log_prior\n",
    "  \n",
    "        return -log_posterior\n",
    "\n",
    "    return neg_log_binomial_posterior\n",
    "    "
   ]
  },
  {
   "cell_type": "markdown",
   "id": "10cdb459",
   "metadata": {},
   "source": [
    "Now we'll set the data. In this example we'll use the values from left-hand panel of Figure 5.2 in the main text"
   ]
  },
  {
   "cell_type": "code",
   "execution_count": 3,
   "id": "6caeb298",
   "metadata": {},
   "outputs": [],
   "source": [
    "# Specify the sample size and the number of successes\n",
    "n_trial = 10\n",
    "n_success = 5\n",
    "\n",
    "# Specify the parameters of the prior\n",
    "alpha = 8\n",
    "beta = 2\n",
    "\n",
    "# Get the objective function to minimized\n",
    "neg_log_posterior = get_neg_log_binomial_posterior(n_trial, n_success, alpha, beta)\n",
    "\n",
    "# Construct an initial estimate for the optimal parameter.\n",
    "# We'll use the sample success proportion to do this (and take the logit)\n",
    "p0 = float(n_success)/float(n_trial)\n",
    "logit_p0 = np.log(p0/(1.0-p0))\n",
    "x0 = np.array([logit_p0])"
   ]
  },
  {
   "cell_type": "markdown",
   "id": "c0f98009",
   "metadata": {},
   "source": [
    "Now we'll do the minimization of the negative log-posterior using the scipy's implementation of the BFGS (Broyden-Fletcher-Goldfarb-Shanno) algorithm."
   ]
  },
  {
   "cell_type": "code",
   "execution_count": 4,
   "id": "25ac9ca3",
   "metadata": {},
   "outputs": [
    {
     "name": "stdout",
     "output_type": "stream",
     "text": [
      "Optimization terminated successfully.\n",
      "         Current function value: 1.651160\n",
      "         Iterations: 5\n",
      "         Function evaluations: 12\n",
      "         Gradient evaluations: 6\n"
     ]
    }
   ],
   "source": [
    "# Now minimize the negative log-posterior using trhe BFGS algorithm.\n",
    "# This uses a variant of gradient descent. It evaluates the gradient via \n",
    "# numerical differentiation, we only need to provide the objective function.\n",
    "# We can, if we want also supply code to evaluate the derivate of the objective \n",
    "# function with respect to the parameters we are optimizing if we felt that the\n",
    "# numerical differentiation was not sufficiently accurate.\n",
    "map_estimate = minimize(neg_log_posterior, x0, method='BFGS', options={'disp': True})"
   ]
  },
  {
   "cell_type": "markdown",
   "id": "43302972",
   "metadata": {},
   "source": [
    "Let's look at the map estimate value for the parameter "
   ]
  },
  {
   "cell_type": "code",
   "execution_count": 5,
   "id": "aee9dceb",
   "metadata": {},
   "outputs": [
    {
     "data": {
      "text/plain": [
       "  message: Optimization terminated successfully.\n",
       "  success: True\n",
       "   status: 0\n",
       "      fun: 1.6511598227791526\n",
       "        x: [ 6.931e-01]\n",
       "      nit: 5\n",
       "      jac: [ 2.980e-08]\n",
       " hess_inv: [[ 2.499e-01]]\n",
       "     nfev: 12\n",
       "     njev: 6"
      ]
     },
     "execution_count": 5,
     "metadata": {},
     "output_type": "execute_result"
    }
   ],
   "source": [
    "map_estimate"
   ]
  },
  {
   "cell_type": "markdown",
   "id": "12292045",
   "metadata": {},
   "source": [
    "We'll convert the MAP estimate for logit(p) to an estimate for p. We can see that the MAP estimate for $p$ is not 0.5, i.e. our prior is having a sufficient influence to make us think this is not a fair coin (if we use the MAP estimate)."
   ]
  },
  {
   "cell_type": "code",
   "execution_count": 6,
   "id": "82af189c",
   "metadata": {},
   "outputs": [
    {
     "name": "stdout",
     "output_type": "stream",
     "text": [
      "MAP estimate of success probability =  0.6666666638873496\n"
     ]
    }
   ],
   "source": [
    "# Convert from logit(p) to p \n",
    "p_optimal = np.exp(map_estimate['x'][0])/ (1.0 + np.exp(map_estimate['x'][0]))\n",
    "print(\"MAP estimate of success probability = \", p_optimal)"
   ]
  },
  {
   "cell_type": "markdown",
   "id": "c6d6098e",
   "metadata": {},
   "source": [
    "## Basic Metropolis-Hastings MCMC example\n",
    "\n",
    "We'll code up a very basic version of the Metropolis-Hastings algorithm, and use it to sample $logit(p)$ values from the posterior $P(\\log(p/(1-p)) | \\mathrm{Data})$. We sample $logit(p)$ values instead of values of $p$ because, for simplicity of this demonstration, we don't want to constrain the space from which our trial parameter values comes. This means we want to work with a parameter that lies in the range $-\\infty$ to $\\infty$, rather than in $[0,1]$. We do that by sampling $\\log(p/(1-p))$. This means we'll need to calculate the posterior for $\\log(p/(1-p))$, but we can do this using the rule for transforming probability distributions that we recapped in Chapter 1. Doing so gives $\\log P(\\log(p(1-p)) | \\mathrm{Data}) =  \\log P( p | \\mathrm{Data}) +\\log(p(1-p))$.\n",
    "\n",
    "First we'll define two functions; one to perform a single trial Metropolis-Hastings move, and one to run the Markov chain for a user-specified number of burn-in iterations followed by a user-specified number of sampling iterations"
   ]
  },
  {
   "cell_type": "code",
   "execution_count": 7,
   "id": "6b7f00c8",
   "metadata": {},
   "outputs": [],
   "source": [
    "def perform_mh_trial(x, log_post, delta_x, neg_log_posterior):\n",
    "    '''\n",
    "    Function to perform a Metropolis-Hastings trial move\n",
    "    \n",
    "    :param x: The current logit(p) value\n",
    "    :type x: float\n",
    "    \n",
    "    :param log_post: The current log-posterior value\n",
    "    :type log_post: float\n",
    "    \n",
    "    :param delta_x: The half-width of the range from which the trial \n",
    "                    adjustments to logit(p) are made\n",
    "    :type delta_x: float\n",
    "    \n",
    "    :param neg_log_posterior: A callable that returns the negative of the log-posterior \n",
    "                              (up to a global constant) and takes the logit of the success\n",
    "                              probability logit(p) as input.\n",
    "    :type neg_log_posterior: A callable\n",
    "    \n",
    "    :return: A tuple of the updated current logit(p) value and \n",
    "             current log-posterior value\n",
    "    :rtype: A tuple of floats\n",
    "    '''\n",
    "    accept_trial = False\n",
    "    x_trial = x + (delta_x*(2.0*np.random.rand(1) - 1.0))\n",
    "    p_trial = np.exp(x_trial)/(1.0 + np.exp(x_trial))\n",
    "    \n",
    "    # Calculate the log-posterior for the trial point.\n",
    "    # Note we'll need to flip the sign of neg_log_posterior, as \n",
    "    # our callable returns the negative of the log-posterior.\n",
    "    log_post_trial = -neg_log_posterior(x_trial) + np.log(p_trial*(1.0-p_trial))\n",
    "    \n",
    "    # Calculate the change in log-posterior if we move to the trial point\n",
    "    delta_log_post = log_post_trial - log_post\n",
    "        \n",
    "    # Work out if should accept the trial point\n",
    "    if delta_log_post > 0.0:\n",
    "        accept_trial = True\n",
    "    else:\n",
    "        if np.log(np.random.rand(1)) < delta_log_post:\n",
    "            accept_trial = True\n",
    "            \n",
    "    # If we accept the trial point then update the current value of the parameter and \n",
    "    # the log-posterior\n",
    "    if accept_trial==True:\n",
    "        x = x_trial\n",
    "        log_post = log_post_trial\n",
    "        \n",
    "    return x, log_post\n",
    "\n",
    "def mh_mcmc(n_burnin, n_iter, x0, delta_x, neg_log_posterior):\n",
    "    '''\n",
    "    A function to run a simple Metropolis-Hastings MCMC\n",
    "    calculation.\n",
    "    \n",
    "    :param n_burnin: The number of burnin iterations to be run\n",
    "    :type n_burnin: int\n",
    "    \n",
    "    :param n_iter: The number of sampling iterations to be run\n",
    "    :type n_iter: int\n",
    "    \n",
    "    :param x0: The starting value for logit(p)\n",
    "    :type x0: float\n",
    "\n",
    "    :param delta_x: The half-width of the range from which the trial \n",
    "                    adjustments to logit(p) are made\n",
    "    :type delta_x: float\n",
    "    \n",
    "    :param neg_log_posterior: A callable that returns the negative of the log-posterior \n",
    "                              (up to a global constant) and takes the logit of the success\n",
    "                              probability logit(p) as input.\n",
    "    :type neg_log_posterior: A callable\n",
    "    \n",
    "    :return: An array of the sampled logit(p) values\n",
    "    :rtype: A 1D numpy array of length n_iter\n",
    "    '''\n",
    "    \n",
    "    #Calculate starting log_posterior\n",
    "    x = x0\n",
    "    p0 = np.exp(x0)/(1.0 + np.exp(x0))\n",
    "    log_post = -neg_log_posterior(x) + np.log(p0*(1.0-p0))\n",
    "    \n",
    "    # Run the chain for the specified burn-in length\n",
    "    for iter in range(n_burnin):\n",
    "        x, log_post = perform_mh_trial(x, log_post, delta_x, neg_log_posterior)\n",
    "        \n",
    "    # Initialize an empty array to hold the sampled parameter values\n",
    "    x_chain = np.zeros(n_iter)\n",
    "    \n",
    "    # Continue the chain for the specified number of sampling points\n",
    "    # Store the sampled parameter values\n",
    "    for iter in range(n_iter):\n",
    "        x, log_post = perform_mh_trial(x, log_post, delta_x, neg_log_posterior)\n",
    "        x_chain[iter] = x\n",
    "        \n",
    "    return x_chain    "
   ]
  },
  {
   "cell_type": "markdown",
   "id": "fc72c1f9",
   "metadata": {},
   "source": [
    "Now we'll set the data. Again, in this example we'll use the values from left-hand panel of Figure 5.2 in the main text"
   ]
  },
  {
   "cell_type": "code",
   "execution_count": 8,
   "id": "d1238948",
   "metadata": {},
   "outputs": [],
   "source": [
    "# Specify the sample size and the number of successes\n",
    "n_trial = 10\n",
    "n_success = 5\n",
    "\n",
    "# Specify the parameters of the Beta prior\n",
    "alpha = 8\n",
    "beta = 2\n",
    "\n",
    "# Construct a starting point for the MCMC calculation.\n",
    "# We'll use the sample success proportion to do this (and take the logit)\n",
    "p0 = float(n_success)/float(n_trial)\n",
    "logit_p0 = np.log(p0/(1.0-p0))"
   ]
  },
  {
   "cell_type": "markdown",
   "id": "79dbd0bb",
   "metadata": {},
   "source": [
    "Now we'll run the MCMC calculation. We'll run a long burn-in period of 20000 iterations to be sure, and then we'll take 1million samples."
   ]
  },
  {
   "cell_type": "code",
   "execution_count": 9,
   "id": "b046b825",
   "metadata": {},
   "outputs": [],
   "source": [
    "# Run the MCMC calculation\n",
    "x_chain = mh_mcmc(n_burnin=20000, \n",
    "                  n_iter=1000000, \n",
    "                  x0=logit_p0, \n",
    "                  delta_x=0.1, \n",
    "                  neg_log_posterior=neg_log_posterior)"
   ]
  },
  {
   "cell_type": "markdown",
   "id": "664559a9",
   "metadata": {},
   "source": [
    "We'll convert the sample logit(p) values back to probabilities."
   ]
  },
  {
   "cell_type": "code",
   "execution_count": 10,
   "id": "1f4a4db9",
   "metadata": {},
   "outputs": [],
   "source": [
    "# Convert the MCMC sampled logit(p) values back to values of \n",
    "# the success probability\n",
    "p_mcmc = np.exp(x_chain)/ (1.0 + np.exp(x_chain))"
   ]
  },
  {
   "cell_type": "markdown",
   "id": "f056830f",
   "metadata": {},
   "source": [
    "Now we'll define a function to compute the posterior exactly. The Beta distribution is what is called a *conjugate prior*, meaning the posterior takes the same mathematical form as the prior (but with modified parameters). Since we know the mathematical form of the Beta distribution this means we can easily calculate the posterior in closed-form. We'll use the function to compute the true posterior value for a sequence of success probabilities.\n",
    "\n",
    "In most situations we are aren't so lucky that the posterior can be reduced to a simple formula that can be calculated in closed-form. In this case we can, and so we'll use it to compare how well our simple MCMC algorithm has worked in sampling from the true posterior. If the MCMC algorithm is good, then the sample of parameter values will have a distribution that is close to the true posterior. "
   ]
  },
  {
   "cell_type": "code",
   "execution_count": 11,
   "id": "8174539b",
   "metadata": {},
   "outputs": [],
   "source": [
    "def true_binomial_posterior(n_trial, n_success, alpha, beta, p):\n",
    "    \n",
    "    log_posterior = loggamma(n_trial + alpha + beta) - loggamma(n_success + alpha) - loggamma(n_trial - n_success + beta)\n",
    "    log_posterior += ((n_success + alpha - 1.0)*np.log(p)) + ((n_trial-n_success + beta -1.0)*np.log(1.0-p))\n",
    "    \n",
    "    posterior = np.exp(log_posterior)\n",
    "    \n",
    "    return posterior"
   ]
  },
  {
   "cell_type": "code",
   "execution_count": 12,
   "id": "8ea66e4d",
   "metadata": {},
   "outputs": [],
   "source": [
    "# Calculathe true posterior values for a sequence of \n",
    "# success probabilities\n",
    "p_sequence = np.arange(0.01, 0.99, 0.005)\n",
    "true_posterior_sequence = np.zeros(p_sequence.shape[0])\n",
    "\n",
    "for i in range(true_posterior_sequence.shape[0]):\n",
    "    true_posterior_sequence[i] = true_binomial_posterior(n_trial, n_success, alpha, beta, p_sequence[i])"
   ]
  },
  {
   "cell_type": "markdown",
   "id": "5615b06b",
   "metadata": {},
   "source": [
    "Now let's look at the histogram of the MCMC sampled success probabilities and compare it to the true posterior curve. The true posterior curve will be the same posterior curve that is shown in the left-hand panel of Figure 5.2 in the main text."
   ]
  },
  {
   "cell_type": "code",
   "execution_count": 13,
   "id": "52dcd1c9",
   "metadata": {},
   "outputs": [
    {
     "data": {
      "image/png": "[encoded data removed]",
      "text/plain": [
       "<Figure size 640x480 with 1 Axes>"
      ]
     },
     "metadata": {},
     "output_type": "display_data"
    }
   ],
   "source": [
    "# Plot the histogram of posterior sampled success probabilities\n",
    "# and overlay the true posterior distribution\n",
    "hist = plt.hist(p_mcmc, bins=100, density=True)\n",
    "posterior = plt.plot(p_sequence, true_posterior_sequence)\n",
    "plt.title('Histogram of MCMC samples', fontsize=24)\n",
    "plt.xlabel(r'$p$', fontsize=20)\n",
    "plt.ylabel('Probability Density', fontsize=20)\n",
    "plt.xticks(fontsize=14)\n",
    "plt.yticks(fontsize=14)\n",
    "plt.show()"
   ]
  }
 ],
 "metadata": {
  "kernelspec": {
   "display_name": "Python 3 (ipykernel)",
   "language": "python",
   "name": "python3"
  },
  "language_info": {
   "codemirror_mode": {
    "name": "ipython",
    "version": 3
   },
   "file_extension": ".py",
   "mimetype": "text/x-python",
   "name": "python",
   "nbconvert_exporter": "python",
   "pygments_lexer": "ipython3",
   "version": "3.11.5"
  }
 },
 "nbformat": 4,
 "nbformat_minor": 5
}
