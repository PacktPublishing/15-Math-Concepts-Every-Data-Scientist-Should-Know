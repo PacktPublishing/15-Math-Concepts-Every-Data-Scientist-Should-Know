{
 "cells": [
  {
   "cell_type": "code",
   "execution_count": 1,
   "id": "2407e4bf",
   "metadata": {},
   "outputs": [],
   "source": [
    "import numpy as np"
   ]
  },
  {
   "cell_type": "code",
   "execution_count": 2,
   "id": "104df9e6",
   "metadata": {},
   "outputs": [],
   "source": [
    "# Set the seed for the numpy random number generator.\n",
    "# This ensures that we get reproducible results\n",
    "np.random.seed(67129)"
   ]
  },
  {
   "cell_type": "markdown",
   "id": "2cba4ada",
   "metadata": {},
   "source": [
    "## Q1 Generating a sequence of states from a 2nd order Markov process\n",
    "\n",
    "We're going to generate a sequence from a 2nd order discrete Markov process. First of all we'll need to define our transition probability matrix. We'll use the one given in the text. It is non-square. We'll call this the longform of the transition probability matrix, because it is longer than it is wide."
   ]
  },
  {
   "cell_type": "code",
   "execution_count": 3,
   "id": "372578a2",
   "metadata": {},
   "outputs": [],
   "source": [
    "### Define our rate matrix\n",
    "rate_matrix_longform = np.array([[0.27, 0.33, 0.4],\n",
    "                                 [0.12, 0.67, 0.21],\n",
    "                                 [0.3, 0.3, 0.4],\n",
    "                                 [0.08, 0.56, 0.36],\n",
    "                                 [0.72, 0.19, 0.09],\n",
    "                                 [0.43, 0.27, 0.3],\n",
    "                                 [0.16, 0.16, 0.68],\n",
    "                                 [0.45, 0.45, 0.1],\n",
    "                                 [0.25, 0.38, 0.37]])"
   ]
  },
  {
   "cell_type": "markdown",
   "id": "7a572429",
   "metadata": {},
   "source": [
    "Since we're going to want to generate lots of sequences in Q2 we'll define a function to generate a sequence which we can call multiple times. We'll pass the transition rate matrix, and the starting states of the sequence into this function. The function will loop through the positions in the state sequence, each time picking the row in the transition probability matrix corresponding to the preceding two states in the sequence and then using the probability distribution in that row to sample the next state in the sequence."
   ]
  },
  {
   "cell_type": "code",
   "execution_count": 4,
   "id": "65d38ad1",
   "metadata": {},
   "outputs": [],
   "source": [
    "# Define function to sample a state sequence\n",
    "def generate_state_sequence(rate_matrix, seq_len, state0=0, state1=0):\n",
    "    '''\n",
    "    Function to generate a state sequence of a specified length\n",
    "    given the rate matrix and the first two states of the sequence\n",
    "    \n",
    "    :param rate_matrix: The transition probability matrix for \n",
    "                        our 2nd order Markov process.\n",
    "    :type rate_matrix: A numpy array of shape (n_state**2, n_state)\n",
    "                       where n_state is the number of possible state values.\n",
    "                       \n",
    "    :param seq_len: The length of the state sequence to be generated.\n",
    "    :type seq_len: int\n",
    "    \n",
    "    :param state0: The state value of the first state in the sequence.\n",
    "    :type state0: int\n",
    "    \n",
    "    :param state1: The state value of the second state in the sequence.\n",
    "    :type state1: int\n",
    "    \n",
    "    :return: The sampled state sequence.\n",
    "    :rtype: A numpy array of integers.\n",
    "    '''\n",
    "\n",
    "    # Extract the number of state values\n",
    "    n_state = rate_matrix.shape[1]\n",
    "    \n",
    "    # Initialize the state sequence and populate the first \n",
    "    # two state values\n",
    "    state_sequence = np.full(seq_len, 0, dtype=np.int16)\n",
    "    state_sequence[0] = state0\n",
    "    state_sequence[1] = state1\n",
    "\n",
    "    # Loop over the remaining positions (timepoints) along the sequence\n",
    "    for idx in range(2, seq_len):\n",
    "        # Calculate which row of the transition rate matrix we need\n",
    "        l = n_state*state_sequence[idx-2] + state_sequence[idx-1]\n",
    "        \n",
    "        # Sample from the probability distribution in the selected row \n",
    "        # of the transition probability matrix\n",
    "        state_sequence[idx] = np.random.choice(a=np.arange(start=0,stop=n_state,step=1), p=rate_matrix_longform[l,:])\n",
    "\n",
    "    return state_sequence"
   ]
  },
  {
   "cell_type": "markdown",
   "id": "712ae977",
   "metadata": {},
   "source": [
    "Now we'll call the function to generate a 200 length sequence"
   ]
  },
  {
   "cell_type": "code",
   "execution_count": 5,
   "id": "a84c2429",
   "metadata": {},
   "outputs": [
    {
     "name": "stdout",
     "output_type": "stream",
     "text": [
      "[0 0 0 2 1 2 1 2 1 1 0 1 1 0 1 1 2 0 2 0]\n"
     ]
    }
   ],
   "source": [
    "# Call our state sequence generating function\n",
    "state_sequence = generate_state_sequence(rate_matrix_longform, seq_len = 200)\n",
    "\n",
    "# Print the first 20 state values\n",
    "print(state_sequence[0:20])"
   ]
  },
  {
   "cell_type": "markdown",
   "id": "95e6d125",
   "metadata": {},
   "source": [
    "## Q2 Estimate the limiting distribution\n",
    "\n",
    "We'll generate 10000 sequences of length 200 using our function defined in Q1. We'll sample the first two states of each sequence independently from the uniform distribution. From each generated sequence we'll record the final state of the sequence and we'll consider this as a sample from the limiting distribution. Once we have our 10000 quasi-samples of state from the limiting distribution estimating the limiting distribution is just a case of calculating the proportions the different state values in our 10000 samples."
   ]
  },
  {
   "cell_type": "code",
   "execution_count": 6,
   "id": "13a8b42f",
   "metadata": {},
   "outputs": [
    {
     "name": "stdout",
     "output_type": "stream",
     "text": [
      "Generating sequence  0\n",
      "Generating sequence  500\n",
      "Generating sequence  1000\n",
      "Generating sequence  1500\n",
      "Generating sequence  2000\n",
      "Generating sequence  2500\n",
      "Generating sequence  3000\n",
      "Generating sequence  3500\n",
      "Generating sequence  4000\n",
      "Generating sequence  4500\n",
      "Generating sequence  5000\n",
      "Generating sequence  5500\n",
      "Generating sequence  6000\n",
      "Generating sequence  6500\n",
      "Generating sequence  7000\n",
      "Generating sequence  7500\n",
      "Generating sequence  8000\n",
      "Generating sequence  8500\n",
      "Generating sequence  9000\n",
      "Generating sequence  9500\n",
      " \n",
      "The estimate of the limiting distribution:\n",
      "[0.3027 0.3826 0.3147]\n"
     ]
    }
   ],
   "source": [
    "# Set the number of sequences we want to generate\n",
    "n_sequence = 10000\n",
    "\n",
    "# Set the sequence length required\n",
    "seq_len = 200\n",
    "\n",
    "# Extract the number of possible state values\n",
    "n_state = rate_matrix_longform.shape[1]\n",
    "\n",
    "# Initialize an array to count the occurrences of \n",
    "# each end state value\n",
    "end_state_counts = np.zeros(n_state)\n",
    "\n",
    "# Loop over the generated sequences\n",
    "for i in range(n_sequence):\n",
    "    \n",
    "    # Print out progress, as this could take a while\n",
    "    if i % 500 == 0:\n",
    "        print(\"Generating sequence \" , i)\n",
    "        \n",
    "    # Generate the starting states of the sequence\n",
    "    state0 = np.random.randint(low=0, high=n_state)\n",
    "    state1 = np.random.randint(low=0, high=n_state)\n",
    "    sequence = generate_state_sequence(rate_matrix=rate_matrix_longform, seq_len=seq_len, state0=state0, state1=state1)\n",
    "    \n",
    "    # Extract the end state value of the generated sequence and update \n",
    "    # the corresponding count\n",
    "    end_state_counts[sequence[seq_len-1]] += 1.0\n",
    "\n",
    "# Now convert the end-state counts to proportions and \n",
    "# print out the result\n",
    "print(\" \")\n",
    "print(\"The estimate of the limiting distribution:\")\n",
    "print(end_state_counts/n_sequence)"
   ]
  },
  {
   "cell_type": "markdown",
   "id": "33692818",
   "metadata": {},
   "source": [
    "## Q3 Finding the stationary distribution"
   ]
  },
  {
   "cell_type": "code",
   "execution_count": 7,
   "id": "4e30f385",
   "metadata": {},
   "outputs": [],
   "source": [
    "## First we'll convert our transition probability matrix \n",
    "## into square form\n",
    "\n",
    "# Extract the number of possible state values\n",
    "n_state = rate_matrix_longform.shape[1]\n",
    "\n",
    "rate_matrix_square = np.zeros((n_state**2,n_state**2))\n",
    "\n",
    "for i in range(n_state):\n",
    "    for j in range(n_state):\n",
    "        for k in range(n_state):\n",
    "            l = i*n_state + j\n",
    "            l_prime = j*n_state + k\n",
    "            rate_matrix_square[l,l_prime] = rate_matrix_longform[l,k]"
   ]
  },
  {
   "cell_type": "markdown",
   "id": "8b8e8058",
   "metadata": {},
   "source": [
    "Let's check what the rate matrix looks like to check that it is as we expect."
   ]
  },
  {
   "cell_type": "code",
   "execution_count": 8,
   "id": "e3b0da03",
   "metadata": {},
   "outputs": [
    {
     "data": {
      "text/plain": [
       "array([[0.27, 0.33, 0.4 , 0.  , 0.  , 0.  , 0.  , 0.  , 0.  ],\n",
       "       [0.  , 0.  , 0.  , 0.12, 0.67, 0.21, 0.  , 0.  , 0.  ],\n",
       "       [0.  , 0.  , 0.  , 0.  , 0.  , 0.  , 0.3 , 0.3 , 0.4 ],\n",
       "       [0.08, 0.56, 0.36, 0.  , 0.  , 0.  , 0.  , 0.  , 0.  ],\n",
       "       [0.  , 0.  , 0.  , 0.72, 0.19, 0.09, 0.  , 0.  , 0.  ],\n",
       "       [0.  , 0.  , 0.  , 0.  , 0.  , 0.  , 0.43, 0.27, 0.3 ],\n",
       "       [0.16, 0.16, 0.68, 0.  , 0.  , 0.  , 0.  , 0.  , 0.  ],\n",
       "       [0.  , 0.  , 0.  , 0.45, 0.45, 0.1 , 0.  , 0.  , 0.  ],\n",
       "       [0.  , 0.  , 0.  , 0.  , 0.  , 0.  , 0.25, 0.38, 0.37]])"
      ]
     },
     "execution_count": 8,
     "metadata": {},
     "output_type": "execute_result"
    }
   ],
   "source": [
    "rate_matrix_square"
   ]
  },
  {
   "cell_type": "markdown",
   "id": "547e455f",
   "metadata": {},
   "source": [
    "Now we'll calculate the left eigenvectors and eigenvalues of the square rate matrix"
   ]
  },
  {
   "cell_type": "code",
   "execution_count": 9,
   "id": "0fd2ae38",
   "metadata": {},
   "outputs": [],
   "source": [
    "# Calculate the left eigenvectors and eigenvalues of the square rate matrix\n",
    "# We'll do this by calculating the right eigenvectors (and eigenvalues) of the transpose \n",
    "# of our square rate matrix\n",
    "rate_eigen_2nd_order = np.linalg.eig(np.transpose(rate_matrix_square))"
   ]
  },
  {
   "cell_type": "markdown",
   "id": "7e0d5139",
   "metadata": {},
   "source": [
    "Now look at the eigenvalues we've just computed"
   ]
  },
  {
   "cell_type": "code",
   "execution_count": 10,
   "id": "80313cb6",
   "metadata": {},
   "outputs": [
    {
     "data": {
      "text/plain": [
       "array([ 1.        +0.j        , -0.25149675+0.52394605j,\n",
       "       -0.25149675-0.52394605j, -0.28060319+0.j        ,\n",
       "        0.3240332 +0.j        ,  0.23321847+0.j        ,\n",
       "        0.18002103+0.j        , -0.061838  +0.08168315j,\n",
       "       -0.061838  -0.08168315j])"
      ]
     },
     "execution_count": 10,
     "metadata": {},
     "output_type": "execute_result"
    }
   ],
   "source": [
    "rate_eigen_2nd_order[0]"
   ]
  },
  {
   "cell_type": "markdown",
   "id": "839ff504",
   "metadata": {},
   "source": [
    "We can see the first eigenvalue is 1, indicating a stationary distribution, so we'll extract the corresponding eigenvector and normalize it so that its elements sum to 1. This will be our estimate of the stationary distribution. "
   ]
  },
  {
   "cell_type": "code",
   "execution_count": 11,
   "id": "465df85b",
   "metadata": {},
   "outputs": [],
   "source": [
    "# Extract the first eigenvector (we can drop the zero imaginary part)\n",
    "stationary_distribution_composite = np.real(rate_eigen_2nd_order[1][:,0])\n",
    "\n",
    "# Rescale the vector so its elements sum to 1\n",
    "stationary_distribution_composite /=np.sum(stationary_distribution_composite)"
   ]
  },
  {
   "cell_type": "code",
   "execution_count": 12,
   "id": "2ced7936",
   "metadata": {},
   "outputs": [
    {
     "data": {
      "text/plain": [
       "array([0.03956221, 0.12589135, 0.14206479, 0.1749071 , 0.15957343,\n",
       "       0.05077819, 0.09304905, 0.09979393, 0.11437996])"
      ]
     },
     "execution_count": 12,
     "metadata": {},
     "output_type": "execute_result"
    }
   ],
   "source": [
    "stationary_distribution_composite"
   ]
  },
  {
   "cell_type": "markdown",
   "id": "227477e9",
   "metadata": {},
   "source": [
    "This looks a bit strange. It doesn't look like the limiting distribution we estimated in Q2. This is because our estimate of the stationary distribution is for our composite states $ij$. We need to sum up over all the values of $i$. We'll do that summation by creating an 9x3 matrix and using matrix multiplication "
   ]
  },
  {
   "cell_type": "code",
   "execution_count": 13,
   "id": "83b114ae",
   "metadata": {},
   "outputs": [],
   "source": [
    "# Add up over all values $i$ from the composite stationary distribution elements indexed by $ij$.  \n",
    "s_matrix = np.vstack((np.identity(n_state), np.identity(n_state), np.identity(n_state)))\n",
    "stationary_distribution = np.matmul(stationary_distribution_composite, s_matrix)"
   ]
  },
  {
   "cell_type": "code",
   "execution_count": 14,
   "id": "2e980155",
   "metadata": {},
   "outputs": [
    {
     "data": {
      "text/plain": [
       "array([0.30751836, 0.38525871, 0.30722293])"
      ]
     },
     "execution_count": 14,
     "metadata": {},
     "output_type": "execute_result"
    }
   ],
   "source": [
    "stationary_distribution"
   ]
  },
  {
   "cell_type": "markdown",
   "id": "487fd8ea",
   "metadata": {},
   "source": [
    "To double check, it shouldn't matter whether we add up over all the values of $i$ in the composite state probabilities $\\pi_{ij}$ or whether we add up over all the values of $j$. We should get the same estimate for our stationary distribution, so let's calculate it this second way"
   ]
  },
  {
   "cell_type": "code",
   "execution_count": 15,
   "id": "4c476e71",
   "metadata": {},
   "outputs": [
    {
     "data": {
      "text/plain": [
       "array([0.30751836, 0.38525871, 0.30722293])"
      ]
     },
     "execution_count": 15,
     "metadata": {},
     "output_type": "execute_result"
    }
   ],
   "source": [
    "np.matmul(np.transpose(s_matrix), stationary_distribution_composite)"
   ]
  },
  {
   "cell_type": "markdown",
   "id": "81e335e0",
   "metadata": {},
   "source": [
    "Yes, we get the same estimate for the stationary distribution. We can also see that the estimate of the stationary distribution is the same as our estimate of the limiting distribution (to within the numerical precision with which we have estimated the limiting distribution). "
   ]
  }
 ],
 "metadata": {
  "kernelspec": {
   "display_name": "Python 3 (ipykernel)",
   "language": "python",
   "name": "python3"
  },
  "language_info": {
   "codemirror_mode": {
    "name": "ipython",
    "version": 3
   },
   "file_extension": ".py",
   "mimetype": "text/x-python",
   "name": "python",
   "nbconvert_exporter": "python",
   "pygments_lexer": "ipython3",
   "version": "3.11.5"
  }
 },
 "nbformat": 4,
 "nbformat_minor": 5
}
