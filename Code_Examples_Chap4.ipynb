{
 "cells": [
  {
   "cell_type": "code",
   "execution_count": 1,
   "id": "8656a25a",
   "metadata": {},
   "outputs": [],
   "source": [
    "import pandas as pd\n",
    "import numpy as np\n",
    "import matplotlib.pyplot as plt\n",
    "import statsmodels.formula.api as smf"
   ]
  },
  {
   "cell_type": "markdown",
   "id": "35333cf0",
   "metadata": {},
   "source": [
    "## OLS regression for power plant output\n",
    "\n",
    "The data in the file Data/power_plant_output.csv in the github repository contains measurements of the power output from electricity generation plants. The power (PE) is generated from a combination of gas turbines, steam turbines, and heat recovery steam generators, and so is affected by environmental factors in which the turbines operate, such as the ambient temperature (AT) and the steam turbine exhaust vacuum level (V). The dataset consists of 9568 observations of the PE, AT and V values. The data is a subset of the publicly available dataset held in the [UCI Machine Learning Repository](https://archive.ics.uci.edu/ml/index.php). The original data can be found at [Combined Cycle Power Plant Data Set](https://archive.ics.uci.edu/ml/datasets/Combined+Cycle+Power+Plant). "
   ]
  },
  {
   "cell_type": "code",
   "execution_count": 2,
   "id": "9cb0e943",
   "metadata": {},
   "outputs": [],
   "source": [
    "# Read in the raw data\n",
    "df = pd.read_csv(\"./Data/power_plant_output.csv\")"
   ]
  },
  {
   "cell_type": "markdown",
   "id": "f714f7a5",
   "metadata": {},
   "source": [
    "We'll take a quick look at the data. First we'll look at a few rows of data"
   ]
  },
  {
   "cell_type": "code",
   "execution_count": 3,
   "id": "fb6cf3d2",
   "metadata": {},
   "outputs": [
    {
     "data": {
      "text/html": [
       "<div>\n",
       "<style scoped>\n",
       "    .dataframe tbody tr th:only-of-type {\n",
       "        vertical-align: middle;\n",
       "    }\n",
       "\n",
       "    .dataframe tbody tr th {\n",
       "        vertical-align: top;\n",
       "    }\n",
       "\n",
       "    .dataframe thead th {\n",
       "        text-align: right;\n",
       "    }\n",
       "</style>\n",
       "<table border=\"1\" class=\"dataframe\">\n",
       "  <thead>\n",
       "    <tr style=\"text-align: right;\">\n",
       "      <th></th>\n",
       "      <th>AT</th>\n",
       "      <th>V</th>\n",
       "      <th>PE</th>\n",
       "    </tr>\n",
       "  </thead>\n",
       "  <tbody>\n",
       "    <tr>\n",
       "      <th>0</th>\n",
       "      <td>14.96</td>\n",
       "      <td>41.76</td>\n",
       "      <td>463.26</td>\n",
       "    </tr>\n",
       "    <tr>\n",
       "      <th>1</th>\n",
       "      <td>25.18</td>\n",
       "      <td>62.96</td>\n",
       "      <td>444.37</td>\n",
       "    </tr>\n",
       "    <tr>\n",
       "      <th>2</th>\n",
       "      <td>5.11</td>\n",
       "      <td>39.40</td>\n",
       "      <td>488.56</td>\n",
       "    </tr>\n",
       "    <tr>\n",
       "      <th>3</th>\n",
       "      <td>20.86</td>\n",
       "      <td>57.32</td>\n",
       "      <td>446.48</td>\n",
       "    </tr>\n",
       "    <tr>\n",
       "      <th>4</th>\n",
       "      <td>10.82</td>\n",
       "      <td>37.50</td>\n",
       "      <td>473.90</td>\n",
       "    </tr>\n",
       "    <tr>\n",
       "      <th>5</th>\n",
       "      <td>26.27</td>\n",
       "      <td>59.44</td>\n",
       "      <td>443.67</td>\n",
       "    </tr>\n",
       "    <tr>\n",
       "      <th>6</th>\n",
       "      <td>15.89</td>\n",
       "      <td>43.96</td>\n",
       "      <td>467.35</td>\n",
       "    </tr>\n",
       "    <tr>\n",
       "      <th>7</th>\n",
       "      <td>9.48</td>\n",
       "      <td>44.71</td>\n",
       "      <td>478.42</td>\n",
       "    </tr>\n",
       "    <tr>\n",
       "      <th>8</th>\n",
       "      <td>14.64</td>\n",
       "      <td>45.00</td>\n",
       "      <td>475.98</td>\n",
       "    </tr>\n",
       "    <tr>\n",
       "      <th>9</th>\n",
       "      <td>11.74</td>\n",
       "      <td>43.56</td>\n",
       "      <td>477.50</td>\n",
       "    </tr>\n",
       "  </tbody>\n",
       "</table>\n",
       "</div>"
      ],
      "text/plain": [
       "      AT      V      PE\n",
       "0  14.96  41.76  463.26\n",
       "1  25.18  62.96  444.37\n",
       "2   5.11  39.40  488.56\n",
       "3  20.86  57.32  446.48\n",
       "4  10.82  37.50  473.90\n",
       "5  26.27  59.44  443.67\n",
       "6  15.89  43.96  467.35\n",
       "7   9.48  44.71  478.42\n",
       "8  14.64  45.00  475.98\n",
       "9  11.74  43.56  477.50"
      ]
     },
     "execution_count": 3,
     "metadata": {},
     "output_type": "execute_result"
    }
   ],
   "source": [
    "# Look at the first 10 rows\n",
    "df.head(10)"
   ]
  },
  {
   "cell_type": "markdown",
   "id": "13d8a4bf",
   "metadata": {},
   "source": [
    "Next we'll look at summary statistics for the data. We'll use the pandas in-built describe function for this."
   ]
  },
  {
   "cell_type": "code",
   "execution_count": 4,
   "id": "1ccbe5b8",
   "metadata": {},
   "outputs": [
    {
     "data": {
      "text/html": [
       "<div>\n",
       "<style scoped>\n",
       "    .dataframe tbody tr th:only-of-type {\n",
       "        vertical-align: middle;\n",
       "    }\n",
       "\n",
       "    .dataframe tbody tr th {\n",
       "        vertical-align: top;\n",
       "    }\n",
       "\n",
       "    .dataframe thead th {\n",
       "        text-align: right;\n",
       "    }\n",
       "</style>\n",
       "<table border=\"1\" class=\"dataframe\">\n",
       "  <thead>\n",
       "    <tr style=\"text-align: right;\">\n",
       "      <th></th>\n",
       "      <th>AT</th>\n",
       "      <th>V</th>\n",
       "      <th>PE</th>\n",
       "    </tr>\n",
       "  </thead>\n",
       "  <tbody>\n",
       "    <tr>\n",
       "      <th>count</th>\n",
       "      <td>9568.000000</td>\n",
       "      <td>9568.000000</td>\n",
       "      <td>9568.000000</td>\n",
       "    </tr>\n",
       "    <tr>\n",
       "      <th>mean</th>\n",
       "      <td>19.651231</td>\n",
       "      <td>54.305804</td>\n",
       "      <td>454.365009</td>\n",
       "    </tr>\n",
       "    <tr>\n",
       "      <th>std</th>\n",
       "      <td>7.452473</td>\n",
       "      <td>12.707893</td>\n",
       "      <td>17.066995</td>\n",
       "    </tr>\n",
       "    <tr>\n",
       "      <th>min</th>\n",
       "      <td>1.810000</td>\n",
       "      <td>25.360000</td>\n",
       "      <td>420.260000</td>\n",
       "    </tr>\n",
       "    <tr>\n",
       "      <th>25%</th>\n",
       "      <td>13.510000</td>\n",
       "      <td>41.740000</td>\n",
       "      <td>439.750000</td>\n",
       "    </tr>\n",
       "    <tr>\n",
       "      <th>50%</th>\n",
       "      <td>20.345000</td>\n",
       "      <td>52.080000</td>\n",
       "      <td>451.550000</td>\n",
       "    </tr>\n",
       "    <tr>\n",
       "      <th>75%</th>\n",
       "      <td>25.720000</td>\n",
       "      <td>66.540000</td>\n",
       "      <td>468.430000</td>\n",
       "    </tr>\n",
       "    <tr>\n",
       "      <th>max</th>\n",
       "      <td>37.110000</td>\n",
       "      <td>81.560000</td>\n",
       "      <td>495.760000</td>\n",
       "    </tr>\n",
       "  </tbody>\n",
       "</table>\n",
       "</div>"
      ],
      "text/plain": [
       "                AT            V           PE\n",
       "count  9568.000000  9568.000000  9568.000000\n",
       "mean     19.651231    54.305804   454.365009\n",
       "std       7.452473    12.707893    17.066995\n",
       "min       1.810000    25.360000   420.260000\n",
       "25%      13.510000    41.740000   439.750000\n",
       "50%      20.345000    52.080000   451.550000\n",
       "75%      25.720000    66.540000   468.430000\n",
       "max      37.110000    81.560000   495.760000"
      ]
     },
     "execution_count": 4,
     "metadata": {},
     "output_type": "execute_result"
    }
   ],
   "source": [
    "# Use pd.describe() to get the summary statistics of the data\n",
    "df.describe()"
   ]
  },
  {
   "cell_type": "markdown",
   "id": "a7866d31",
   "metadata": {},
   "source": [
    "We'll check to see if any of the columns have missing values"
   ]
  },
  {
   "cell_type": "code",
   "execution_count": 5,
   "id": "0167e555",
   "metadata": {},
   "outputs": [
    {
     "data": {
      "text/plain": [
       "AT    0\n",
       "V     0\n",
       "PE    0\n",
       "dtype: int64"
      ]
     },
     "execution_count": 5,
     "metadata": {},
     "output_type": "execute_result"
    }
   ],
   "source": [
    "df.isna().sum(axis = 0)"
   ]
  },
  {
   "cell_type": "markdown",
   "id": "775b44dd",
   "metadata": {},
   "source": [
    "Next we'll do a quick visual inspection of the relationships between the response variable, PE, and the various features. We'll do that simply through a series of scatter plots."
   ]
  },
  {
   "cell_type": "code",
   "execution_count": 6,
   "id": "fc1757b4",
   "metadata": {},
   "outputs": [
    {
     "data": {
      "image/png": "[encoded data removed]",
      "text/plain": [
       "<Figure size 432x288 with 1 Axes>"
      ]
     },
     "metadata": {
      "needs_background": "light"
     },
     "output_type": "display_data"
    }
   ],
   "source": [
    "# Scatterplot between the response variable PE and the AT feature.\n",
    "# The linear relationship is clear.\n",
    "plt.scatter(df.AT, df.PE)\n",
    "plt.title('PE vs AT', fontsize=24)\n",
    "plt.xlabel('AT', fontsize=20)\n",
    "plt.ylabel('PE', fontsize=20)\n",
    "plt.xticks(fontsize=18)\n",
    "plt.yticks(fontsize=18)\n",
    "plt.show()"
   ]
  },
  {
   "cell_type": "code",
   "execution_count": 7,
   "id": "c0ca3ae0",
   "metadata": {},
   "outputs": [
    {
     "data": {
      "image/png": "[encoded data removed]",
      "text/plain": [
       "<Figure size 432x288 with 1 Axes>"
      ]
     },
     "metadata": {
      "needs_background": "light"
     },
     "output_type": "display_data"
    }
   ],
   "source": [
    "# Scatterplot between the response variable PE and the V feature.\n",
    "# The linear relationship is clear, but not as strong as the relationship with the AT feature.\n",
    "plt.scatter(df.V, df.PE)\n",
    "plt.title('PE vs V', fontsize=24)\n",
    "plt.xlabel('V', fontsize=20)\n",
    "plt.ylabel('PE', fontsize=20)\n",
    "plt.xticks(fontsize=18)\n",
    "plt.yticks(fontsize=18)\n",
    "plt.show()"
   ]
  },
  {
   "cell_type": "markdown",
   "id": "27150b03",
   "metadata": {},
   "source": [
    "We'll build a linear model of the PE response variable, using both features (AT, V). We'll use the statsmodels formula interface. This is because the statistical formula we specifiy is close in form to the mathematical form we would write down on paper, whilst for the standard interface to statsmodels it is less clear how the mathematical formula manifests itself in the code. The statistical formula is $PE\\;\\sim\\; AT + V$. For now we don't worry about the meaning of the symbol $\\sim$ - we will learn about that in the next  chapter. For now, we can think of this as the statistical formula equivalent of writing the mathematical formula $PE = \\beta_{0} + \\beta_{AT}x_{AT} + \\beta_{V}x_{V}$. Note that in the statistical formula it looks like we have forgotten about the intercept. Fear not, the statistical model form will automatically assume we want an intercept included in our model and will add it for us, so we don't need to explicitly specify one in the statistical formula.\n",
    "\n",
    "We'll use the statsmodels.formula.api.ols function to create and fit our OLS model."
   ]
  },
  {
   "cell_type": "code",
   "execution_count": 8,
   "id": "1125ea17",
   "metadata": {},
   "outputs": [],
   "source": [
    "# First we specify the model using statsmodels.formula.api.ols\n",
    "model = smf.ols(formula='PE ~ AT + V', data=df)"
   ]
  },
  {
   "cell_type": "code",
   "execution_count": 9,
   "id": "766090cd",
   "metadata": {},
   "outputs": [],
   "source": [
    "# Now we fit the model to the data, i.e. we minimize the sum-of-squared residuals with respect to the model parameters\n",
    "model_result = model.fit()"
   ]
  },
  {
   "cell_type": "code",
   "execution_count": 10,
   "id": "33dd5d6d",
   "metadata": {},
   "outputs": [
    {
     "data": {
      "text/html": [
       "<table class=\"simpletable\">\n",
       "<caption>OLS Regression Results</caption>\n",
       "<tr>\n",
       "  <th>Dep. Variable:</th>           <td>PE</td>        <th>  R-squared:         </th> <td>   0.916</td> \n",
       "</tr>\n",
       "<tr>\n",
       "  <th>Model:</th>                   <td>OLS</td>       <th>  Adj. R-squared:    </th> <td>   0.916</td> \n",
       "</tr>\n",
       "<tr>\n",
       "  <th>Method:</th>             <td>Least Squares</td>  <th>  F-statistic:       </th> <td>5.197e+04</td>\n",
       "</tr>\n",
       "<tr>\n",
       "  <th>Date:</th>             <td>Thu, 02 Mar 2023</td> <th>  Prob (F-statistic):</th>  <td>  0.00</td>  \n",
       "</tr>\n",
       "<tr>\n",
       "  <th>Time:</th>                 <td>13:22:46</td>     <th>  Log-Likelihood:    </th> <td> -28887.</td> \n",
       "</tr>\n",
       "<tr>\n",
       "  <th>No. Observations:</th>      <td>  9568</td>      <th>  AIC:               </th> <td>5.778e+04</td>\n",
       "</tr>\n",
       "<tr>\n",
       "  <th>Df Residuals:</th>          <td>  9565</td>      <th>  BIC:               </th> <td>5.780e+04</td>\n",
       "</tr>\n",
       "<tr>\n",
       "  <th>Df Model:</th>              <td>     2</td>      <th>                     </th>     <td> </td>    \n",
       "</tr>\n",
       "<tr>\n",
       "  <th>Covariance Type:</th>      <td>nonrobust</td>    <th>                     </th>     <td> </td>    \n",
       "</tr>\n",
       "</table>\n",
       "<table class=\"simpletable\">\n",
       "<tr>\n",
       "      <td></td>         <th>coef</th>     <th>std err</th>      <th>t</th>      <th>P>|t|</th>  <th>[0.025</th>    <th>0.975]</th>  \n",
       "</tr>\n",
       "<tr>\n",
       "  <th>Intercept</th> <td>  505.4774</td> <td>    0.240</td> <td> 2101.855</td> <td> 0.000</td> <td>  505.006</td> <td>  505.949</td>\n",
       "</tr>\n",
       "<tr>\n",
       "  <th>AT</th>        <td>   -1.7043</td> <td>    0.013</td> <td> -134.429</td> <td> 0.000</td> <td>   -1.729</td> <td>   -1.679</td>\n",
       "</tr>\n",
       "<tr>\n",
       "  <th>V</th>         <td>   -0.3245</td> <td>    0.007</td> <td>  -43.644</td> <td> 0.000</td> <td>   -0.339</td> <td>   -0.310</td>\n",
       "</tr>\n",
       "</table>\n",
       "<table class=\"simpletable\">\n",
       "<tr>\n",
       "  <th>Omnibus:</th>       <td>526.355</td> <th>  Durbin-Watson:     </th> <td>   2.024</td>\n",
       "</tr>\n",
       "<tr>\n",
       "  <th>Prob(Omnibus):</th> <td> 0.000</td>  <th>  Jarque-Bera (JB):  </th> <td>1786.669</td>\n",
       "</tr>\n",
       "<tr>\n",
       "  <th>Skew:</th>          <td>-0.198</td>  <th>  Prob(JB):          </th> <td>    0.00</td>\n",
       "</tr>\n",
       "<tr>\n",
       "  <th>Kurtosis:</th>      <td> 5.080</td>  <th>  Cond. No.          </th> <td>    282.</td>\n",
       "</tr>\n",
       "</table><br/><br/>Notes:<br/>[1] Standard Errors assume that the covariance matrix of the errors is correctly specified."
      ],
      "text/plain": [
       "<class 'statsmodels.iolib.summary.Summary'>\n",
       "\"\"\"\n",
       "                            OLS Regression Results                            \n",
       "==============================================================================\n",
       "Dep. Variable:                     PE   R-squared:                       0.916\n",
       "Model:                            OLS   Adj. R-squared:                  0.916\n",
       "Method:                 Least Squares   F-statistic:                 5.197e+04\n",
       "Date:                Thu, 02 Mar 2023   Prob (F-statistic):               0.00\n",
       "Time:                        13:22:46   Log-Likelihood:                -28887.\n",
       "No. Observations:                9568   AIC:                         5.778e+04\n",
       "Df Residuals:                    9565   BIC:                         5.780e+04\n",
       "Df Model:                           2                                         \n",
       "Covariance Type:            nonrobust                                         \n",
       "==============================================================================\n",
       "                 coef    std err          t      P>|t|      [0.025      0.975]\n",
       "------------------------------------------------------------------------------\n",
       "Intercept    505.4774      0.240   2101.855      0.000     505.006     505.949\n",
       "AT            -1.7043      0.013   -134.429      0.000      -1.729      -1.679\n",
       "V             -0.3245      0.007    -43.644      0.000      -0.339      -0.310\n",
       "==============================================================================\n",
       "Omnibus:                      526.355   Durbin-Watson:                   2.024\n",
       "Prob(Omnibus):                  0.000   Jarque-Bera (JB):             1786.669\n",
       "Skew:                          -0.198   Prob(JB):                         0.00\n",
       "Kurtosis:                       5.080   Cond. No.                         282.\n",
       "==============================================================================\n",
       "\n",
       "Notes:\n",
       "[1] Standard Errors assume that the covariance matrix of the errors is correctly specified.\n",
       "\"\"\""
      ]
     },
     "execution_count": 10,
     "metadata": {},
     "output_type": "execute_result"
    }
   ],
   "source": [
    "# Now we'll look at a summary of the fitted OLS model\n",
    "model_result.summary()"
   ]
  },
  {
   "cell_type": "markdown",
   "id": "28f57284",
   "metadata": {},
   "source": [
    "Now we'll do the OLS fitting explicitly using the matrix operations outlined in the chapter. We'll make use of the linear algebra functions of numpy and the linear algebra we learnt in Chapter 3. First we need to extract the design matrix and vector of response values from the pandas dataframe."
   ]
  },
  {
   "cell_type": "code",
   "execution_count": 11,
   "id": "cbb3d55a",
   "metadata": {},
   "outputs": [],
   "source": [
    "# We extract the design matrix as a 2D numpy array. This initially corresponds to the feature columns of the dataframe.\n",
    "# In this case it is all but the last column\n",
    "X = df.iloc[:, 0:(df.shape[1]-1)].to_numpy()"
   ]
  },
  {
   "cell_type": "code",
   "execution_count": 12,
   "id": "e2fb0aaf",
   "metadata": {},
   "outputs": [],
   "source": [
    "# Now we'll add a column of ones to the design matrix.\n",
    "# This is the feature that corresponds to the intercept parameter in the moddel\n",
    "X = np.c_[np.ones(X.shape[0]), X]"
   ]
  },
  {
   "cell_type": "code",
   "execution_count": 13,
   "id": "01cf1c65",
   "metadata": {},
   "outputs": [],
   "source": [
    "# For convenience, we'll create and store the transpose of the design matrix\n",
    "xT = np.transpose(X)"
   ]
  },
  {
   "cell_type": "code",
   "execution_count": 14,
   "id": "f7d3fcdb",
   "metadata": {},
   "outputs": [],
   "source": [
    "# Now we'll extract the response vector to a numpy array\n",
    "y = df.iloc[:, df.shape[1]-1].to_numpy()"
   ]
  },
  {
   "cell_type": "markdown",
   "id": "06f0d43f",
   "metadata": {},
   "source": [
    "Now we can calculate the OLS parameter values using the formula $\\hat{\\underline{\\beta}} = \\left ( \\underline{\\underline{X}}^{\\top} \\underline{\\underline{X}}\\right )^{-1} \\underline{\\underline{X}}^{\\top} \\underline{y}$"
   ]
  },
  {
   "cell_type": "code",
   "execution_count": 15,
   "id": "b8e62aa5",
   "metadata": {},
   "outputs": [],
   "source": [
    "# Calculate the inverse of xTx using the numpy linear algebra functions\n",
    "xTx_inv = np.linalg.inv(np.matmul(xT, X))"
   ]
  },
  {
   "cell_type": "code",
   "execution_count": 16,
   "id": "4f120052",
   "metadata": {},
   "outputs": [],
   "source": [
    "# Finally calculate the OLS model parameter estimates using the formula (xTx_inv)*(xT*y).\n",
    "# Again, we use the numpy linear algebra functions to do this\n",
    "ols_params = np.matmul(xTx_inv, np.matmul(xT, y))"
   ]
  },
  {
   "cell_type": "markdown",
   "id": "fe7afa76",
   "metadata": {},
   "source": [
    "Now let's compare the model parameter estimates from the statsmodels ols function and our explicit ols calculation."
   ]
  },
  {
   "cell_type": "code",
   "execution_count": 17,
   "id": "fe48a277",
   "metadata": {},
   "outputs": [
    {
     "data": {
      "text/html": [
       "<div>\n",
       "<style scoped>\n",
       "    .dataframe tbody tr th:only-of-type {\n",
       "        vertical-align: middle;\n",
       "    }\n",
       "\n",
       "    .dataframe tbody tr th {\n",
       "        vertical-align: top;\n",
       "    }\n",
       "\n",
       "    .dataframe thead th {\n",
       "        text-align: right;\n",
       "    }\n",
       "</style>\n",
       "<table border=\"1\" class=\"dataframe\">\n",
       "  <thead>\n",
       "    <tr style=\"text-align: right;\">\n",
       "      <th></th>\n",
       "      <th>statsmodels</th>\n",
       "      <th>explicit_ols</th>\n",
       "    </tr>\n",
       "  </thead>\n",
       "  <tbody>\n",
       "    <tr>\n",
       "      <th>Intercept</th>\n",
       "      <td>505.477434</td>\n",
       "      <td>505.477434</td>\n",
       "    </tr>\n",
       "    <tr>\n",
       "      <th>AT</th>\n",
       "      <td>-1.704266</td>\n",
       "      <td>-1.704266</td>\n",
       "    </tr>\n",
       "    <tr>\n",
       "      <th>V</th>\n",
       "      <td>-0.324487</td>\n",
       "      <td>-0.324487</td>\n",
       "    </tr>\n",
       "  </tbody>\n",
       "</table>\n",
       "</div>"
      ],
      "text/plain": [
       "           statsmodels  explicit_ols\n",
       "Intercept   505.477434    505.477434\n",
       "AT           -1.704266     -1.704266\n",
       "V            -0.324487     -0.324487"
      ]
     },
     "execution_count": 17,
     "metadata": {},
     "output_type": "execute_result"
    }
   ],
   "source": [
    "# Now compare the parameter estimates from the explicit calculation with those obtained from the statsmodels fit\n",
    "df_compare = pd.DataFrame({'statsmodels': model_result.params, 'explicit_ols':ols_params})\n",
    "df_compare"
   ]
  },
  {
   "cell_type": "markdown",
   "id": "d71c123b",
   "metadata": {},
   "source": [
    "## Simple gradient descent example\n",
    "\n",
    "Here we will use the simulated data described in the main text and calculate the empirical risk function. We will then use the simple gradient descent update rule for 20 iterations, with a fixed learning rate of $\\eta=0.05$.\n",
    "\n",
    "To start we read in the raw data, which is held in the file Data/gradient_descent_example.csv of the github repository."
   ]
  },
  {
   "cell_type": "code",
   "execution_count": 18,
   "id": "9aaadcce",
   "metadata": {},
   "outputs": [],
   "source": [
    "# Read in the raw data\n",
    "df_risk = pd.read_csv(\"./Data/gradient_descent_example.csv\")\n",
    "\n",
    "# Extract the feature and response values to \n",
    "# numpy arrays\n",
    "x=df_risk['x'].to_numpy()\n",
    "y=df_risk['y'].to_numpy()"
   ]
  },
  {
   "cell_type": "code",
   "execution_count": 19,
   "id": "fd8b5bc5",
   "metadata": {},
   "outputs": [],
   "source": [
    "# Define functions for performing gradient descent\n",
    "\n",
    "def risk(x, y, beta):\n",
    "    '''\n",
    "    Function to compute the empirical risk\n",
    "    \n",
    "    :param x: The feature values for our example\n",
    "    :type x: A 1D numpy array\n",
    "    \n",
    "    :param y: The response values for our example\n",
    "    :type y: A 1D numpy array\n",
    "    \n",
    "    :param beta: The model parameter value at which we want to \n",
    "                 evaluate the empirical risk\n",
    "    :type beta: float\n",
    "    \n",
    "    :return: The empirical risk function value\n",
    "    :rtype: float\n",
    "    '''\n",
    "    # Initialize the risk value\n",
    "    risk = 0.0\n",
    "  \n",
    "    # Loop over the data an increment the risk with \n",
    "    # a squared-loss\n",
    "    for i in range(x.shape[0]):\n",
    "        risk += np.power(y[i]-(beta*x[i]), 2.0)\n",
    "        \n",
    "    risk /= x.shape[0]\n",
    "  \n",
    "    return risk\n",
    "\n",
    "\n",
    "def derivative_risk(x, y, beta):\n",
    "    '''\n",
    "    Function to compute the derivative of the empirical risk\n",
    "    with respect to the model parameter\n",
    "    \n",
    "    :param x: The feature values for our example\n",
    "    :type x: A 1D numpy array\n",
    "    \n",
    "    :param y: The response values for our example\n",
    "    :type y: A 1D numpy array\n",
    "    \n",
    "    :param beta: The model parameter value at which we want to \n",
    "                 evaluate the empirical risk\n",
    "    :type beta: float\n",
    "    \n",
    "    :return: The derivative of the empirical risk function\n",
    "    :rtype: float\n",
    "    '''\n",
    "    derivative_risk = 0.0\n",
    "  \n",
    "    for i in range(x.shape[0]):\n",
    "        derivative_risk += - (2.0*x[i]*(y[i]-(beta*x[i])))\n",
    "\n",
    "    derivative_risk /= x.shape[0]\n",
    "    \n",
    "    return derivative_risk   "
   ]
  },
  {
   "cell_type": "code",
   "execution_count": 20,
   "id": "075f44df",
   "metadata": {},
   "outputs": [],
   "source": [
    "# Set the learning rate and the number of iterations we want to perform\n",
    "eta=0.05\n",
    "n_iter=20\n",
    "\n",
    "# Initialize arrays to hold the sequence of \n",
    "# parameter estimates and empirical risk values\n",
    "beta_learn=np.full(1+n_iter, np.nan)\n",
    "risk_learn=np.full(1+n_iter, np.nan)\n",
    "\n",
    "# Set the starting estimate for the\n",
    "# model parameter\n",
    "beta_learn[0]=1.0\n",
    "\n",
    "# Iterate using the gradient descent update rule\n",
    "for iter in range(n_iter):\n",
    "    risk_learn[iter] = risk(x,y,beta_learn[iter])\n",
    "    beta_learn[iter+1] = beta_learn[iter] -(eta*derivative_risk(x,y,beta_learn[iter]))"
   ]
  },
  {
   "cell_type": "code",
   "execution_count": 21,
   "id": "3569a53b",
   "metadata": {},
   "outputs": [
    {
     "data": {
      "image/png": "[encoded data removed]",
      "text/plain": [
       "<Figure size 432x288 with 1 Axes>"
      ]
     },
     "metadata": {
      "needs_background": "light"
     },
     "output_type": "display_data"
    }
   ],
   "source": [
    "# Plot parameter estimates at each iteration\n",
    "plt.plot(beta_learn, marker=\"o\")\n",
    "plt.title(r'$\\hat{\\beta}$ vs Iteration', fontsize=24)\n",
    "plt.xlabel('Iteration', fontsize=20)\n",
    "plt.ylabel(r'$\\hat{\\beta}$', fontsize=20)\n",
    "plt.xticks(fontsize=14)\n",
    "plt.yticks(fontsize=14)\n",
    "plt.show()"
   ]
  },
  {
   "cell_type": "code",
   "execution_count": 22,
   "id": "0c06a056",
   "metadata": {},
   "outputs": [
    {
     "data": {
      "image/png": "[encoded data removed]",
      "text/plain": [
       "<Figure size 432x288 with 1 Axes>"
      ]
     },
     "metadata": {
      "needs_background": "light"
     },
     "output_type": "display_data"
    }
   ],
   "source": [
    "# Plot empirical risk at each iteration\n",
    "plt.plot(risk_learn, marker=\"o\")\n",
    "plt.title('Empirical risk vs Iteration', fontsize=24)\n",
    "plt.xlabel('Iteration', fontsize=20)\n",
    "plt.ylabel('Empirical risk', fontsize=20)\n",
    "plt.xticks(fontsize=14)\n",
    "plt.yticks(fontsize=14)\n",
    "plt.show()"
   ]
  }
 ],
 "metadata": {
  "kernelspec": {
   "display_name": "Python 3",
   "language": "python",
   "name": "python3"
  },
  "language_info": {
   "codemirror_mode": {
    "name": "ipython",
    "version": 3
   },
   "file_extension": ".py",
   "mimetype": "text/x-python",
   "name": "python",
   "nbconvert_exporter": "python",
   "pygments_lexer": "ipython3",
   "version": "3.8.8"
  }
 },
 "nbformat": 4,
 "nbformat_minor": 5
}
