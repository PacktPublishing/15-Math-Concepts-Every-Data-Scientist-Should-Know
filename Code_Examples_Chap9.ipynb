{
 "cells": [
  {
   "cell_type": "code",
   "execution_count": 1,
   "id": "9acaa4bb",
   "metadata": {},
   "outputs": [],
   "source": [
    "import numpy as np\n",
    "import pandas as pd\n",
    "import matplotlib.pyplot as plt"
   ]
  },
  {
   "cell_type": "markdown",
   "id": "b9653fe9",
   "metadata": {},
   "source": [
    "## Discrete Fourier Transform (DFT) example \n",
    "\n",
    "The DFT is applied to a dataseries - a series of regularly spaced datapoints. In this example the data is sampled from the function $y = 3.5 \\times \\sin \\left ( \\pi(x-3)\\right ) +  1.5\\times\\sin \\left (3\\pi(x+7) \\right ) + \\sin \\left ( 4\\pi x\\right )$. The sampling is from $x=-10$ to $x=9.9$ with an interval of $\\Delta x = 0.1$, leading to a total dataseries length of $N=200$.    "
   ]
  },
  {
   "cell_type": "markdown",
   "id": "26db99b3",
   "metadata": {},
   "source": [
    "We'll start by reading in the data."
   ]
  },
  {
   "cell_type": "code",
   "execution_count": 2,
   "id": "5ae3d8e5",
   "metadata": {},
   "outputs": [],
   "source": [
    "df_dft = pd.read_csv('./Data/discrete_fourier_transform_data.csv')"
   ]
  },
  {
   "cell_type": "markdown",
   "id": "f4ea1aef",
   "metadata": {},
   "source": [
    "A look at the dataframe, shows that we have two columns of data, the x-values and the value of the function (the y-values) corresponding to those x-values. For the DFT we only need the y-values. "
   ]
  },
  {
   "cell_type": "code",
   "execution_count": 3,
   "id": "ec9a824f",
   "metadata": {},
   "outputs": [
    {
     "data": {
      "text/html": [
       "<div>\n",
       "<style scoped>\n",
       "    .dataframe tbody tr th:only-of-type {\n",
       "        vertical-align: middle;\n",
       "    }\n",
       "\n",
       "    .dataframe tbody tr th {\n",
       "        vertical-align: top;\n",
       "    }\n",
       "\n",
       "    .dataframe thead th {\n",
       "        text-align: right;\n",
       "    }\n",
       "</style>\n",
       "<table border=\"1\" class=\"dataframe\">\n",
       "  <thead>\n",
       "    <tr style=\"text-align: right;\">\n",
       "      <th></th>\n",
       "      <th>x</th>\n",
       "      <th>y</th>\n",
       "    </tr>\n",
       "  </thead>\n",
       "  <tbody>\n",
       "    <tr>\n",
       "      <th>0</th>\n",
       "      <td>-10.0</td>\n",
       "      <td>1.500617e-14</td>\n",
       "    </tr>\n",
       "    <tr>\n",
       "      <th>1</th>\n",
       "      <td>-9.9</td>\n",
       "      <td>-1.707300e+00</td>\n",
       "    </tr>\n",
       "    <tr>\n",
       "      <th>2</th>\n",
       "      <td>-9.8</td>\n",
       "      <td>-4.434890e+00</td>\n",
       "    </tr>\n",
       "    <tr>\n",
       "      <th>3</th>\n",
       "      <td>-9.7</td>\n",
       "      <td>-2.344028e+00</td>\n",
       "    </tr>\n",
       "    <tr>\n",
       "      <th>4</th>\n",
       "      <td>-9.6</td>\n",
       "      <td>-3.034805e+00</td>\n",
       "    </tr>\n",
       "  </tbody>\n",
       "</table>\n",
       "</div>"
      ],
      "text/plain": [
       "      x             y\n",
       "0 -10.0  1.500617e-14\n",
       "1  -9.9 -1.707300e+00\n",
       "2  -9.8 -4.434890e+00\n",
       "3  -9.7 -2.344028e+00\n",
       "4  -9.6 -3.034805e+00"
      ]
     },
     "execution_count": 3,
     "metadata": {},
     "output_type": "execute_result"
    }
   ],
   "source": [
    "df_dft.head()"
   ]
  },
  {
   "cell_type": "code",
   "execution_count": 4,
   "id": "5e7102f2",
   "metadata": {},
   "outputs": [
    {
     "data": {
      "text/html": [
       "<div>\n",
       "<style scoped>\n",
       "    .dataframe tbody tr th:only-of-type {\n",
       "        vertical-align: middle;\n",
       "    }\n",
       "\n",
       "    .dataframe tbody tr th {\n",
       "        vertical-align: top;\n",
       "    }\n",
       "\n",
       "    .dataframe thead th {\n",
       "        text-align: right;\n",
       "    }\n",
       "</style>\n",
       "<table border=\"1\" class=\"dataframe\">\n",
       "  <thead>\n",
       "    <tr style=\"text-align: right;\">\n",
       "      <th></th>\n",
       "      <th>x</th>\n",
       "      <th>y</th>\n",
       "    </tr>\n",
       "  </thead>\n",
       "  <tbody>\n",
       "    <tr>\n",
       "      <th>195</th>\n",
       "      <td>9.5</td>\n",
       "      <td>2.000000</td>\n",
       "    </tr>\n",
       "    <tr>\n",
       "      <th>196</th>\n",
       "      <td>9.6</td>\n",
       "      <td>3.034805</td>\n",
       "    </tr>\n",
       "    <tr>\n",
       "      <th>197</th>\n",
       "      <td>9.7</td>\n",
       "      <td>2.344028</td>\n",
       "    </tr>\n",
       "    <tr>\n",
       "      <th>198</th>\n",
       "      <td>9.8</td>\n",
       "      <td>4.434890</td>\n",
       "    </tr>\n",
       "    <tr>\n",
       "      <th>199</th>\n",
       "      <td>9.9</td>\n",
       "      <td>1.707300</td>\n",
       "    </tr>\n",
       "  </tbody>\n",
       "</table>\n",
       "</div>"
      ],
      "text/plain": [
       "       x         y\n",
       "195  9.5  2.000000\n",
       "196  9.6  3.034805\n",
       "197  9.7  2.344028\n",
       "198  9.8  4.434890\n",
       "199  9.9  1.707300"
      ]
     },
     "execution_count": 4,
     "metadata": {},
     "output_type": "execute_result"
    }
   ],
   "source": [
    "df_dft.tail()"
   ]
  },
  {
   "cell_type": "code",
   "execution_count": 5,
   "id": "83372d8d",
   "metadata": {},
   "outputs": [
    {
     "data": {
      "image/png": "[encoded data removed]",
      "text/plain": [
       "<Figure size 432x288 with 1 Axes>"
      ]
     },
     "metadata": {
      "needs_background": "light"
     },
     "output_type": "display_data"
    }
   ],
   "source": [
    "# Plot of the data to which we will apply the DFT\n",
    "plt.plot(df_dft.x, df_dft.y, 'black')\n",
    "plt.title('Sampled data', fontsize=24)\n",
    "plt.xlabel('x', fontsize=20)\n",
    "plt.ylabel('y', fontsize=20)\n",
    "plt.xticks(fontsize=12)\n",
    "plt.yticks(fontsize=12)\n",
    "plt.show()"
   ]
  },
  {
   "cell_type": "markdown",
   "id": "65dacdbb",
   "metadata": {},
   "source": [
    "To calculate the DFT we pass a numpy array into the numpy FFT function, which we call using numpy.fft.fft . FFT stands for Fast Fourier Transform, which is a computationally efficient method for computing the Discrete Fourier Transform of a dataseries."
   ]
  },
  {
   "cell_type": "code",
   "execution_count": 6,
   "id": "2520f1dc",
   "metadata": {},
   "outputs": [],
   "source": [
    "dft_y = np.fft.fft(df_dft['y'].to_numpy())"
   ]
  },
  {
   "cell_type": "markdown",
   "id": "d6fa29cb",
   "metadata": {},
   "source": [
    "We'll calculate the absolute values (modulus) of the DFT values to get a real-valued measure of how much of each wavenumber is present in our data series. We are only expecting to see three waves present."
   ]
  },
  {
   "cell_type": "code",
   "execution_count": 7,
   "id": "1d536f29",
   "metadata": {},
   "outputs": [],
   "source": [
    "# Take modulus of amplitudes\n",
    "dft_amplitudes = np.absolute(dft_y)"
   ]
  },
  {
   "cell_type": "markdown",
   "id": "184166e8",
   "metadata": {},
   "source": [
    "If we plot those absolute amplitudes we see six spikes. This is because for every wavenumber $k$ present in the data, we also expect to see a spike at $N-k$. Some we expect to see a symmetric pattern of spikes, symmetric about $N/2$."
   ]
  },
  {
   "cell_type": "code",
   "execution_count": 8,
   "id": "92459d11",
   "metadata": {},
   "outputs": [
    {
     "data": {
      "image/png": "[encoded data removed]",
      "text/plain": [
       "<Figure size 432x288 with 1 Axes>"
      ]
     },
     "metadata": {
      "needs_background": "light"
     },
     "output_type": "display_data"
    }
   ],
   "source": [
    "# Plot the modulus of the amplitudes\n",
    "plt.stem(dft_amplitudes)\n",
    "plt.title('DFT amplitudes', fontsize=24)\n",
    "plt.xlabel('Wave number index', fontsize=20)\n",
    "plt.ylabel('Modulus of DFT amplitude', fontsize=20)\n",
    "plt.xticks(fontsize=12)\n",
    "plt.yticks(fontsize=12)\n",
    "plt.show()"
   ]
  },
  {
   "cell_type": "markdown",
   "id": "5e53449a",
   "metadata": {},
   "source": [
    "If we look at the array of amplitude values we can see where precisely those spikes are."
   ]
  },
  {
   "cell_type": "code",
   "execution_count": 9,
   "id": "40bf1930",
   "metadata": {},
   "outputs": [
    {
     "data": {
      "text/plain": [
       "array([8.45545856e-13, 3.43363270e-13, 1.61238269e-13, 2.60886395e-13,\n",
       "       1.49762236e-13, 2.12961737e-13, 1.69581838e-13, 3.09648134e-13,\n",
       "       7.36084468e-14, 6.40175435e-14, 3.50000000e+02, 2.53336006e-13,\n",
       "       1.81941194e-13, 2.38860798e-13, 1.46417794e-13, 1.40551777e-13,\n",
       "       7.13869425e-14, 1.91821647e-13, 1.99962417e-13, 1.65615087e-13,\n",
       "       1.63002421e-13, 9.98211284e-14, 9.53692288e-14, 1.08269434e-13,\n",
       "       1.25609351e-13, 1.21758191e-13, 1.27573750e-13, 1.40394613e-14,\n",
       "       1.77519815e-13, 7.02017519e-14, 1.50000000e+02, 7.92897750e-14,\n",
       "       1.33075870e-13, 1.10583235e-13, 2.31034101e-13, 3.29498914e-14,\n",
       "       1.92473231e-13, 7.03521027e-14, 3.06554950e-13, 1.34844588e-13,\n",
       "       6.99117327e-13, 5.07078337e-13, 2.68812948e-13, 2.30213844e-13,\n",
       "       1.23623642e-13, 2.28289085e-13, 1.03090665e-13, 2.86606418e-13,\n",
       "       1.69907489e-13, 2.54628094e-13, 3.20949393e-13, 3.11951950e-13,\n",
       "       8.39132067e-14, 7.20869936e-14, 1.47537963e-13, 6.64892884e-14,\n",
       "       1.46592337e-13, 1.01151975e-13, 8.39976236e-14, 1.52925748e-13,\n",
       "       9.51607246e-14, 1.39460870e-13, 9.61218081e-14, 1.94119017e-13,\n",
       "       1.90541573e-13, 1.22077712e-13, 9.53569887e-14, 2.24488218e-13,\n",
       "       1.65435447e-13, 6.55816130e-14, 3.96286962e-13, 2.12888305e-13,\n",
       "       1.08730613e-13, 1.50195322e-13, 2.81966606e-13, 2.16289026e-13,\n",
       "       2.76333914e-13, 2.71655809e-13, 8.65464320e-14, 4.34563429e-13,\n",
       "       1.00000000e+02, 1.46351901e-13, 1.19419532e-13, 2.46423685e-13,\n",
       "       2.40619127e-13, 2.30604162e-13, 8.97145812e-14, 1.80443813e-13,\n",
       "       1.96889244e-13, 5.17379257e-13, 5.48012796e-13, 2.83419196e-13,\n",
       "       6.94555546e-14, 2.92429204e-13, 1.72270733e-13, 3.83875579e-14,\n",
       "       1.55168690e-13, 1.25795416e-13, 3.08293506e-14, 1.95670155e-13,\n",
       "       5.37347944e-14, 1.95670155e-13, 3.99529924e-14, 1.25795416e-13,\n",
       "       1.55168690e-13, 3.83875579e-14, 1.61719509e-13, 2.92429204e-13,\n",
       "       6.94555546e-14, 2.83419196e-13, 5.41087731e-13, 5.17379257e-13,\n",
       "       1.96889244e-13, 1.80443813e-13, 1.03373527e-13, 2.30604162e-13,\n",
       "       2.40619127e-13, 2.46423685e-13, 1.23738985e-13, 1.46351901e-13,\n",
       "       1.00000000e+02, 4.34563429e-13, 9.60194047e-14, 2.71655809e-13,\n",
       "       2.76333914e-13, 2.16289026e-13, 2.69076758e-13, 1.50195322e-13,\n",
       "       1.08730613e-13, 2.12888305e-13, 3.75413096e-13, 6.55816130e-14,\n",
       "       1.65435447e-13, 2.24488218e-13, 9.84131991e-14, 1.22077712e-13,\n",
       "       1.90541573e-13, 1.94119017e-13, 8.80102722e-14, 1.39460870e-13,\n",
       "       9.51607246e-14, 1.52925748e-13, 7.82376283e-14, 1.01151975e-13,\n",
       "       1.46592337e-13, 6.64892884e-14, 1.34628343e-13, 7.20869936e-14,\n",
       "       8.39132067e-14, 3.11951950e-13, 3.47624344e-13, 2.54628094e-13,\n",
       "       1.69907489e-13, 2.86606418e-13, 1.15722438e-13, 2.28289085e-13,\n",
       "       1.23623642e-13, 2.30213844e-13, 2.60040448e-13, 5.07078337e-13,\n",
       "       6.99117327e-13, 1.34844588e-13, 2.94593335e-13, 7.03521027e-14,\n",
       "       1.92473231e-13, 3.29498914e-14, 2.17498714e-13, 1.10583235e-13,\n",
       "       1.33075870e-13, 7.92897750e-14, 1.50000000e+02, 7.02017519e-14,\n",
       "       1.77519815e-13, 1.40394613e-14, 1.31129595e-13, 1.21758191e-13,\n",
       "       1.25609351e-13, 1.08269434e-13, 1.10791786e-13, 9.98211284e-14,\n",
       "       1.63002421e-13, 1.65615087e-13, 2.01511214e-13, 1.91821647e-13,\n",
       "       7.13869425e-14, 1.40551777e-13, 1.65293111e-13, 2.38860798e-13,\n",
       "       1.81941194e-13, 2.53336006e-13, 3.50000000e+02, 6.40175435e-14,\n",
       "       7.36084468e-14, 3.09648134e-13, 1.76919575e-13, 2.12961737e-13,\n",
       "       1.49762236e-13, 2.60886395e-13, 1.74421802e-13, 3.43363270e-13])"
      ]
     },
     "execution_count": 9,
     "metadata": {},
     "output_type": "execute_result"
    }
   ],
   "source": [
    "# List the array of amplitudes\n",
    "dft_amplitudes"
   ]
  },
  {
   "cell_type": "markdown",
   "id": "36a41d81",
   "metadata": {},
   "source": [
    "The first three spikes are at index values of k=10,30,80. Since the dataseries spans the interval from $x=-10$ to $x=9.9$, i.e a gap of $19.9$ in $N=200$ observations, the spikes correspond to period of lengh $L = 2 \\times (N-1)/(k\\times 19.9)$. Thus the first three spikes correspond to periods of $\\frac{2\\times199}{10\\times 19.9} = 2, \\frac{2\\times199}{30\\times 19.9} = \\frac{2}{3}$, and $\\frac{2\\times199}{80\\times 19.9} = \\frac{1}{4}$, in agreement with our starting equation for $y$. \n",
    "\n",
    "Since our dataseries $y$ consists entirely of real values, we can make use of that and calculate the Real Discrete Fourier Transform. The Real DFT effectively combines each spike with its symmetric counterpart when calculating its amplitudes, as this guarantees that we will get a real series back when we calculate the inverse real DFT. Fortunately, numpy has a real DFT function as well. To use it, we just call numpy.fft.rfft . Let's do so. "
   ]
  },
  {
   "cell_type": "code",
   "execution_count": 10,
   "id": "d8b066c0",
   "metadata": {},
   "outputs": [],
   "source": [
    "# Calculate the real DFT\n",
    "real_dft_y = np.fft.rfft(df_dft['y'].to_numpy())"
   ]
  },
  {
   "cell_type": "markdown",
   "id": "fae7d8ae",
   "metadata": {},
   "source": [
    "Let's look at the real DFT values. We'll calculate the absolute value again and plot."
   ]
  },
  {
   "cell_type": "code",
   "execution_count": 11,
   "id": "a7b15109",
   "metadata": {},
   "outputs": [
    {
     "data": {
      "text/plain": [
       "array([-8.36240203e-13+0.00000000e+00j, -1.45980711e-13-3.13391947e-13j,\n",
       "        1.58499076e-14-1.74369637e-13j,  3.08977624e-14-2.58244262e-13j,\n",
       "        1.18671098e-13-7.88999572e-14j,  2.05699935e-13+5.14758702e-14j,\n",
       "       -1.66894983e-13+4.12546376e-15j,  2.83217501e-13+1.26579884e-13j,\n",
       "       -2.47800004e-14-7.17351221e-14j,  2.87145863e-14-5.19328894e-14j,\n",
       "       -6.33504188e-13+3.50000000e+02j, -1.05355904e-13-2.26920996e-13j,\n",
       "        3.96114799e-14-1.77470718e-13j,  9.41604063e-14-2.20551127e-13j,\n",
       "        1.43712176e-13-1.78378266e-14j,  1.11680153e-13+8.65246526e-14j,\n",
       "       -3.69419198e-14+6.29790726e-14j,  1.82226313e-13-4.31322298e-14j,\n",
       "        1.79844040e-13-6.17422491e-14j,  1.52981087e-13+6.39709460e-14j,\n",
       "       -3.36017964e-15+1.63424829e-13j,  6.46639882e-15+9.75646644e-14j,\n",
       "       -8.13924735e-14+4.91214275e-14j, -1.82695019e-14-1.06116300e-13j,\n",
       "       -1.16293324e-13+4.54550972e-14j,  2.15399584e-14+1.22307167e-13j,\n",
       "       -2.33311077e-14+1.27877617e-13j, -1.51968675e-14+2.16967805e-15j,\n",
       "        2.82851701e-14-1.76912560e-13j,  6.36703228e-14+1.27378987e-14j,\n",
       "       -1.80995864e-13+1.50000000e+02j, -7.29446317e-14+3.20446235e-14j,\n",
       "        4.24372371e-14+1.24630568e-13j, -1.07957199e-13-1.98215421e-14j,\n",
       "       -8.83767854e-14+1.91341946e-13j,  1.17751556e-14+4.72125793e-14j,\n",
       "       -1.86883911e-13+3.30940857e-14j, -7.11128033e-14-1.75253715e-15j,\n",
       "       -2.26662307e-13-1.94603337e-13j,  1.27262918e-13-4.27742360e-14j,\n",
       "       -7.09161263e-13+4.43864674e-14j, -9.84790730e-14-4.93712043e-13j,\n",
       "        1.77971520e-13-1.99498398e-13j, -4.67103197e-14-2.24706846e-13j,\n",
       "        1.26289154e-14-1.26120332e-13j,  1.43111376e-13-1.66880989e-13j,\n",
       "        9.18514034e-14-6.18675117e-14j,  2.34071843e-13-1.61975942e-13j,\n",
       "        1.68688787e-13-9.63709367e-15j,  1.91061382e-13-1.70338177e-13j,\n",
       "        2.86417320e-13+1.49213975e-13j, -3.13854134e-13-2.34237280e-14j,\n",
       "       -2.55479569e-14-7.74923987e-14j,  5.31091869e-14+5.04759628e-14j,\n",
       "        1.31803892e-13+3.97617536e-14j,  7.04365124e-14-1.94433716e-14j,\n",
       "        1.19378685e-13+8.25767912e-14j,  9.62177760e-14-4.08683610e-14j,\n",
       "        4.44061868e-14-8.10659078e-14j,  8.08754069e-14-1.30564674e-13j,\n",
       "       -3.91509161e-14-9.77220798e-14j, -1.36251375e-13-3.36872083e-14j,\n",
       "       -8.22770205e-14-7.12175456e-15j, -1.50075417e-13-1.25266376e-13j,\n",
       "       -2.54401787e-14-1.90038572e-13j,  1.10327517e-13-4.16052626e-14j,\n",
       "       -6.38419146e-14-6.13390666e-14j,  1.31875335e-13-1.80248481e-13j,\n",
       "       -5.81387391e-14-1.54702979e-13j, -1.18921310e-15-6.90024559e-14j,\n",
       "        3.59016616e-13+1.13686838e-13j,  9.79024308e-14+1.85305941e-13j,\n",
       "        3.43373168e-14-1.07090175e-13j, -8.67613943e-14-1.22368821e-13j,\n",
       "        2.62383018e-13+4.74628384e-14j,  1.32074467e-13+1.79150585e-13j,\n",
       "        1.98303752e-13+1.87560348e-13j,  1.84758605e-13-2.01118438e-13j,\n",
       "       -3.47807630e-14-8.24059289e-14j,  2.41184326e-13-3.63921225e-13j,\n",
       "        1.12640277e-12-1.00000000e+02j, -6.98363735e-14-1.31831799e-13j,\n",
       "        9.14668345e-14-6.35674001e-14j, -1.09716676e-13+2.22648856e-13j,\n",
       "       -7.85797768e-14+2.29176043e-13j, -1.88529447e-13+1.11393648e-13j,\n",
       "       -3.53658550e-14+9.85080910e-14j, -1.30946848e-13-1.22596014e-13j,\n",
       "       -1.94325636e-13-3.05587951e-14j, -3.17349360e-13-4.02216840e-13j,\n",
       "        4.32309916e-13-3.41060513e-13j,  2.84685250e-13+2.80718555e-14j,\n",
       "        3.85296369e-14+5.47178583e-14j, -7.36046493e-14+2.85962754e-13j,\n",
       "       -1.23401456e-13+1.18289925e-13j, -3.47846106e-14-3.20129012e-14j,\n",
       "        1.23695049e-13-9.57233947e-14j, -1.21708204e-13-3.01985194e-14j,\n",
       "       -3.53286286e-14+2.47761241e-14j, -5.22939499e-14+1.90531707e-13j,\n",
       "        4.48327898e-14+0.00000000e+00j])"
      ]
     },
     "execution_count": 11,
     "metadata": {},
     "output_type": "execute_result"
    }
   ],
   "source": [
    "# Look at the real DFT values just calculated\n",
    "real_dft_y "
   ]
  },
  {
   "cell_type": "code",
   "execution_count": 12,
   "id": "24e905dc",
   "metadata": {},
   "outputs": [
    {
     "data": {
      "image/png": "[encoded data removed]",
      "text/plain": [
       "<Figure size 432x288 with 1 Axes>"
      ]
     },
     "metadata": {
      "needs_background": "light"
     },
     "output_type": "display_data"
    }
   ],
   "source": [
    "# We'll calculate the modulus of the real DFT coefficients and plot them\n",
    "real_dft_amplitudes = np.absolute(real_dft_y)\n",
    "\n",
    "# Plot amplitudes\n",
    "plt.stem(real_dft_amplitudes)\n",
    "plt.title('Real DFT amplitudes', fontsize=24)\n",
    "plt.xlabel('Wave number index', fontsize=20)\n",
    "plt.ylabel('Modulus of Real DFT amplitude', fontsize=20)\n",
    "plt.xticks(fontsize=12)\n",
    "plt.yticks(fontsize=12)\n",
    "plt.show()"
   ]
  }
 ],
 "metadata": {
  "kernelspec": {
   "display_name": "Python 3",
   "language": "python",
   "name": "python3"
  },
  "language_info": {
   "codemirror_mode": {
    "name": "ipython",
    "version": 3
   },
   "file_extension": ".py",
   "mimetype": "text/x-python",
   "name": "python",
   "nbconvert_exporter": "python",
   "pygments_lexer": "ipython3",
   "version": "3.8.8"
  }
 },
 "nbformat": 4,
 "nbformat_minor": 5
}
