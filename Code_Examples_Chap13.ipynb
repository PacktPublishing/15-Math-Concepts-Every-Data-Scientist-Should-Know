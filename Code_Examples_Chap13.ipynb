{
 "cells": [
  {
   "cell_type": "code",
   "execution_count": 1,
   "id": "81043254",
   "metadata": {},
   "outputs": [],
   "source": [
    "import numpy as np\n",
    "import pandas as pd\n",
    "import matplotlib.pyplot as plt\n",
    "from sklearn.feature_selection import mutual_info_regression\n",
    "from scipy.stats import pearsonr"
   ]
  },
  {
   "cell_type": "markdown",
   "id": "8e41ee23",
   "metadata": {},
   "source": [
    "## Mutual Information Example\n",
    "\n",
    "We use the data provided in the file mutual_information.csv which is in the ./Data directory of the GitHub repository. First we'll read in the data."
   ]
  },
  {
   "cell_type": "code",
   "execution_count": 2,
   "id": "d6cc2043",
   "metadata": {},
   "outputs": [],
   "source": [
    "# Read in the data\n",
    "df_mutual = pd.read_csv('./Data/mutual_information_data.csv')"
   ]
  },
  {
   "cell_type": "markdown",
   "id": "419c32b3",
   "metadata": {},
   "source": [
    "Now let's take a quick look at the data"
   ]
  },
  {
   "cell_type": "code",
   "execution_count": 3,
   "id": "053f94d6",
   "metadata": {},
   "outputs": [
    {
     "data": {
      "text/html": [
       "<div>\n",
       "<style scoped>\n",
       "    .dataframe tbody tr th:only-of-type {\n",
       "        vertical-align: middle;\n",
       "    }\n",
       "\n",
       "    .dataframe tbody tr th {\n",
       "        vertical-align: top;\n",
       "    }\n",
       "\n",
       "    .dataframe thead th {\n",
       "        text-align: right;\n",
       "    }\n",
       "</style>\n",
       "<table border=\"1\" class=\"dataframe\">\n",
       "  <thead>\n",
       "    <tr style=\"text-align: right;\">\n",
       "      <th></th>\n",
       "      <th>x</th>\n",
       "      <th>y</th>\n",
       "      <th>z</th>\n",
       "    </tr>\n",
       "  </thead>\n",
       "  <tbody>\n",
       "    <tr>\n",
       "      <th>0</th>\n",
       "      <td>-0.978500</td>\n",
       "      <td>-1.334434</td>\n",
       "      <td>-19.009967</td>\n",
       "    </tr>\n",
       "    <tr>\n",
       "      <th>1</th>\n",
       "      <td>2.013341</td>\n",
       "      <td>2.023878</td>\n",
       "      <td>66.319742</td>\n",
       "    </tr>\n",
       "    <tr>\n",
       "      <th>2</th>\n",
       "      <td>1.716996</td>\n",
       "      <td>0.449100</td>\n",
       "      <td>0.724634</td>\n",
       "    </tr>\n",
       "    <tr>\n",
       "      <th>3</th>\n",
       "      <td>-4.779289</td>\n",
       "      <td>-3.964138</td>\n",
       "      <td>-498.352258</td>\n",
       "    </tr>\n",
       "    <tr>\n",
       "      <th>4</th>\n",
       "      <td>-4.388562</td>\n",
       "      <td>-4.707113</td>\n",
       "      <td>-834.360689</td>\n",
       "    </tr>\n",
       "  </tbody>\n",
       "</table>\n",
       "</div>"
      ],
      "text/plain": [
       "          x         y           z\n",
       "0 -0.978500 -1.334434  -19.009967\n",
       "1  2.013341  2.023878   66.319742\n",
       "2  1.716996  0.449100    0.724634\n",
       "3 -4.779289 -3.964138 -498.352258\n",
       "4 -4.388562 -4.707113 -834.360689"
      ]
     },
     "execution_count": 3,
     "metadata": {},
     "output_type": "execute_result"
    }
   ],
   "source": [
    "# Look at the data\n",
    "df_mutual.head()"
   ]
  },
  {
   "cell_type": "markdown",
   "id": "06061eaf",
   "metadata": {},
   "source": [
    "We can see the data has three columns, x, y and z. Let's plot each of y and z against x. First will do a scatter plot of y against x."
   ]
  },
  {
   "cell_type": "code",
   "execution_count": 4,
   "id": "16e596c7",
   "metadata": {},
   "outputs": [
    {
     "data": {
      "image/png": "[encoded data removed]",
      "text/plain": [
       "<Figure size 432x288 with 1 Axes>"
      ]
     },
     "metadata": {
      "needs_background": "light"
     },
     "output_type": "display_data"
    }
   ],
   "source": [
    "# Scatter plot of y against x\n",
    "plt.scatter(df_mutual['x'], df_mutual['y'])\n",
    "plt.title('y vs x', fontsize=20)\n",
    "plt.xlabel('x', fontsize=20)\n",
    "plt.ylabel('y', fontsize=20)\n",
    "plt.xticks(fontsize=18)\n",
    "plt.yticks(fontsize=18)\n",
    "plt.show()"
   ]
  },
  {
   "cell_type": "markdown",
   "id": "3890694a",
   "metadata": {},
   "source": [
    "We can see there is a strong linear relationship between y and x. Next we'll do a scatter plot of z against x"
   ]
  },
  {
   "cell_type": "code",
   "execution_count": 5,
   "id": "8b93d219",
   "metadata": {},
   "outputs": [
    {
     "data": {
      "image/png": "[encoded data removed]",
      "text/plain": [
       "<Figure size 432x288 with 1 Axes>"
      ]
     },
     "metadata": {
      "needs_background": "light"
     },
     "output_type": "display_data"
    }
   ],
   "source": [
    "# Scatter plot of z against x\n",
    "plt.scatter(df_mutual['x'], df_mutual['z'])\n",
    "plt.title('z vs x', fontsize=20)\n",
    "plt.xlabel('x', fontsize=20)\n",
    "plt.ylabel('z', fontsize=20)\n",
    "plt.xticks(fontsize=18)\n",
    "plt.yticks(fontsize=18)\n",
    "plt.show()"
   ]
  },
  {
   "cell_type": "markdown",
   "id": "35ae365a",
   "metadata": {},
   "source": [
    "We can see there is still a strong relationship between z and x, but it is non-linear so if we were to measure the Pearson correlation between z and x it would not be as high as the relationship between y and x. \n",
    "\n",
    "We'll calculate those Pearson correlation coefficients. We'll use the scipy.stats.pearsonr function to calculate the Pearson correlations for us."
   ]
  },
  {
   "cell_type": "code",
   "execution_count": 6,
   "id": "5ba1869a",
   "metadata": {},
   "outputs": [
    {
     "name": "stdout",
     "output_type": "stream",
     "text": [
      "Pearson correlation between y and x =  0.9801371625555979\n",
      "Pearson correlation between z and x =  0.7569629714461419\n"
     ]
    }
   ],
   "source": [
    "print(\"Pearson correlation between y and x = \", pearsonr(df_mutual['x'], df_mutual['y'])[0])\n",
    "print(\"Pearson correlation between z and x = \", pearsonr(df_mutual['x'], df_mutual['z'])[0])"
   ]
  },
  {
   "cell_type": "markdown",
   "id": "953eedf3",
   "metadata": {},
   "source": [
    "There is a 26% difference between the two Pearson correlation coefficient values. The z values in the dataset have actually been constructed from the y values using the non-linear relationship $z=8y^{3}$.\n",
    "\n",
    "Using the Pearson correlation coefficient to identify relationships between variables, from samples of those variables, works well when the relationship is clearly linear. However, when the relationship betweem two variables is non-linear, the Pearson correlation coefficient is not so good at identifying that a relationship is present."
   ]
  },
  {
   "cell_type": "markdown",
   "id": "56900219",
   "metadata": {},
   "source": [
    "Now for comparison we'll estimate the mutual information between y and x and between z and x. We'll use the sklearn.feature_selection.mutual_info_regression function to estimate the mutual information for us."
   ]
  },
  {
   "cell_type": "code",
   "execution_count": 7,
   "id": "a6d79011",
   "metadata": {},
   "outputs": [
    {
     "name": "stdout",
     "output_type": "stream",
     "text": [
      "Mutual information between y and x =  1.6219665917644344\n",
      "Mutual information between z and x =  1.6154811463758527\n"
     ]
    }
   ],
   "source": [
    "print(\"Mutual information between y and x = \", mutual_info_regression(df_mutual['x'].values.reshape(-1,1), df_mutual['y'])[0])\n",
    "print(\"Mutual information between z and x = \", mutual_info_regression(df_mutual['x'].values.reshape(-1,1), df_mutual['z'])[0])"
   ]
  },
  {
   "cell_type": "markdown",
   "id": "bc7d724f",
   "metadata": {},
   "source": [
    "There is a 0.4% difference between those two estimates of mutual information. This says the mutual information is just as good at identifying a relationship between two variables when that relationship is non-linear as when the relationship is linear. \n",
    "\n",
    "The numerical difference between the mutual information values will be due to the fact we are estimating the mutual information values from samples of the random variables, not the underlying true distributions of the random variables. "
   ]
  }
 ],
 "metadata": {
  "kernelspec": {
   "display_name": "Python 3",
   "language": "python",
   "name": "python3"
  },
  "language_info": {
   "codemirror_mode": {
    "name": "ipython",
    "version": 3
   },
   "file_extension": ".py",
   "mimetype": "text/x-python",
   "name": "python",
   "nbconvert_exporter": "python",
   "pygments_lexer": "ipython3",
   "version": "3.8.8"
  }
 },
 "nbformat": 4,
 "nbformat_minor": 5
}
