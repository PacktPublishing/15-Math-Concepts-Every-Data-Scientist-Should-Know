{
 "cells": [
  {
   "cell_type": "code",
   "execution_count": 1,
   "id": "8656a25a",
   "metadata": {},
   "outputs": [],
   "source": [
    "import pandas as pd\n",
    "import numpy as np\n",
    "import matplotlib.pyplot as plt\n",
    "from sklearn.decomposition import PCA, NMF"
   ]
  },
  {
   "cell_type": "markdown",
   "id": "d4671c92",
   "metadata": {},
   "source": [
    "## Calculating the inner product between two vectors\n",
    "\n",
    "We'll use the in-built function in the numpy package to calculate the inner product between two vectors"
   ]
  },
  {
   "cell_type": "code",
   "execution_count": 2,
   "id": "e0158cda",
   "metadata": {},
   "outputs": [
    {
     "data": {
      "text/plain": [
       "-13.0"
      ]
     },
     "execution_count": 2,
     "metadata": {},
     "output_type": "execute_result"
    }
   ],
   "source": [
    "# Create the two vectors\n",
    "a = np.array([1.0, -4.0, 0.5])\n",
    "b = np.array([0.0, 3.5, 2.0])\n",
    "\n",
    "# Calculate the inner product\n",
    "# The answer should be = (1*0) + (-4.0*3.5) + (0.5*2.0) = 0 - 14 + 1 = -13\n",
    "np.inner(a,b)"
   ]
  },
  {
   "cell_type": "markdown",
   "id": "990b80ad",
   "metadata": {},
   "source": [
    "## Calculating the outer product between two vectors\n",
    "We'll use the in-built function in the numpy package to calculate the outer product between two vectors"
   ]
  },
  {
   "cell_type": "code",
   "execution_count": 3,
   "id": "6d8fd708",
   "metadata": {},
   "outputs": [
    {
     "data": {
      "text/plain": [
       "array([[  0.  ,   3.5 ,   2.  ],\n",
       "       [ -0.  , -14.  ,  -8.  ],\n",
       "       [  0.  ,   1.75,   1.  ]])"
      ]
     },
     "execution_count": 3,
     "metadata": {},
     "output_type": "execute_result"
    }
   ],
   "source": [
    "# Create the two vectors.\n",
    "# We'll use the same vectors as in the previous example\n",
    "a = np.array([1.0, -4.0, 0.5])\n",
    "b = np.array([0.0, 3.5, 2.0])\n",
    "\n",
    "# Calculate the outer product\n",
    "# The answer should be a 3x3 array of the form \n",
    "# [[1*0, 1*3.5, 1*2], [-4*0, -4*3.5, -4*2], [0.5*0, 0.5*3.5, 0.5*2]]\n",
    "# which gives [[0, 3.5, 2], [0, -15, -8], [0, 1.75, 1]]\n",
    "np.outer(a,b)"
   ]
  },
  {
   "cell_type": "markdown",
   "id": "409993c5",
   "metadata": {},
   "source": [
    "## Multiplying two matrices together\n",
    "We'll use the in-built function in the numpy package to multiply two matrices together"
   ]
  },
  {
   "cell_type": "code",
   "execution_count": 4,
   "id": "ef87a4fc",
   "metadata": {},
   "outputs": [
    {
     "data": {
      "text/plain": [
       "array([[14. ,  4. ,  7. ],\n",
       "       [ 2.5,  4.5,  5.5],\n",
       "       [12.5,  0.5,  3. ]])"
      ]
     },
     "execution_count": 4,
     "metadata": {},
     "output_type": "execute_result"
    }
   ],
   "source": [
    "# Create 3x3 matrices\n",
    "A = np.array([[1.0, 2.0, 1.0], [-2.5, 1.0, 0.0], [3.0, 1.0, 1.5]])\n",
    "B = np.array([[1.0, -1.0, -1.0], [5, 2.0, 3.0], [3.0, 1.0, 2.0]])\n",
    "\n",
    "# Mulitply the matrices together\n",
    "np.matmul(A, B)"
   ]
  },
  {
   "cell_type": "markdown",
   "id": "3d38c069",
   "metadata": {},
   "source": [
    "## Multiply a vector by a matrix\n",
    "We'll use the in-built functions in the numpy package to multiply a vector by a matrix"
   ]
  },
  {
   "cell_type": "code",
   "execution_count": 5,
   "id": "423d4a52",
   "metadata": {},
   "outputs": [
    {
     "data": {
      "text/plain": [
       "array([ 1. ,  1.5, -3. ])"
      ]
     },
     "execution_count": 5,
     "metadata": {},
     "output_type": "execute_result"
    }
   ],
   "source": [
    "# Create a 4-dimensional vector\n",
    "a = np.array([1.0, 2.0, 3.0, -2.0])\n",
    "\n",
    "# Create a 3x4 matrix\n",
    "A = np.array([[1.0, 1.0, 0.0, 1.0], [-2.0, 2.5, 1.5, 3.0], [0.0, 1.0, 1.0, 4.0]])\n",
    "\n",
    "# We'll use the matrix multiplication function to calculate A*a\n",
    "np.matmul(A, a)"
   ]
  },
  {
   "cell_type": "code",
   "execution_count": 6,
   "id": "080e0e97",
   "metadata": {},
   "outputs": [
    {
     "data": {
      "text/plain": [
       "array([-3.,  9.,  6., 19.])"
      ]
     },
     "execution_count": 6,
     "metadata": {},
     "output_type": "execute_result"
    }
   ],
   "source": [
    "# We'll now create a 3-dimensional vector b \n",
    "# and calculate b*A\n",
    "b = np.array([1.0, 2.0, 3.0])\n",
    "\n",
    "np.matmul(b, A)"
   ]
  },
  {
   "cell_type": "markdown",
   "id": "edddb0af",
   "metadata": {},
   "source": [
    "## Calculating inverse of a square matrix\n",
    "We'll use the in-built numpy function to calculate the inverse of a square matrix"
   ]
  },
  {
   "cell_type": "code",
   "execution_count": 7,
   "id": "fa6e99ab",
   "metadata": {},
   "outputs": [
    {
     "data": {
      "text/plain": [
       "array([[-5.00000000e-01, -1.11022302e-16, -5.00000000e-01,\n",
       "         1.50000000e+00],\n",
       "       [ 2.50000000e+00,  2.00000000e+00,  5.00000000e-01,\n",
       "        -6.50000000e+00],\n",
       "       [-5.00000000e-01,  6.66133815e-17,  5.00000000e-01,\n",
       "         5.00000000e-01],\n",
       "       [-5.00000000e-01, -1.00000000e+00, -5.00000000e-01,\n",
       "         2.50000000e+00]])"
      ]
     },
     "execution_count": 7,
     "metadata": {},
     "output_type": "execute_result"
    }
   ],
   "source": [
    "# Create a 4x4 square matrix\n",
    "A = np.array( [[1, 2, 3, 4],\n",
    "               [2, 1, 2, 1],\n",
    "               [0, 1, 3, 2],\n",
    "               [1, 1, 2, 2]])\n",
    "\n",
    "# Calculate the inverse matrix\n",
    "np.linalg.inv(A)"
   ]
  },
  {
   "cell_type": "code",
   "execution_count": 8,
   "id": "3963f66e",
   "metadata": {},
   "outputs": [
    {
     "data": {
      "text/plain": [
       "array([[ 1.00000000e+00, -2.22044605e-16, -4.44089210e-16,\n",
       "         0.00000000e+00],\n",
       "       [ 0.00000000e+00,  1.00000000e+00,  0.00000000e+00,\n",
       "         0.00000000e+00],\n",
       "       [-5.55111512e-17, -5.55111512e-17,  1.00000000e+00,\n",
       "        -1.11022302e-16],\n",
       "       [ 5.55111512e-17,  0.00000000e+00,  0.00000000e+00,\n",
       "         1.00000000e+00]])"
      ]
     },
     "execution_count": 8,
     "metadata": {},
     "output_type": "execute_result"
    }
   ],
   "source": [
    "# We'll check that we do get the inverse of A\n",
    "\n",
    "# Store the inverse matrix\n",
    "Ainv = np.linalg.inv(A)\n",
    "\n",
    "# Multiply the matrix by its inverse.\n",
    "# We should get the identity matrix [[1,0,0,0], [0,1,0,0], [0,0,1,0], [0,0,0,1]]\n",
    "# up to numerical precision\n",
    "np.matmul(Ainv, A)"
   ]
  },
  {
   "cell_type": "code",
   "execution_count": 9,
   "id": "16046653",
   "metadata": {},
   "outputs": [
    {
     "data": {
      "text/plain": [
       "array([[ 1.00000000e+00,  8.88178420e-17,  0.00000000e+00,\n",
       "        -4.44089210e-16],\n",
       "       [ 0.00000000e+00,  1.00000000e+00,  0.00000000e+00,\n",
       "         0.00000000e+00],\n",
       "       [ 2.22044605e-16,  1.99840144e-16,  1.00000000e+00,\n",
       "        -6.66133815e-16],\n",
       "       [ 0.00000000e+00,  2.22044605e-17,  0.00000000e+00,\n",
       "         1.00000000e+00]])"
      ]
     },
     "execution_count": 9,
     "metadata": {},
     "output_type": "execute_result"
    }
   ],
   "source": [
    "# Also check when we multiply the inverse by the original matrix\n",
    "# that we also get the identity matrix\n",
    "np.matmul( A, Ainv)"
   ]
  },
  {
   "cell_type": "markdown",
   "id": "9e76d5d7",
   "metadata": {},
   "source": [
    "## Calculating the eigen-decomposition of a square matrix\n",
    "We'll use the in-built numpy function to calculate the eigen-decomposition of a square matrix. We'll use the np.linalg.eig function, which returns the eigenvalues and the right eigenvectors, i.e. in the eigen-decomposition $\\underline{\\underline{A}}\\;=\\; \\underline{\\underline{P}} \\,\\underline{\\underline{\\Lambda}}\\,\\underline{\\underline{P}}^{-1}$, the right eigenvectors correspond to the colums of $\\underline{\\underline{P}}$."
   ]
  },
  {
   "cell_type": "code",
   "execution_count": 10,
   "id": "07b110c4",
   "metadata": {},
   "outputs": [],
   "source": [
    "# Create a 4x4 square matrix\n",
    "A = np.array( [[1, 2, 3, 4],\n",
    "               [2, 1, 2, 1],\n",
    "               [0, 1, 3, 2],\n",
    "               [1, 1, 2, 2]])\n",
    "\n",
    "# Calculate the eigen-decomposition\n",
    "eigvals, right_eigvecs = np.linalg.eig(A)"
   ]
  },
  {
   "cell_type": "code",
   "execution_count": 11,
   "id": "6fdb2a37",
   "metadata": {},
   "outputs": [
    {
     "data": {
      "text/plain": [
       "array([ 6.48491569, -1.04677151,  1.34237298,  0.21948284])"
      ]
     },
     "execution_count": 11,
     "metadata": {},
     "output_type": "execute_result"
    }
   ],
   "source": [
    "eigvals"
   ]
  },
  {
   "cell_type": "markdown",
   "id": "bad45b58",
   "metadata": {},
   "source": [
    "## Calculating the eigen-decomposition of a real symmetric matrix\n",
    "We'll use the in-built numpy function to calculate the eigen-decomposition of a real symmetric square matrix. We'll use the np.linalg.eigh function, which returns the eigenvalues and the eigenvectors, i.e. in the eigen-decomposition $\\underline{\\underline{A}}\\;=\\; \\underline{\\underline{P}} \\,\\underline{\\underline{\\Lambda}}\\,\\underline{\\underline{P}}^{\\top}$, the right correspond to the colums of $\\underline{\\underline{P}}$, and form an orthonormal set. Note we are using the np.linalg.eigh function, which will be optimized (more suited) for calculating the eigen-decomposition of a real symmetric matrix than the general eigen-decomposition function np.linalg.eig "
   ]
  },
  {
   "cell_type": "code",
   "execution_count": 12,
   "id": "9a788e4f",
   "metadata": {},
   "outputs": [],
   "source": [
    "# Create a 4x4 symmetric square matrix\n",
    "A = np.array( [[1, 2, 3, 4],\n",
    "               [2, 1, 2, 1],\n",
    "               [3, 2, 3, 2],\n",
    "               [4, 1, 2, 2]])\n",
    "\n",
    "# Calculate the eigen-decomposition\n",
    "eigvals, eigvecs = np.linalg.eigh(A)"
   ]
  },
  {
   "cell_type": "code",
   "execution_count": 13,
   "id": "2aa0794d",
   "metadata": {},
   "outputs": [
    {
     "data": {
      "text/plain": [
       "array([-2.84382794, -0.22727708,  1.02635   ,  9.04475502])"
      ]
     },
     "execution_count": 13,
     "metadata": {},
     "output_type": "execute_result"
    }
   ],
   "source": [
    "eigvals"
   ]
  },
  {
   "cell_type": "code",
   "execution_count": 14,
   "id": "b072d546",
   "metadata": {},
   "outputs": [
    {
     "name": "stdout",
     "output_type": "stream",
     "text": [
      "i= 0 j= 0 Inner product =  1.0\n",
      "i= 0 j= 1 Inner product =  -2.7755575615628914e-17\n",
      "i= 0 j= 2 Inner product =  -5.551115123125783e-17\n",
      "i= 0 j= 3 Inner product =  -1.6653345369377348e-16\n",
      "i= 1 j= 1 Inner product =  1.0\n",
      "i= 1 j= 2 Inner product =  5.551115123125783e-17\n",
      "i= 1 j= 3 Inner product =  0.0\n",
      "i= 2 j= 2 Inner product =  0.9999999999999993\n",
      "i= 2 j= 3 Inner product =  -8.326672684688674e-17\n",
      "i= 3 j= 3 Inner product =  0.9999999999999999\n"
     ]
    }
   ],
   "source": [
    "# Check that the eigenvectors are orthogonal to each other \n",
    "# and are of unit length. We can do this by calculating the \n",
    "# inner product for each pair of eigenvectors\n",
    "for i in range(A.shape[0]):\n",
    "    for j in range(i,A.shape[0]):\n",
    "        print(\"i=\",i, \"j=\",j, \"Inner product = \", np.inner(eigvecs[:, i], eigvecs[:, j]))"
   ]
  },
  {
   "cell_type": "markdown",
   "id": "ac51989d",
   "metadata": {},
   "source": [
    "## Calculating the inverse of a real symmetric matrix from it eigen-decomposition\n",
    "We'll calculate the eigen-decomposition of a real symmetric matrix and show how we can construct its inverse"
   ]
  },
  {
   "cell_type": "code",
   "execution_count": 15,
   "id": "3fb0b2c4",
   "metadata": {},
   "outputs": [],
   "source": [
    "# Create a 4x4 symmetric square matrix\n",
    "A = np.array( [[1, 2, 3, 4],\n",
    "               [2, 1, 2, 1],\n",
    "               [3, 2, 3, 2],\n",
    "               [4, 1, 2, 2]])\n",
    "\n",
    "# Calculate the eigen-decomposition\n",
    "eigvals, eigvecs = np.linalg.eigh(A)\n",
    "\n",
    "# Initialize an empty 4x4 matrix\n",
    "A_inv_from_eigen = np.zeros(A.shape)\n",
    "\n",
    "# Construct the inverse matrix by adding the \n",
    "# contribution from each eigenvector explicitly\n",
    "for i in range(A.shape[0]):\n",
    "    A_inv_from_eigen += np.outer(eigvecs[:, i], eigvecs[:, i])/eigvals[i]\n"
   ]
  },
  {
   "cell_type": "code",
   "execution_count": 16,
   "id": "929e6a24",
   "metadata": {},
   "outputs": [
    {
     "data": {
      "text/plain": [
       "array([[ 1.00000000e+00,  3.88578059e-16,  3.88578059e-16,\n",
       "         4.99600361e-16],\n",
       "       [-8.88178420e-16,  1.00000000e+00, -8.88178420e-16,\n",
       "        -3.99680289e-15],\n",
       "       [-8.88178420e-16,  8.88178420e-16,  1.00000000e+00,\n",
       "         1.77635684e-15],\n",
       "       [-7.77156117e-16,  1.66533454e-16,  5.55111512e-17,\n",
       "         1.00000000e+00]])"
      ]
     },
     "execution_count": 16,
     "metadata": {},
     "output_type": "execute_result"
    }
   ],
   "source": [
    "# Check that it does work as an inverse\n",
    "np.matmul(A_inv_from_eigen, A)"
   ]
  },
  {
   "cell_type": "code",
   "execution_count": 17,
   "id": "1ce883f0",
   "metadata": {},
   "outputs": [
    {
     "data": {
      "text/plain": [
       "array([[ 1.00000000e+00, -8.88178420e-16, -8.88178420e-16,\n",
       "        -7.77156117e-16],\n",
       "       [ 3.88578059e-16,  1.00000000e+00,  8.88178420e-16,\n",
       "         1.66533454e-16],\n",
       "       [ 3.88578059e-16, -8.88178420e-16,  1.00000000e+00,\n",
       "         5.55111512e-17],\n",
       "       [ 4.99600361e-16, -3.99680289e-15,  1.77635684e-15,\n",
       "         1.00000000e+00]])"
      ]
     },
     "execution_count": 17,
     "metadata": {},
     "output_type": "execute_result"
    }
   ],
   "source": [
    "np.matmul(A, A_inv_from_eigen)"
   ]
  },
  {
   "cell_type": "code",
   "execution_count": 18,
   "id": "4255c173",
   "metadata": {},
   "outputs": [
    {
     "name": "stdout",
     "output_type": "stream",
     "text": [
      "0 0 -0.16666666666666669 -0.16666666666666657\n",
      "0 1 -0.33333333333333337 -0.33333333333333365\n",
      "0 2 0.16666666666666663 0.16666666666666696\n",
      "0 3 0.33333333333333337 0.33333333333333326\n",
      "1 0 -0.3333333333333332 -0.33333333333333365\n",
      "1 1 -2.6666666666666674 -2.66666666666666\n",
      "1 2 2.3333333333333344 2.3333333333333286\n",
      "1 3 -0.33333333333333304 -0.3333333333333332\n",
      "2 0 0.16666666666666663 0.16666666666666696\n",
      "2 1 2.3333333333333335 2.3333333333333286\n",
      "2 2 -1.166666666666667 -1.1666666666666643\n",
      "2 3 -0.3333333333333335 -0.333333333333333\n",
      "3 0 0.3333333333333333 0.33333333333333326\n",
      "3 1 -0.33333333333333315 -0.3333333333333332\n",
      "3 2 -0.3333333333333335 -0.333333333333333\n",
      "3 3 0.3333333333333333 0.3333333333333328\n"
     ]
    }
   ],
   "source": [
    "# Compare to the inverse matrix calculated using the numpy in-built function\n",
    "A_inv_from_np = np.linalg.inv(A)\n",
    "\n",
    "for i in range(A_inv_from_np.shape[0]):\n",
    "    for j in range(A_inv_from_np.shape[1]):\n",
    "        print(i, j, A_inv_from_np[i,j], A_inv_from_eigen[i,j])"
   ]
  },
  {
   "cell_type": "markdown",
   "id": "764d3362",
   "metadata": {},
   "source": [
    "## Calculating the SVD of a real valued matrix\n",
    "We'll use the numpy in-built function to calculate the Singular Value Decomposition of a matrix."
   ]
  },
  {
   "cell_type": "code",
   "execution_count": 19,
   "id": "9b384266",
   "metadata": {},
   "outputs": [],
   "source": [
    "# Create a 5x3 matrix\n",
    "A = np.array([[1.0, 2.0, 3.0],\n",
    "              [-1.0, 0.0, 1.0],\n",
    "              [3.0, 3.0, 2.0],\n",
    "              [2.0, 4.0, 7.0],\n",
    "              [1.0, -0.5, -2.0]])\n",
    "\n",
    "# Calculate SVD. In this instance the matrix \n",
    "# u will be a square matrix with the same number of rows \n",
    "# as the input matrix A has\n",
    "u, d, v_transpose = np.linalg.svd(A, full_matrices=True)\n",
    "\n",
    "# Calculate the compact form of the SVD. In this instance \n",
    "# the matrix u_compact will have the same shape as the input \n",
    "# matrix A\n",
    "u_compact, d_compact, v_transpose_compact = np.linalg.svd(A, full_matrices=False)"
   ]
  },
  {
   "cell_type": "code",
   "execution_count": 20,
   "id": "31c50872",
   "metadata": {},
   "outputs": [
    {
     "name": "stdout",
     "output_type": "stream",
     "text": [
      "(5, 5) (5, 3)\n"
     ]
    }
   ],
   "source": [
    "# Let's check that the matrix U has different shapes in \n",
    "# compact and non-compact forms of the SVD\n",
    "print(u.shape, u_compact.shape)\n"
   ]
  },
  {
   "cell_type": "markdown",
   "id": "589432fc",
   "metadata": {},
   "source": [
    "## PCA Example\n",
    "We will use stock market prices from the S&P500 index between 2010 and 2013. The data can be found in the file SP00_log_returns.csv in the Data folder for this chapter.\n",
    "\n",
    "The data consists of daily log closing returns for each stock in the index for which we have a full history between 1st Jan 2010 and 31st December 2013. That gives us 453 stocks and 1258 observation points. The stocks are the columns of the dataset, and the rows are the timepoints. The stocks are labelled S1, S2,...., S453.\n",
    "\n",
    "The daily log return is the natural logarithm of the ratio of the closing stock price to the closing stock price the preceding trading day. The log return is calculated for all trading days where it is possible, so days on which the markets were closed will not have a log return. A positive log return value indicates that the stock price has increased compared to the previous trading day, whilst a negative log return indicates the stock price has decreased.\n",
    "\n",
    "The log return values for a single stock will be auto-correlated, i.e. there will be correlations in the values between subsequent days. This correlation isn't taken into account in basic PCA. For this example, we will ignore this fact, and use PCA just as a method of reducing dimensioality. If we were wanting to build a predictive model of stock prices using the principal components, we would want to account for the auto-correlation in stock prices in our predictive model."
   ]
  },
  {
   "cell_type": "code",
   "execution_count": 21,
   "id": "5eb51477",
   "metadata": {},
   "outputs": [],
   "source": [
    "## Read in the raw data into a pandas dataframe.\n",
    "sp500_returns = pd.read_csv('./Data/SP500_log_returns.csv')"
   ]
  },
  {
   "cell_type": "code",
   "execution_count": 22,
   "id": "f1a86cb2",
   "metadata": {},
   "outputs": [
    {
     "data": {
      "text/html": [
       "<div>\n",
       "<style scoped>\n",
       "    .dataframe tbody tr th:only-of-type {\n",
       "        vertical-align: middle;\n",
       "    }\n",
       "\n",
       "    .dataframe tbody tr th {\n",
       "        vertical-align: top;\n",
       "    }\n",
       "\n",
       "    .dataframe thead th {\n",
       "        text-align: right;\n",
       "    }\n",
       "</style>\n",
       "<table border=\"1\" class=\"dataframe\">\n",
       "  <thead>\n",
       "    <tr style=\"text-align: right;\">\n",
       "      <th></th>\n",
       "      <th>S1</th>\n",
       "      <th>S2</th>\n",
       "      <th>S3</th>\n",
       "      <th>S4</th>\n",
       "      <th>S5</th>\n",
       "      <th>S6</th>\n",
       "      <th>S7</th>\n",
       "      <th>S8</th>\n",
       "      <th>S9</th>\n",
       "      <th>S10</th>\n",
       "      <th>...</th>\n",
       "      <th>S444</th>\n",
       "      <th>S445</th>\n",
       "      <th>S446</th>\n",
       "      <th>S447</th>\n",
       "      <th>S448</th>\n",
       "      <th>S449</th>\n",
       "      <th>S450</th>\n",
       "      <th>S451</th>\n",
       "      <th>S452</th>\n",
       "      <th>S453</th>\n",
       "    </tr>\n",
       "  </thead>\n",
       "  <tbody>\n",
       "    <tr>\n",
       "      <th>0</th>\n",
       "      <td>-0.002871</td>\n",
       "      <td>0.010870</td>\n",
       "      <td>0.002714</td>\n",
       "      <td>0.012850</td>\n",
       "      <td>0.004970</td>\n",
       "      <td>-0.022676</td>\n",
       "      <td>0.013160</td>\n",
       "      <td>0.014752</td>\n",
       "      <td>0.011934</td>\n",
       "      <td>-0.003782</td>\n",
       "      <td>...</td>\n",
       "      <td>-0.014131</td>\n",
       "      <td>0.010741</td>\n",
       "      <td>0.001577</td>\n",
       "      <td>0.006238</td>\n",
       "      <td>-0.005645</td>\n",
       "      <td>0.010483</td>\n",
       "      <td>0.009401</td>\n",
       "      <td>-0.000855</td>\n",
       "      <td>0.029694</td>\n",
       "      <td>0.011900</td>\n",
       "    </tr>\n",
       "    <tr>\n",
       "      <th>1</th>\n",
       "      <td>-0.008043</td>\n",
       "      <td>-0.042482</td>\n",
       "      <td>-0.001026</td>\n",
       "      <td>-0.007911</td>\n",
       "      <td>-0.008296</td>\n",
       "      <td>-0.009506</td>\n",
       "      <td>0.005448</td>\n",
       "      <td>-0.008239</td>\n",
       "      <td>0.017662</td>\n",
       "      <td>-0.001580</td>\n",
       "      <td>...</td>\n",
       "      <td>-0.005744</td>\n",
       "      <td>-0.002686</td>\n",
       "      <td>-0.010717</td>\n",
       "      <td>0.003319</td>\n",
       "      <td>-0.009408</td>\n",
       "      <td>0.001158</td>\n",
       "      <td>0.000581</td>\n",
       "      <td>-0.004280</td>\n",
       "      <td>0.038409</td>\n",
       "      <td>0.009737</td>\n",
       "    </tr>\n",
       "    <tr>\n",
       "      <th>2</th>\n",
       "      <td>0.000000</td>\n",
       "      <td>0.039669</td>\n",
       "      <td>-0.016034</td>\n",
       "      <td>-0.007607</td>\n",
       "      <td>0.007020</td>\n",
       "      <td>-0.014629</td>\n",
       "      <td>0.016261</td>\n",
       "      <td>0.002001</td>\n",
       "      <td>0.007739</td>\n",
       "      <td>-0.004742</td>\n",
       "      <td>...</td>\n",
       "      <td>0.000000</td>\n",
       "      <td>-0.008119</td>\n",
       "      <td>-0.004410</td>\n",
       "      <td>0.008174</td>\n",
       "      <td>0.003421</td>\n",
       "      <td>-0.009302</td>\n",
       "      <td>0.000000</td>\n",
       "      <td>-0.006603</td>\n",
       "      <td>0.092847</td>\n",
       "      <td>-0.002581</td>\n",
       "    </tr>\n",
       "    <tr>\n",
       "      <th>3</th>\n",
       "      <td>0.000974</td>\n",
       "      <td>0.005433</td>\n",
       "      <td>-0.005541</td>\n",
       "      <td>0.000000</td>\n",
       "      <td>0.008434</td>\n",
       "      <td>0.001466</td>\n",
       "      <td>0.005631</td>\n",
       "      <td>-0.007028</td>\n",
       "      <td>-0.013998</td>\n",
       "      <td>-0.004779</td>\n",
       "      <td>...</td>\n",
       "      <td>-0.000962</td>\n",
       "      <td>0.003812</td>\n",
       "      <td>-0.008889</td>\n",
       "      <td>-0.001432</td>\n",
       "      <td>0.014714</td>\n",
       "      <td>0.008173</td>\n",
       "      <td>-0.006565</td>\n",
       "      <td>0.004042</td>\n",
       "      <td>0.108162</td>\n",
       "      <td>0.007450</td>\n",
       "    </tr>\n",
       "    <tr>\n",
       "      <th>4</th>\n",
       "      <td>0.005208</td>\n",
       "      <td>0.033456</td>\n",
       "      <td>0.007957</td>\n",
       "      <td>0.007320</td>\n",
       "      <td>0.005282</td>\n",
       "      <td>-0.005459</td>\n",
       "      <td>0.001410</td>\n",
       "      <td>-0.001014</td>\n",
       "      <td>-0.001634</td>\n",
       "      <td>0.009252</td>\n",
       "      <td>...</td>\n",
       "      <td>0.001444</td>\n",
       "      <td>-0.008753</td>\n",
       "      <td>0.018571</td>\n",
       "      <td>-0.002442</td>\n",
       "      <td>0.001124</td>\n",
       "      <td>-0.001166</td>\n",
       "      <td>0.001198</td>\n",
       "      <td>0.000576</td>\n",
       "      <td>0.013497</td>\n",
       "      <td>0.002908</td>\n",
       "    </tr>\n",
       "    <tr>\n",
       "      <th>5</th>\n",
       "      <td>-0.001945</td>\n",
       "      <td>-0.002290</td>\n",
       "      <td>-0.012722</td>\n",
       "      <td>0.003804</td>\n",
       "      <td>0.000542</td>\n",
       "      <td>0.008156</td>\n",
       "      <td>0.002118</td>\n",
       "      <td>0.007065</td>\n",
       "      <td>-0.012896</td>\n",
       "      <td>-0.008586</td>\n",
       "      <td>...</td>\n",
       "      <td>0.003819</td>\n",
       "      <td>-0.004367</td>\n",
       "      <td>-0.010854</td>\n",
       "      <td>0.005134</td>\n",
       "      <td>0.013682</td>\n",
       "      <td>0.018391</td>\n",
       "      <td>-0.001791</td>\n",
       "      <td>0.012536</td>\n",
       "      <td>0.002426</td>\n",
       "      <td>0.015267</td>\n",
       "    </tr>\n",
       "    <tr>\n",
       "      <th>6</th>\n",
       "      <td>-0.003606</td>\n",
       "      <td>-0.037931</td>\n",
       "      <td>-0.007052</td>\n",
       "      <td>0.007570</td>\n",
       "      <td>-0.000544</td>\n",
       "      <td>-0.002076</td>\n",
       "      <td>0.001184</td>\n",
       "      <td>0.001512</td>\n",
       "      <td>-0.013371</td>\n",
       "      <td>-0.017834</td>\n",
       "      <td>...</td>\n",
       "      <td>0.014225</td>\n",
       "      <td>-0.036203</td>\n",
       "      <td>-0.012807</td>\n",
       "      <td>0.003293</td>\n",
       "      <td>-0.004459</td>\n",
       "      <td>0.019396</td>\n",
       "      <td>0.001800</td>\n",
       "      <td>0.013427</td>\n",
       "      <td>-0.020352</td>\n",
       "      <td>-0.016914</td>\n",
       "    </tr>\n",
       "    <tr>\n",
       "      <th>7</th>\n",
       "      <td>0.007194</td>\n",
       "      <td>0.013229</td>\n",
       "      <td>0.013285</td>\n",
       "      <td>0.016782</td>\n",
       "      <td>0.007808</td>\n",
       "      <td>-0.000621</td>\n",
       "      <td>0.006808</td>\n",
       "      <td>0.024509</td>\n",
       "      <td>0.012481</td>\n",
       "      <td>-0.006645</td>\n",
       "      <td>...</td>\n",
       "      <td>0.013536</td>\n",
       "      <td>0.009756</td>\n",
       "      <td>0.004131</td>\n",
       "      <td>-0.004154</td>\n",
       "      <td>0.008021</td>\n",
       "      <td>0.007852</td>\n",
       "      <td>0.001184</td>\n",
       "      <td>0.001673</td>\n",
       "      <td>0.024769</td>\n",
       "      <td>0.004647</td>\n",
       "    </tr>\n",
       "    <tr>\n",
       "      <th>8</th>\n",
       "      <td>0.018141</td>\n",
       "      <td>-0.011321</td>\n",
       "      <td>-0.003242</td>\n",
       "      <td>0.008859</td>\n",
       "      <td>0.002351</td>\n",
       "      <td>0.013221</td>\n",
       "      <td>0.009320</td>\n",
       "      <td>0.004145</td>\n",
       "      <td>-0.006386</td>\n",
       "      <td>-0.001001</td>\n",
       "      <td>...</td>\n",
       "      <td>-0.001849</td>\n",
       "      <td>-0.001717</td>\n",
       "      <td>0.005824</td>\n",
       "      <td>0.002011</td>\n",
       "      <td>0.011551</td>\n",
       "      <td>-0.002247</td>\n",
       "      <td>0.018273</td>\n",
       "      <td>0.010251</td>\n",
       "      <td>0.021168</td>\n",
       "      <td>0.005275</td>\n",
       "    </tr>\n",
       "    <tr>\n",
       "      <th>9</th>\n",
       "      <td>-0.025630</td>\n",
       "      <td>-0.008283</td>\n",
       "      <td>-0.023990</td>\n",
       "      <td>-0.012551</td>\n",
       "      <td>0.002346</td>\n",
       "      <td>-0.004966</td>\n",
       "      <td>-0.003498</td>\n",
       "      <td>-0.007794</td>\n",
       "      <td>-0.001393</td>\n",
       "      <td>-0.030269</td>\n",
       "      <td>...</td>\n",
       "      <td>-0.006054</td>\n",
       "      <td>-0.012791</td>\n",
       "      <td>-0.025190</td>\n",
       "      <td>-0.007783</td>\n",
       "      <td>-0.007482</td>\n",
       "      <td>-0.001131</td>\n",
       "      <td>-0.025243</td>\n",
       "      <td>-0.016681</td>\n",
       "      <td>-0.031480</td>\n",
       "      <td>-0.011913</td>\n",
       "    </tr>\n",
       "  </tbody>\n",
       "</table>\n",
       "<p>10 rows × 453 columns</p>\n",
       "</div>"
      ],
      "text/plain": [
       "         S1        S2        S3        S4        S5        S6        S7  \\\n",
       "0 -0.002871  0.010870  0.002714  0.012850  0.004970 -0.022676  0.013160   \n",
       "1 -0.008043 -0.042482 -0.001026 -0.007911 -0.008296 -0.009506  0.005448   \n",
       "2  0.000000  0.039669 -0.016034 -0.007607  0.007020 -0.014629  0.016261   \n",
       "3  0.000974  0.005433 -0.005541  0.000000  0.008434  0.001466  0.005631   \n",
       "4  0.005208  0.033456  0.007957  0.007320  0.005282 -0.005459  0.001410   \n",
       "5 -0.001945 -0.002290 -0.012722  0.003804  0.000542  0.008156  0.002118   \n",
       "6 -0.003606 -0.037931 -0.007052  0.007570 -0.000544 -0.002076  0.001184   \n",
       "7  0.007194  0.013229  0.013285  0.016782  0.007808 -0.000621  0.006808   \n",
       "8  0.018141 -0.011321 -0.003242  0.008859  0.002351  0.013221  0.009320   \n",
       "9 -0.025630 -0.008283 -0.023990 -0.012551  0.002346 -0.004966 -0.003498   \n",
       "\n",
       "         S8        S9       S10  ...      S444      S445      S446      S447  \\\n",
       "0  0.014752  0.011934 -0.003782  ... -0.014131  0.010741  0.001577  0.006238   \n",
       "1 -0.008239  0.017662 -0.001580  ... -0.005744 -0.002686 -0.010717  0.003319   \n",
       "2  0.002001  0.007739 -0.004742  ...  0.000000 -0.008119 -0.004410  0.008174   \n",
       "3 -0.007028 -0.013998 -0.004779  ... -0.000962  0.003812 -0.008889 -0.001432   \n",
       "4 -0.001014 -0.001634  0.009252  ...  0.001444 -0.008753  0.018571 -0.002442   \n",
       "5  0.007065 -0.012896 -0.008586  ...  0.003819 -0.004367 -0.010854  0.005134   \n",
       "6  0.001512 -0.013371 -0.017834  ...  0.014225 -0.036203 -0.012807  0.003293   \n",
       "7  0.024509  0.012481 -0.006645  ...  0.013536  0.009756  0.004131 -0.004154   \n",
       "8  0.004145 -0.006386 -0.001001  ... -0.001849 -0.001717  0.005824  0.002011   \n",
       "9 -0.007794 -0.001393 -0.030269  ... -0.006054 -0.012791 -0.025190 -0.007783   \n",
       "\n",
       "       S448      S449      S450      S451      S452      S453  \n",
       "0 -0.005645  0.010483  0.009401 -0.000855  0.029694  0.011900  \n",
       "1 -0.009408  0.001158  0.000581 -0.004280  0.038409  0.009737  \n",
       "2  0.003421 -0.009302  0.000000 -0.006603  0.092847 -0.002581  \n",
       "3  0.014714  0.008173 -0.006565  0.004042  0.108162  0.007450  \n",
       "4  0.001124 -0.001166  0.001198  0.000576  0.013497  0.002908  \n",
       "5  0.013682  0.018391 -0.001791  0.012536  0.002426  0.015267  \n",
       "6 -0.004459  0.019396  0.001800  0.013427 -0.020352 -0.016914  \n",
       "7  0.008021  0.007852  0.001184  0.001673  0.024769  0.004647  \n",
       "8  0.011551 -0.002247  0.018273  0.010251  0.021168  0.005275  \n",
       "9 -0.007482 -0.001131 -0.025243 -0.016681 -0.031480 -0.011913  \n",
       "\n",
       "[10 rows x 453 columns]"
      ]
     },
     "execution_count": 22,
     "metadata": {},
     "output_type": "execute_result"
    }
   ],
   "source": [
    "## Take a look at a few rows of data\n",
    "sp500_returns.head(10)"
   ]
  },
  {
   "cell_type": "code",
   "execution_count": 23,
   "id": "6893bc03",
   "metadata": {},
   "outputs": [
    {
     "data": {
      "text/html": [
       "<div>\n",
       "<style scoped>\n",
       "    .dataframe tbody tr th:only-of-type {\n",
       "        vertical-align: middle;\n",
       "    }\n",
       "\n",
       "    .dataframe tbody tr th {\n",
       "        vertical-align: top;\n",
       "    }\n",
       "\n",
       "    .dataframe thead th {\n",
       "        text-align: right;\n",
       "    }\n",
       "</style>\n",
       "<table border=\"1\" class=\"dataframe\">\n",
       "  <thead>\n",
       "    <tr style=\"text-align: right;\">\n",
       "      <th></th>\n",
       "      <th>S1</th>\n",
       "      <th>S2</th>\n",
       "      <th>S3</th>\n",
       "      <th>S4</th>\n",
       "      <th>S5</th>\n",
       "      <th>S6</th>\n",
       "      <th>S7</th>\n",
       "      <th>S8</th>\n",
       "      <th>S9</th>\n",
       "      <th>S10</th>\n",
       "      <th>...</th>\n",
       "      <th>S444</th>\n",
       "      <th>S445</th>\n",
       "      <th>S446</th>\n",
       "      <th>S447</th>\n",
       "      <th>S448</th>\n",
       "      <th>S449</th>\n",
       "      <th>S450</th>\n",
       "      <th>S451</th>\n",
       "      <th>S452</th>\n",
       "      <th>S453</th>\n",
       "    </tr>\n",
       "  </thead>\n",
       "  <tbody>\n",
       "    <tr>\n",
       "      <th>count</th>\n",
       "      <td>1258.000000</td>\n",
       "      <td>1258.000000</td>\n",
       "      <td>1258.000000</td>\n",
       "      <td>1258.000000</td>\n",
       "      <td>1258.000000</td>\n",
       "      <td>1258.000000</td>\n",
       "      <td>1258.000000</td>\n",
       "      <td>1258.000000</td>\n",
       "      <td>1258.000000</td>\n",
       "      <td>1258.000000</td>\n",
       "      <td>...</td>\n",
       "      <td>1258.000000</td>\n",
       "      <td>1258.000000</td>\n",
       "      <td>1258.000000</td>\n",
       "      <td>1258.000000</td>\n",
       "      <td>1258.000000</td>\n",
       "      <td>1258.000000</td>\n",
       "      <td>1258.000000</td>\n",
       "      <td>1258.000000</td>\n",
       "      <td>1258.000000</td>\n",
       "      <td>1258.000000</td>\n",
       "    </tr>\n",
       "    <tr>\n",
       "      <th>mean</th>\n",
       "      <td>0.000403</td>\n",
       "      <td>-0.000900</td>\n",
       "      <td>-0.000417</td>\n",
       "      <td>0.000596</td>\n",
       "      <td>0.000244</td>\n",
       "      <td>0.000628</td>\n",
       "      <td>0.001234</td>\n",
       "      <td>0.000560</td>\n",
       "      <td>0.000690</td>\n",
       "      <td>0.000385</td>\n",
       "      <td>...</td>\n",
       "      <td>0.000351</td>\n",
       "      <td>0.000367</td>\n",
       "      <td>0.000680</td>\n",
       "      <td>0.000503</td>\n",
       "      <td>0.000607</td>\n",
       "      <td>0.000118</td>\n",
       "      <td>-0.000184</td>\n",
       "      <td>0.000406</td>\n",
       "      <td>0.000345</td>\n",
       "      <td>0.000588</td>\n",
       "    </tr>\n",
       "    <tr>\n",
       "      <th>std</th>\n",
       "      <td>0.016390</td>\n",
       "      <td>0.017143</td>\n",
       "      <td>0.013416</td>\n",
       "      <td>0.011136</td>\n",
       "      <td>0.009161</td>\n",
       "      <td>0.010114</td>\n",
       "      <td>0.011267</td>\n",
       "      <td>0.014049</td>\n",
       "      <td>0.014249</td>\n",
       "      <td>0.013041</td>\n",
       "      <td>...</td>\n",
       "      <td>0.008271</td>\n",
       "      <td>0.013558</td>\n",
       "      <td>0.013753</td>\n",
       "      <td>0.008925</td>\n",
       "      <td>0.011975</td>\n",
       "      <td>0.015826</td>\n",
       "      <td>0.015839</td>\n",
       "      <td>0.011860</td>\n",
       "      <td>0.018901</td>\n",
       "      <td>0.011595</td>\n",
       "    </tr>\n",
       "    <tr>\n",
       "      <th>min</th>\n",
       "      <td>-0.085039</td>\n",
       "      <td>-0.083011</td>\n",
       "      <td>-0.054396</td>\n",
       "      <td>-0.090913</td>\n",
       "      <td>-0.041926</td>\n",
       "      <td>-0.046903</td>\n",
       "      <td>-0.069566</td>\n",
       "      <td>-0.079698</td>\n",
       "      <td>-0.062830</td>\n",
       "      <td>-0.047142</td>\n",
       "      <td>...</td>\n",
       "      <td>-0.040184</td>\n",
       "      <td>-0.058094</td>\n",
       "      <td>-0.065421</td>\n",
       "      <td>-0.039062</td>\n",
       "      <td>-0.049489</td>\n",
       "      <td>-0.104464</td>\n",
       "      <td>-0.070155</td>\n",
       "      <td>-0.075592</td>\n",
       "      <td>-0.083008</td>\n",
       "      <td>-0.048150</td>\n",
       "    </tr>\n",
       "    <tr>\n",
       "      <th>25%</th>\n",
       "      <td>-0.007775</td>\n",
       "      <td>-0.010467</td>\n",
       "      <td>-0.008542</td>\n",
       "      <td>-0.005045</td>\n",
       "      <td>-0.005105</td>\n",
       "      <td>-0.005103</td>\n",
       "      <td>-0.005308</td>\n",
       "      <td>-0.007173</td>\n",
       "      <td>-0.007346</td>\n",
       "      <td>-0.007249</td>\n",
       "      <td>...</td>\n",
       "      <td>-0.004526</td>\n",
       "      <td>-0.006458</td>\n",
       "      <td>-0.007015</td>\n",
       "      <td>-0.004573</td>\n",
       "      <td>-0.005852</td>\n",
       "      <td>-0.008298</td>\n",
       "      <td>-0.009318</td>\n",
       "      <td>-0.005950</td>\n",
       "      <td>-0.009978</td>\n",
       "      <td>-0.006124</td>\n",
       "    </tr>\n",
       "    <tr>\n",
       "      <th>50%</th>\n",
       "      <td>0.000685</td>\n",
       "      <td>-0.000723</td>\n",
       "      <td>-0.000020</td>\n",
       "      <td>0.000529</td>\n",
       "      <td>0.000536</td>\n",
       "      <td>0.000960</td>\n",
       "      <td>0.001589</td>\n",
       "      <td>0.000416</td>\n",
       "      <td>0.000840</td>\n",
       "      <td>0.000213</td>\n",
       "      <td>...</td>\n",
       "      <td>0.000319</td>\n",
       "      <td>0.000321</td>\n",
       "      <td>0.000702</td>\n",
       "      <td>0.000662</td>\n",
       "      <td>0.000443</td>\n",
       "      <td>0.000981</td>\n",
       "      <td>-0.000504</td>\n",
       "      <td>0.000281</td>\n",
       "      <td>0.000473</td>\n",
       "      <td>0.001025</td>\n",
       "    </tr>\n",
       "    <tr>\n",
       "      <th>75%</th>\n",
       "      <td>0.009782</td>\n",
       "      <td>0.009167</td>\n",
       "      <td>0.007740</td>\n",
       "      <td>0.007332</td>\n",
       "      <td>0.005519</td>\n",
       "      <td>0.006372</td>\n",
       "      <td>0.007709</td>\n",
       "      <td>0.008457</td>\n",
       "      <td>0.009352</td>\n",
       "      <td>0.008068</td>\n",
       "      <td>...</td>\n",
       "      <td>0.005408</td>\n",
       "      <td>0.007229</td>\n",
       "      <td>0.008427</td>\n",
       "      <td>0.005801</td>\n",
       "      <td>0.006862</td>\n",
       "      <td>0.009028</td>\n",
       "      <td>0.008246</td>\n",
       "      <td>0.007164</td>\n",
       "      <td>0.010233</td>\n",
       "      <td>0.007531</td>\n",
       "    </tr>\n",
       "    <tr>\n",
       "      <th>max</th>\n",
       "      <td>0.075508</td>\n",
       "      <td>0.078886</td>\n",
       "      <td>0.051768</td>\n",
       "      <td>0.047029</td>\n",
       "      <td>0.051528</td>\n",
       "      <td>0.055101</td>\n",
       "      <td>0.072012</td>\n",
       "      <td>0.108090</td>\n",
       "      <td>0.106174</td>\n",
       "      <td>0.054445</td>\n",
       "      <td>...</td>\n",
       "      <td>0.044293</td>\n",
       "      <td>0.072769</td>\n",
       "      <td>0.056568</td>\n",
       "      <td>0.042430</td>\n",
       "      <td>0.069301</td>\n",
       "      <td>0.064824</td>\n",
       "      <td>0.082453</td>\n",
       "      <td>0.056781</td>\n",
       "      <td>0.108162</td>\n",
       "      <td>0.053471</td>\n",
       "    </tr>\n",
       "  </tbody>\n",
       "</table>\n",
       "<p>8 rows × 453 columns</p>\n",
       "</div>"
      ],
      "text/plain": [
       "                S1           S2           S3           S4           S5  \\\n",
       "count  1258.000000  1258.000000  1258.000000  1258.000000  1258.000000   \n",
       "mean      0.000403    -0.000900    -0.000417     0.000596     0.000244   \n",
       "std       0.016390     0.017143     0.013416     0.011136     0.009161   \n",
       "min      -0.085039    -0.083011    -0.054396    -0.090913    -0.041926   \n",
       "25%      -0.007775    -0.010467    -0.008542    -0.005045    -0.005105   \n",
       "50%       0.000685    -0.000723    -0.000020     0.000529     0.000536   \n",
       "75%       0.009782     0.009167     0.007740     0.007332     0.005519   \n",
       "max       0.075508     0.078886     0.051768     0.047029     0.051528   \n",
       "\n",
       "                S6           S7           S8           S9          S10  ...  \\\n",
       "count  1258.000000  1258.000000  1258.000000  1258.000000  1258.000000  ...   \n",
       "mean      0.000628     0.001234     0.000560     0.000690     0.000385  ...   \n",
       "std       0.010114     0.011267     0.014049     0.014249     0.013041  ...   \n",
       "min      -0.046903    -0.069566    -0.079698    -0.062830    -0.047142  ...   \n",
       "25%      -0.005103    -0.005308    -0.007173    -0.007346    -0.007249  ...   \n",
       "50%       0.000960     0.001589     0.000416     0.000840     0.000213  ...   \n",
       "75%       0.006372     0.007709     0.008457     0.009352     0.008068  ...   \n",
       "max       0.055101     0.072012     0.108090     0.106174     0.054445  ...   \n",
       "\n",
       "              S444         S445         S446         S447         S448  \\\n",
       "count  1258.000000  1258.000000  1258.000000  1258.000000  1258.000000   \n",
       "mean      0.000351     0.000367     0.000680     0.000503     0.000607   \n",
       "std       0.008271     0.013558     0.013753     0.008925     0.011975   \n",
       "min      -0.040184    -0.058094    -0.065421    -0.039062    -0.049489   \n",
       "25%      -0.004526    -0.006458    -0.007015    -0.004573    -0.005852   \n",
       "50%       0.000319     0.000321     0.000702     0.000662     0.000443   \n",
       "75%       0.005408     0.007229     0.008427     0.005801     0.006862   \n",
       "max       0.044293     0.072769     0.056568     0.042430     0.069301   \n",
       "\n",
       "              S449         S450         S451         S452         S453  \n",
       "count  1258.000000  1258.000000  1258.000000  1258.000000  1258.000000  \n",
       "mean      0.000118    -0.000184     0.000406     0.000345     0.000588  \n",
       "std       0.015826     0.015839     0.011860     0.018901     0.011595  \n",
       "min      -0.104464    -0.070155    -0.075592    -0.083008    -0.048150  \n",
       "25%      -0.008298    -0.009318    -0.005950    -0.009978    -0.006124  \n",
       "50%       0.000981    -0.000504     0.000281     0.000473     0.001025  \n",
       "75%       0.009028     0.008246     0.007164     0.010233     0.007531  \n",
       "max       0.064824     0.082453     0.056781     0.108162     0.053471  \n",
       "\n",
       "[8 rows x 453 columns]"
      ]
     },
     "execution_count": 23,
     "metadata": {},
     "output_type": "execute_result"
    }
   ],
   "source": [
    "## Look at the summary statistics for the dataset\n",
    "sp500_returns.describe()"
   ]
  },
  {
   "cell_type": "code",
   "execution_count": 24,
   "id": "52f848a3",
   "metadata": {},
   "outputs": [
    {
     "data": {
      "text/plain": [
       "PCA()"
      ]
     },
     "execution_count": 24,
     "metadata": {},
     "output_type": "execute_result"
    }
   ],
   "source": [
    "## Instantiate a PCA object and fit it to the SP500 returns matrix.\n",
    "## Note that we convert the pandas dataframe to a numpy array first\n",
    "pca = PCA()\n",
    "pca.fit(sp500_returns.to_numpy())"
   ]
  },
  {
   "cell_type": "code",
   "execution_count": 25,
   "id": "80d56a4e",
   "metadata": {},
   "outputs": [
    {
     "data": {
      "text/plain": [
       "array([6.81525175, 1.91949441, 1.63241764, 1.50134004, 1.28434791,\n",
       "       1.17872029, 1.11610732, 1.06846725, 1.03932026, 0.99546176,\n",
       "       0.95140063, 0.92466035, 0.89785509, 0.86505051, 0.85204576,\n",
       "       0.84138373, 0.81049572, 0.79682213, 0.78443322, 0.76384842,\n",
       "       0.7484207 , 0.73717281, 0.733476  , 0.7235442 , 0.71899968,\n",
       "       0.71415532, 0.7096338 , 0.70448876, 0.69214041, 0.68325691,\n",
       "       0.67105932, 0.66611113, 0.66155025, 0.65398   , 0.64621404,\n",
       "       0.64512543, 0.63996132, 0.63838178, 0.63470436, 0.63153004,\n",
       "       0.63005999, 0.62730717, 0.62463979, 0.61671736, 0.61372499,\n",
       "       0.60363442, 0.59999259, 0.59743976, 0.59610674, 0.59281799,\n",
       "       0.58978894, 0.58752082, 0.582829  , 0.57598085, 0.57242566,\n",
       "       0.57090863, 0.56914176, 0.56370125, 0.56307904, 0.56064567,\n",
       "       0.55726742, 0.55557199, 0.55338438, 0.55311078, 0.54599811,\n",
       "       0.54471752, 0.54322518, 0.53820444, 0.53379775, 0.53139146,\n",
       "       0.52937472, 0.52644879, 0.52309372, 0.51934747, 0.51549387,\n",
       "       0.51401251, 0.51145427, 0.50926938, 0.50775704, 0.50646089,\n",
       "       0.5030845 , 0.50081497, 0.50025327, 0.49833602, 0.49626551,\n",
       "       0.49380557, 0.49243176, 0.48761767, 0.48646078, 0.48379614,\n",
       "       0.48204823, 0.4808007 , 0.47923833, 0.47727081, 0.47466696,\n",
       "       0.47348619, 0.46966487, 0.46820569, 0.46435598, 0.46360241,\n",
       "       0.4618755 , 0.46072133, 0.45870863, 0.45642343, 0.45451769,\n",
       "       0.45290182, 0.45233709, 0.4512607 , 0.44832845, 0.44682215,\n",
       "       0.4453711 , 0.44272386, 0.44156266, 0.43807039, 0.43768106,\n",
       "       0.4349368 , 0.43338005, 0.4322535 , 0.43184166, 0.42981318,\n",
       "       0.42841936, 0.42713364, 0.42408653, 0.4229342 , 0.42131799,\n",
       "       0.42013017, 0.41946629, 0.41844898, 0.41583619, 0.41541156,\n",
       "       0.4126558 , 0.4111266 , 0.40973268, 0.40854031, 0.40777759,\n",
       "       0.40692228, 0.40576469, 0.40490767, 0.40214346, 0.40105319,\n",
       "       0.39933893, 0.39744001, 0.39638801, 0.39417847, 0.39269789,\n",
       "       0.39159571, 0.39050045, 0.3901582 , 0.38762315, 0.38679407,\n",
       "       0.38546525, 0.38317441, 0.38180877, 0.38011499, 0.37907541,\n",
       "       0.37822393, 0.37736131, 0.37663171, 0.37608348, 0.37196589,\n",
       "       0.37096899, 0.36951655, 0.36856845, 0.36728372, 0.36472062,\n",
       "       0.36400392, 0.36343077, 0.36117823, 0.36004955, 0.35915671,\n",
       "       0.35748667, 0.35696768, 0.35601592, 0.35521415, 0.35349609,\n",
       "       0.35297569, 0.35124654, 0.35069776, 0.34892328, 0.34801833,\n",
       "       0.34703851, 0.34659874, 0.34491778, 0.34412156, 0.34208497,\n",
       "       0.34070238, 0.33949521, 0.33780139, 0.33659661, 0.33611766,\n",
       "       0.33440196, 0.33342094, 0.33248888, 0.33149803, 0.33018624,\n",
       "       0.32833341, 0.32760555, 0.32741304, 0.32633023, 0.32380416,\n",
       "       0.32338067, 0.3219539 , 0.32130483, 0.31999653, 0.31938478,\n",
       "       0.31877772, 0.3180783 , 0.31631707, 0.31439067, 0.31357091,\n",
       "       0.31256526, 0.3108602 , 0.30932996, 0.30786799, 0.307016  ,\n",
       "       0.30656068, 0.30542521, 0.30529616, 0.30403405, 0.30186992,\n",
       "       0.30176511, 0.30081254, 0.29988928, 0.29943916, 0.29823801,\n",
       "       0.29744369, 0.29625549, 0.29527815, 0.29499574, 0.29441594,\n",
       "       0.29233187, 0.29218714, 0.29096529, 0.29026243, 0.28936697,\n",
       "       0.28894191, 0.28725714, 0.28691464, 0.28624131, 0.28418529,\n",
       "       0.28394829, 0.28387552, 0.28195903, 0.27966374, 0.27884562,\n",
       "       0.27818351, 0.27768815, 0.27651108, 0.2751642 , 0.27497319,\n",
       "       0.27343806, 0.27263282, 0.2723583 , 0.27059244, 0.26970414,\n",
       "       0.26853053, 0.26729327, 0.26598458, 0.26565372, 0.26444162,\n",
       "       0.26404856, 0.26328932, 0.26257496, 0.26235913, 0.26056223,\n",
       "       0.26023626, 0.25994767, 0.25952443, 0.25703889, 0.25662728,\n",
       "       0.25638238, 0.25449574, 0.25338661, 0.25290235, 0.252475  ,\n",
       "       0.25179394, 0.25132948, 0.24999946, 0.24950583, 0.24810773,\n",
       "       0.24691295, 0.24643749, 0.24538295, 0.24420597, 0.24336445,\n",
       "       0.24298677, 0.24202827, 0.24071353, 0.24000471, 0.23914488,\n",
       "       0.23818455, 0.23720874, 0.23693193, 0.23550601, 0.23493863,\n",
       "       0.23474086, 0.233809  , 0.23266014, 0.23102998, 0.23015823,\n",
       "       0.22941854, 0.22851853, 0.22765141, 0.22690214, 0.22592864,\n",
       "       0.22547522, 0.22444907, 0.22326967, 0.22244206, 0.22141922,\n",
       "       0.22070004, 0.2198815 , 0.21848497, 0.2179842 , 0.21707391,\n",
       "       0.2168834 , 0.21545595, 0.21501635, 0.21414278, 0.21299696,\n",
       "       0.21286583, 0.21154378, 0.21065965, 0.20960921, 0.20913919,\n",
       "       0.20835033, 0.20801349, 0.20719669, 0.20622314, 0.20565166,\n",
       "       0.2053846 , 0.2036775 , 0.20353077, 0.20270214, 0.2015156 ,\n",
       "       0.20058159, 0.19996921, 0.19942632, 0.19845352, 0.19806244,\n",
       "       0.19671856, 0.19643745, 0.19522727, 0.19440685, 0.19330599,\n",
       "       0.19247893, 0.19125242, 0.19038354, 0.19021076, 0.18910676,\n",
       "       0.1888695 , 0.18798691, 0.1877339 , 0.18706179, 0.18567659,\n",
       "       0.18509977, 0.18469602, 0.18379356, 0.18356232, 0.18157656,\n",
       "       0.18071367, 0.17983357, 0.17952306, 0.17865637, 0.17773235,\n",
       "       0.17746082, 0.176258  , 0.1747647 , 0.17453443, 0.17431018,\n",
       "       0.17349672, 0.17266998, 0.17120491, 0.17059613, 0.17010228,\n",
       "       0.16754764, 0.16709587, 0.16635361, 0.1659833 , 0.16487767,\n",
       "       0.16455164, 0.16244392, 0.16193444, 0.16180908, 0.16107754,\n",
       "       0.15953354, 0.15892702, 0.15822591, 0.15763544, 0.1566846 ,\n",
       "       0.15642225, 0.15596316, 0.1547844 , 0.15465616, 0.15288093,\n",
       "       0.15147808, 0.15098146, 0.1507587 , 0.15034366, 0.14943948,\n",
       "       0.14843622, 0.14711504, 0.14572282, 0.14540683, 0.14435441,\n",
       "       0.14417114, 0.14312968, 0.14185972, 0.14155741, 0.14072545,\n",
       "       0.13919771, 0.13876269, 0.13775849, 0.13672928, 0.13609117,\n",
       "       0.1354713 , 0.13488639, 0.13411416, 0.13329722, 0.13263402,\n",
       "       0.13229735, 0.13096094, 0.13004236, 0.12972902, 0.12930004,\n",
       "       0.12751855, 0.12689856, 0.12483105, 0.12393164, 0.12337543,\n",
       "       0.12310416, 0.12165867, 0.12119055, 0.11991168, 0.11871322,\n",
       "       0.11823971, 0.11641337, 0.11547039, 0.11367846, 0.11271986,\n",
       "       0.11180571, 0.11120156, 0.11013007, 0.10685891, 0.10647197,\n",
       "       0.10547043, 0.10407303, 0.10270361, 0.10114247, 0.09918176,\n",
       "       0.09572909, 0.09432036, 0.08850963])"
      ]
     },
     "execution_count": 25,
     "metadata": {},
     "output_type": "execute_result"
    }
   ],
   "source": [
    "## The scikit-learn PCA uses an SVD of the data matrix \n",
    "## to do the PCA, the singular values tell us the standard deviations,\n",
    "## not the variances, of the projections of the datapoints onto each principal component.\n",
    "## We can see that the first principal component accounts for much for variation \n",
    "## than any other PC.\n",
    "pca.singular_values_"
   ]
  },
  {
   "cell_type": "code",
   "execution_count": 26,
   "id": "9f07ec22",
   "metadata": {},
   "outputs": [
    {
     "data": {
      "image/png": "[encoded data removed]",
      "text/plain": [
       "<Figure size 432x288 with 1 Axes>"
      ]
     },
     "metadata": {
      "needs_background": "light"
     },
     "output_type": "display_data"
    }
   ],
   "source": [
    "## Let's look at the cumulative percentage of variance explained\n",
    "\n",
    "# Convert standard deviations into variances\n",
    "pc_variance = np.power(pca.singular_values_, 2.0)\n",
    "\n",
    "# Calculate total variance\n",
    "total_variance = np.sum(pc_variance)\n",
    "\n",
    "# Calculate cumulative total variance\n",
    "cumulative_variance = 100.0*np.cumsum(pc_variance)/total_variance\n",
    "\n",
    "# Plot \n",
    "plt.plot(np.arange(1, 21), cumulative_variance[0:20], color='b', marker='o')\n",
    "plt.title('Cumulative variance explained by first 20 PCs')\n",
    "plt.xlabel('PC')\n",
    "plt.ylabel('Cumulative % of total variance')\n",
    "plt.show()"
   ]
  },
  {
   "cell_type": "markdown",
   "id": "a5a27fba",
   "metadata": {},
   "source": [
    "We'll look at the loadings of the first principal component below. They are all of the same sign and similar magnitude. The sign of the loadings is irrelevant here. This is because if $\\underline{v}$ is a valid principal component, i.e. an eigenvector of the sample covariance matrix, then so is $-\\underline{v}$, so loadings are only determined up to a global change in sign. This means we can, without loss of generality, fix the sign of the first entry in the loading vector of any PC to be positive, as long as we flip (or not) the signs of all the other entries. For our example below, it means we can take all the loading entries to be positive."
   ]
  },
  {
   "cell_type": "code",
   "execution_count": 27,
   "id": "6df003f0",
   "metadata": {},
   "outputs": [
    {
     "data": {
      "text/plain": [
       "array([-0.06370686, -0.06364332, -0.0362929 , -0.02940603, -0.02265578,\n",
       "       -0.03252523, -0.03606035, -0.03180591, -0.04627991, -0.04681776,\n",
       "       -0.03698284, -0.04401436, -0.06380174, -0.02390458, -0.02104382,\n",
       "       -0.05053581, -0.03933102, -0.05519153, -0.03087345, -0.06076774,\n",
       "       -0.05073578, -0.04031847, -0.05877243, -0.04013384, -0.05392805,\n",
       "       -0.0445882 , -0.05112434, -0.02987375, -0.06272736, -0.03481389,\n",
       "       -0.04782765, -0.04915132, -0.03490747, -0.05127452, -0.06201682,\n",
       "       -0.04014535, -0.04954273, -0.03345738, -0.08543865, -0.039166  ,\n",
       "       -0.04022943, -0.0504334 , -0.04695639, -0.02444008, -0.04317507,\n",
       "       -0.07003404, -0.02712546, -0.04087649, -0.04823051, -0.04720365,\n",
       "       -0.02832028, -0.02777788, -0.0565293 , -0.06283734, -0.03687511,\n",
       "       -0.0501785 , -0.05409775, -0.03583481, -0.03501965, -0.02073898,\n",
       "       -0.05244103, -0.04514178, -0.07275017, -0.06202253, -0.04319581,\n",
       "       -0.06618093, -0.04203184, -0.0210625 , -0.03192832, -0.06830013,\n",
       "       -0.05473922, -0.03152151, -0.07263053, -0.06073653, -0.03569851,\n",
       "       -0.0309209 , -0.04490702, -0.03979347, -0.04490471, -0.05501358,\n",
       "       -0.03419671, -0.05990198, -0.03552074, -0.0417106 , -0.03855273,\n",
       "       -0.01791982, -0.0879389 , -0.01980304, -0.04219455, -0.0459057 ,\n",
       "       -0.06869811, -0.02470168, -0.02969192, -0.0709318 , -0.05400936,\n",
       "       -0.05986615, -0.05067053, -0.04068301, -0.03972242, -0.02468678,\n",
       "       -0.03412187, -0.01759606, -0.06375518, -0.04801606, -0.03854548,\n",
       "       -0.04947023, -0.03944366, -0.02333475, -0.05017547, -0.05309102,\n",
       "       -0.04687099, -0.02973081, -0.03601353, -0.02120731, -0.05643615,\n",
       "       -0.04442737, -0.04634401, -0.05435952, -0.02468928, -0.02761189,\n",
       "       -0.06242802, -0.04333193, -0.03817693, -0.02539985, -0.03076012,\n",
       "       -0.06998381, -0.04386007, -0.05235691, -0.06472792, -0.02257843,\n",
       "       -0.03745136, -0.0239198 , -0.03225902, -0.01582963, -0.0305328 ,\n",
       "       -0.05477536, -0.04945707, -0.01573043, -0.0393739 , -0.02145283,\n",
       "       -0.03907957, -0.04310683, -0.04668676, -0.05822604, -0.04314459,\n",
       "       -0.0535498 , -0.03322513, -0.05211479, -0.07288396, -0.05752399,\n",
       "       -0.02194197, -0.0307749 , -0.02107032, -0.04587673, -0.05124059,\n",
       "       -0.0567936 , -0.04858167, -0.06663002, -0.04624015, -0.02162041,\n",
       "       -0.0657504 , -0.03351221, -0.03618305, -0.05972353, -0.04424765,\n",
       "       -0.06483935, -0.06047973, -0.04794088, -0.06329436, -0.05063243,\n",
       "       -0.07128906, -0.06249187, -0.03070593, -0.02731202, -0.0393933 ,\n",
       "       -0.04193971, -0.05038662, -0.03244445, -0.03386273, -0.01557782,\n",
       "       -0.05128888, -0.04237271, -0.08431911, -0.03880065, -0.04249755,\n",
       "       -0.03793721, -0.05059762, -0.07603225, -0.04257902, -0.06737451,\n",
       "       -0.0726856 , -0.0335018 , -0.06174513, -0.04608901, -0.03433859,\n",
       "       -0.03865702, -0.03720677, -0.07405305, -0.05730951, -0.045666  ,\n",
       "       -0.06759867, -0.07253323, -0.0399739 , -0.04285939, -0.02341463,\n",
       "       -0.04777834, -0.03725217, -0.06784072, -0.01771158, -0.03561073,\n",
       "       -0.02854101, -0.04275487, -0.03995805, -0.05301409, -0.03671087,\n",
       "       -0.0400259 , -0.06225314, -0.06120008, -0.05492906, -0.0373526 ,\n",
       "       -0.04509276, -0.04493381, -0.07070624, -0.06981814, -0.05739339,\n",
       "       -0.02006664, -0.05691634, -0.0744123 , -0.05498719, -0.05225234,\n",
       "       -0.01705535, -0.06069638, -0.05001205, -0.05421018, -0.01532193,\n",
       "       -0.05245239, -0.02324867, -0.03532946, -0.06238799, -0.03846291,\n",
       "       -0.04945117, -0.0510151 , -0.07033746, -0.02797046, -0.03594489,\n",
       "       -0.03686596, -0.04450803, -0.02124593, -0.06537146, -0.02874229,\n",
       "       -0.07445145, -0.0180659 , -0.04133223, -0.05674193, -0.06539175,\n",
       "       -0.04603984, -0.05153452, -0.04542359, -0.05007237, -0.05424564,\n",
       "       -0.07466235, -0.03728351, -0.01969252, -0.04348799, -0.03119125,\n",
       "       -0.05563663, -0.02116576, -0.03357416, -0.06275425, -0.03865445,\n",
       "       -0.06295519, -0.02796384, -0.02406149, -0.03756378, -0.03706721,\n",
       "       -0.03190407, -0.04196353, -0.05355046, -0.02425223, -0.05336614,\n",
       "       -0.07288919, -0.03382974, -0.04379024, -0.07930588, -0.05137326,\n",
       "       -0.05051317, -0.04448736, -0.05304149, -0.08324008, -0.04988633,\n",
       "       -0.05511155, -0.02049493, -0.03025786, -0.05161254, -0.07027313,\n",
       "       -0.0296066 , -0.03694113, -0.03683982, -0.06195753, -0.04036935,\n",
       "       -0.04603292, -0.04639548, -0.04529678, -0.02341292, -0.05229832,\n",
       "       -0.04772847, -0.06508331, -0.04078821, -0.04064338, -0.04357217,\n",
       "       -0.02977073, -0.04951022, -0.03233463, -0.03437445, -0.04469404,\n",
       "       -0.05808054, -0.01682095, -0.03921513, -0.05256493, -0.04657587,\n",
       "       -0.03740456, -0.02361874, -0.01599256, -0.03563774, -0.02692197,\n",
       "       -0.06405317, -0.01592246, -0.05603608, -0.0769959 , -0.04490734,\n",
       "       -0.05710523, -0.02185587, -0.05025204, -0.05165894, -0.0239169 ,\n",
       "       -0.02286955, -0.0480661 , -0.01913726, -0.03513547, -0.06347596,\n",
       "       -0.03967417, -0.05809779, -0.0538656 , -0.03491992, -0.06932612,\n",
       "       -0.03935616, -0.06193757, -0.02132926, -0.06053958, -0.05480991,\n",
       "       -0.05462298, -0.05498783, -0.05037688, -0.04965863, -0.05993349,\n",
       "       -0.04532124, -0.03198171, -0.05406479, -0.03048694, -0.03243311,\n",
       "       -0.04679486, -0.02317875, -0.05332896, -0.0367066 , -0.0511699 ,\n",
       "       -0.03660552, -0.04200416, -0.02257887, -0.05612444, -0.05702689,\n",
       "       -0.05138069, -0.06916518, -0.04186547, -0.01261863, -0.04328907,\n",
       "       -0.0431865 , -0.03069937, -0.02502018, -0.06544152, -0.03920847,\n",
       "       -0.05011383, -0.06173852, -0.03788985, -0.05641569, -0.04972374,\n",
       "       -0.02978655, -0.03722844, -0.04323837, -0.02198962, -0.02093375,\n",
       "       -0.02836374, -0.04836149, -0.02955205, -0.02776731, -0.05053311,\n",
       "       -0.02634156, -0.06229814, -0.05288695, -0.03369104, -0.04434777,\n",
       "       -0.04378583, -0.05827328, -0.03094236, -0.03180485, -0.06438979,\n",
       "       -0.03665719, -0.03707623, -0.04138961, -0.04483226, -0.03926376,\n",
       "       -0.03346951, -0.05246977, -0.04633494, -0.03125729, -0.04481501,\n",
       "       -0.04641937, -0.03739693, -0.03776908, -0.03943989, -0.0407216 ,\n",
       "       -0.04595157, -0.06006413, -0.06033511, -0.04761089, -0.03679105,\n",
       "       -0.04753156, -0.03794022, -0.01861585, -0.04428365, -0.06038148,\n",
       "       -0.02063214, -0.05259324, -0.04610845, -0.06271999, -0.02979237,\n",
       "       -0.03100359, -0.05326303, -0.01555477, -0.03918308, -0.05286727,\n",
       "       -0.0608901 , -0.06586791, -0.08677006, -0.01999315, -0.04945232,\n",
       "       -0.04467535, -0.03289855, -0.04239963, -0.05226411, -0.04359809,\n",
       "       -0.036537  , -0.06662487, -0.036461  ])"
      ]
     },
     "execution_count": 27,
     "metadata": {},
     "output_type": "execute_result"
    }
   ],
   "source": [
    "pca.components_[0, :]"
   ]
  },
  {
   "cell_type": "markdown",
   "id": "355c8af7",
   "metadata": {},
   "source": [
    "We'll plot the loading values of the first principal component (after) flipping the sign. The fact that every loading value for the first principal component is of the same sign and similar magnitude means that the 1st PC represents variation in the data (the stock prices) where every stock contributes to the variation and to a similar degree. This means that the 1st PC represents variation whereby if one stock increases all stocks do. This is called a 'market mode', and simply reflects the fact that in a rising stock market, all the stocks tend to go up. So whilst it is interesting from a PCA perspective, it isn't that profound from a financial perspective."
   ]
  },
  {
   "cell_type": "code",
   "execution_count": 28,
   "id": "334c783e",
   "metadata": {
    "scrolled": true
   },
   "outputs": [
    {
     "data": {
      "image/png": "[encoded data removed]",
      "text/plain": [
       "<Figure size 1440x432 with 1 Axes>"
      ]
     },
     "metadata": {
      "needs_background": "light"
     },
     "output_type": "display_data"
    }
   ],
   "source": [
    "# Plot\n",
    "plt.rcParams[\"figure.figsize\"] = (20,6)\n",
    "plt.stem(np.arange(1, pca.components_.shape[1] + 1), -pca.components_[0, :], markerfmt=' ')\n",
    "plt.title('Loading values for PC1', fontsize=24)\n",
    "plt.xlabel('Stock', fontsize=20)\n",
    "plt.ylabel('Loading', fontsize=20)\n",
    "plt.xticks(fontsize=18)\n",
    "plt.yticks(fontsize=18)\n",
    "plt.show()\n",
    "plt.rcParams[\"figure.figsize\"] = plt.rcParamsDefault[\"figure.figsize\"]"
   ]
  },
  {
   "cell_type": "markdown",
   "id": "d42f54d3",
   "metadata": {},
   "source": [
    "We'll now look at the PCA plot of the non-market-mode principal components, i.e. PC3 vs PC2. First we'll need to calculate the scores of the data. We do this using the transform method of the scikit-learn PCA object. This method allows us to score any data, not just the training data. So if we had new datapoints that we wished to project onto the principal components of the original training data we could do so. For now we'll just calculate the scores of the training data."
   ]
  },
  {
   "cell_type": "code",
   "execution_count": 29,
   "id": "a0aba403",
   "metadata": {},
   "outputs": [],
   "source": [
    "# Calculate the scores of the original data\n",
    "scores = pca.transform(sp500_returns.to_numpy())"
   ]
  },
  {
   "cell_type": "code",
   "execution_count": 30,
   "id": "1246aaf1",
   "metadata": {},
   "outputs": [
    {
     "data": {
      "image/png": "[encoded data removed]",
      "text/plain": [
       "<Figure size 460.8x345.6 with 1 Axes>"
      ]
     },
     "metadata": {
      "needs_background": "light"
     },
     "output_type": "display_data"
    }
   ],
   "source": [
    "#Plot\n",
    "plt.scatter( x=scores[:,1], y=scores[:,2])\n",
    "plt.title('PC3 score vs PC2 score', fontsize=24)\n",
    "plt.xlabel('PC2 :' + str(round(100.0*(pc_variance[1]/total_variance),2)) + '%', fontsize=20)\n",
    "plt.ylabel('PC3 :' + str(round(100.0*(pc_variance[2]/total_variance),2)) + '%', fontsize=20)\n",
    "plt.xticks(fontsize=18, rotation=45)\n",
    "plt.yticks(fontsize=18)\n",
    "plt.show()"
   ]
  },
  {
   "cell_type": "markdown",
   "id": "4e6f6279",
   "metadata": {},
   "source": [
    "## NMF example\n",
    "We'll use the scikit-learn function to calculate the a 2-component NMF of a small binary matrix that is intended to represent customer-product purchase histories. We'll then use the NMF to identify products that customers haven't bought but which the \n",
    "NMF thinks they should have."
   ]
  },
  {
   "cell_type": "code",
   "execution_count": 31,
   "id": "d8f8428c",
   "metadata": {},
   "outputs": [
    {
     "data": {
      "text/plain": [
       "array([[-0.09412173,  0.04403871, -0.46340574,  0.53659426],\n",
       "       [ 0.16151778, -0.07560645, -0.06281629, -0.06281629],\n",
       "       [ 0.38384462, -0.17957389,  0.        ,  0.        ],\n",
       "       [-0.34976125,  0.16368387,  0.13600481,  0.13600481],\n",
       "       [-0.14594226,  0.06843165,  0.05675037,  0.05675037],\n",
       "       [-0.09412173,  0.04403871,  0.53659426, -0.46340574],\n",
       "       [ 0.16151778, -0.07560645, -0.06281629, -0.06281629]])"
      ]
     },
     "execution_count": 31,
     "metadata": {},
     "output_type": "execute_result"
    }
   ],
   "source": [
    "# Create a customer-purchase matrix. We'll used the one\n",
    "# in the main text.\n",
    "X = np.array([[1, 1, 1, 0],\n",
    "              [1, 1, 1, 1],\n",
    "              [0, 1, 0, 0],\n",
    "              [1, 1, 0, 0],\n",
    "              [1, 0, 1, 1],\n",
    "              [1, 1, 0, 1],\n",
    "              [1, 1, 1, 1]])\n",
    "\n",
    "# Instantiate the NMF model\n",
    "model = NMF(n_components=2, init='random', random_state=0)\n",
    "\n",
    "# Fit the model to the data matrix\n",
    "W = model.fit_transform(X)\n",
    "\n",
    "# Extract the component vectors\n",
    "H = model.components_\n",
    "\n",
    "# Compute the difference between NMF approximation and the data\n",
    "np.matmul(W, H) - X"
   ]
  }
 ],
 "metadata": {
  "kernelspec": {
   "display_name": "Python 3",
   "language": "python",
   "name": "python3"
  },
  "language_info": {
   "codemirror_mode": {
    "name": "ipython",
    "version": 3
   },
   "file_extension": ".py",
   "mimetype": "text/x-python",
   "name": "python",
   "nbconvert_exporter": "python",
   "pygments_lexer": "ipython3",
   "version": "3.8.8"
  }
 },
 "nbformat": 4,
 "nbformat_minor": 5
}
