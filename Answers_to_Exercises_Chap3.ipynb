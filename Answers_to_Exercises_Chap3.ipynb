{
 "cells": [
  {
   "cell_type": "code",
   "execution_count": 1,
   "id": "1da5bbd3",
   "metadata": {},
   "outputs": [],
   "source": [
    "import pandas as pd\n",
    "import numpy as np\n",
    "import matplotlib.pyplot as plt\n",
    "from sklearn.decomposition import PCA"
   ]
  },
  {
   "cell_type": "markdown",
   "id": "d4f3fe5b",
   "metadata": {},
   "source": [
    "## Exercise 1 \n",
    "We can store the prices in a vector $\\underline{a}$ and then use the numpy matmul function to calculate the revenue at each timepoint"
   ]
  },
  {
   "cell_type": "code",
   "execution_count": 2,
   "id": "6eafc7e6",
   "metadata": {},
   "outputs": [],
   "source": [
    "# Construct the units sold matrix (as given in the main text)\n",
    "X = np.array([[10,1,1,2,25],\n",
    "              [12,0,2,5,23],\n",
    "              [7,1,4,9,18],\n",
    "              [3,2,7,2,10],\n",
    "              [5,1,15,4,3]])\n",
    "\n",
    "# Construct the prices vector a. We'll apply the matrix X to this vector\n",
    "a = np.array([1.25, 2.40, 1.75, 4.70, 0.5])\n",
    "\n",
    "# Calculate the total revenue at each timepoint by multiplying units by price and summing up.\n",
    "revenue = np.matmul(X, a)"
   ]
  },
  {
   "cell_type": "markdown",
   "id": "97c954a2",
   "metadata": {},
   "source": [
    "## Exercise 2 \n",
    "The $10\\times 10$ matrix is held in the file Data/Data_Q2_Chap3.csv in the repository. We can use the numpy.linalg.eigh to calculate the eigen-decomposition of the real symmetric matrix."
   ]
  },
  {
   "cell_type": "code",
   "execution_count": 3,
   "id": "fa7eb733",
   "metadata": {},
   "outputs": [],
   "source": [
    "## Read in the raw data into a pandas dataframe.\n",
    "X = pd.read_csv('./Data/Data_Q2_Chap3.csv', header=None).to_numpy()"
   ]
  },
  {
   "cell_type": "code",
   "execution_count": 4,
   "id": "8463dc06",
   "metadata": {},
   "outputs": [],
   "source": [
    "# Calculate the eigen-decomposition\n",
    "eigvals, eigvecs = np.linalg.eigh(X)"
   ]
  },
  {
   "cell_type": "markdown",
   "id": "baca67ae",
   "metadata": {},
   "source": [
    "If we approximate $\\underline{\\underline{X}}$ by retaining $K$ eigenvectors, we calculate this approximation using the formula,\n",
    "$\\underline{\\underline{X}}^{(approx)}\\;=\\;\\sum_{i=1}^{K}\\lambda_{i}\\underline{v}_{i} \\underline{v}_{i}^{\\top}$."
   ]
  },
  {
   "cell_type": "code",
   "execution_count": 5,
   "id": "8f6e50f3",
   "metadata": {},
   "outputs": [],
   "source": [
    "# Initialize an empty 10x10 matrix to hold the approximation\n",
    "X_approx = np.zeros(X.shape)\n",
    "\n",
    "# Construct the approximation by adding the \n",
    "# contributions from the first two eigenvectors\n",
    "\n",
    "# Set the number of retained eigenvectors\n",
    "n_retained_eigs = 2\n",
    "for i in range(n_retained_eigs):\n",
    "    X_approx += eigvals[i]*np.outer(eigvecs[:, i], eigvecs[:, i])"
   ]
  },
  {
   "cell_type": "markdown",
   "id": "5424ba8b",
   "metadata": {},
   "source": [
    "Once we calculate the discrepancy matrix $\\underline{\\underline{Dis}}\\;=\\;\\underline{\\underline{X}} - \\underline{\\underline{X}}^{(approx)}$ we can calculate the RMSE using the expression $\\sum_{ij} Dis^{2}_{ij}\\;=\\; \\sum_{i} \\sum_{j} Dis_{ij} Dis^{\\top}_{ji}\\;=\\;\\sum_{i} \\left ( \\underline{\\underline{Dis}} \\underline{\\underline{Dis}}^{\\top}\\right )_{ii}\\;=\\;\\mathrm{tr} \\left ( \\underline{\\underline{Dis}} \\underline{\\underline{Dis}}^{\\top}\\right )$"
   ]
  },
  {
   "cell_type": "code",
   "execution_count": 6,
   "id": "04e834ca",
   "metadata": {},
   "outputs": [
    {
     "name": "stdout",
     "output_type": "stream",
     "text": [
      "RMSE error =  1.3038404810112136\n"
     ]
    }
   ],
   "source": [
    "# Calculate the discrepancy matrix between the original\n",
    "# matrix and the approximation\n",
    "discrepancy  = X - X_approx\n",
    "\n",
    "# Calculate the Root-Mean-Square error\n",
    "rmse = np.sqrt(np.trace(np.matmul(discrepancy, np.transpose(discrepancy)))) / X.shape[0]\n",
    "\n",
    "print(\"RMSE error = \", rmse)"
   ]
  },
  {
   "cell_type": "markdown",
   "id": "8da348db",
   "metadata": {},
   "source": [
    "## Exercise 3"
   ]
  },
  {
   "cell_type": "code",
   "execution_count": 7,
   "id": "f0ee263b",
   "metadata": {},
   "outputs": [],
   "source": [
    "## Read in the raw data into a pandas dataframe.\n",
    "mouse_proteomics = pd.read_csv('./Data/Data_Cortex_Nuclear.csv')"
   ]
  },
  {
   "cell_type": "markdown",
   "id": "8f28d155",
   "metadata": {},
   "source": [
    "We'll take a quick look at the data"
   ]
  },
  {
   "cell_type": "code",
   "execution_count": 8,
   "id": "f1f4b49b",
   "metadata": {},
   "outputs": [
    {
     "data": {
      "text/html": [
       "<div>\n",
       "<style scoped>\n",
       "    .dataframe tbody tr th:only-of-type {\n",
       "        vertical-align: middle;\n",
       "    }\n",
       "\n",
       "    .dataframe tbody tr th {\n",
       "        vertical-align: top;\n",
       "    }\n",
       "\n",
       "    .dataframe thead th {\n",
       "        text-align: right;\n",
       "    }\n",
       "</style>\n",
       "<table border=\"1\" class=\"dataframe\">\n",
       "  <thead>\n",
       "    <tr style=\"text-align: right;\">\n",
       "      <th></th>\n",
       "      <th>MouseID</th>\n",
       "      <th>DYRK1A_N</th>\n",
       "      <th>ITSN1_N</th>\n",
       "      <th>BDNF_N</th>\n",
       "      <th>NR1_N</th>\n",
       "      <th>NR2A_N</th>\n",
       "      <th>pAKT_N</th>\n",
       "      <th>pBRAF_N</th>\n",
       "      <th>pCAMKII_N</th>\n",
       "      <th>pCREB_N</th>\n",
       "      <th>...</th>\n",
       "      <th>Ubiquitin_N</th>\n",
       "      <th>pGSK3B_Tyr216_N</th>\n",
       "      <th>SHH_N</th>\n",
       "      <th>pS6_N</th>\n",
       "      <th>SYP_N</th>\n",
       "      <th>CaNA_N</th>\n",
       "      <th>Genotype</th>\n",
       "      <th>Treatment</th>\n",
       "      <th>Behavior</th>\n",
       "      <th>class</th>\n",
       "    </tr>\n",
       "  </thead>\n",
       "  <tbody>\n",
       "    <tr>\n",
       "      <th>0</th>\n",
       "      <td>309_1</td>\n",
       "      <td>0.503644</td>\n",
       "      <td>0.747193</td>\n",
       "      <td>0.430175</td>\n",
       "      <td>2.816329</td>\n",
       "      <td>5.990152</td>\n",
       "      <td>0.218830</td>\n",
       "      <td>0.177565</td>\n",
       "      <td>2.373744</td>\n",
       "      <td>0.232224</td>\n",
       "      <td>...</td>\n",
       "      <td>1.044979</td>\n",
       "      <td>0.831557</td>\n",
       "      <td>0.188852</td>\n",
       "      <td>0.106305</td>\n",
       "      <td>0.427099</td>\n",
       "      <td>1.675652</td>\n",
       "      <td>Control</td>\n",
       "      <td>Memantine</td>\n",
       "      <td>C/S</td>\n",
       "      <td>c-CS-m</td>\n",
       "    </tr>\n",
       "    <tr>\n",
       "      <th>1</th>\n",
       "      <td>309_2</td>\n",
       "      <td>0.514617</td>\n",
       "      <td>0.689064</td>\n",
       "      <td>0.411770</td>\n",
       "      <td>2.789514</td>\n",
       "      <td>5.685038</td>\n",
       "      <td>0.211636</td>\n",
       "      <td>0.172817</td>\n",
       "      <td>2.292150</td>\n",
       "      <td>0.226972</td>\n",
       "      <td>...</td>\n",
       "      <td>1.009883</td>\n",
       "      <td>0.849270</td>\n",
       "      <td>0.200404</td>\n",
       "      <td>0.106592</td>\n",
       "      <td>0.441581</td>\n",
       "      <td>1.743610</td>\n",
       "      <td>Control</td>\n",
       "      <td>Memantine</td>\n",
       "      <td>C/S</td>\n",
       "      <td>c-CS-m</td>\n",
       "    </tr>\n",
       "    <tr>\n",
       "      <th>2</th>\n",
       "      <td>309_3</td>\n",
       "      <td>0.509183</td>\n",
       "      <td>0.730247</td>\n",
       "      <td>0.418309</td>\n",
       "      <td>2.687201</td>\n",
       "      <td>5.622059</td>\n",
       "      <td>0.209011</td>\n",
       "      <td>0.175722</td>\n",
       "      <td>2.283337</td>\n",
       "      <td>0.230247</td>\n",
       "      <td>...</td>\n",
       "      <td>0.996848</td>\n",
       "      <td>0.846709</td>\n",
       "      <td>0.193685</td>\n",
       "      <td>0.108303</td>\n",
       "      <td>0.435777</td>\n",
       "      <td>1.926427</td>\n",
       "      <td>Control</td>\n",
       "      <td>Memantine</td>\n",
       "      <td>C/S</td>\n",
       "      <td>c-CS-m</td>\n",
       "    </tr>\n",
       "    <tr>\n",
       "      <th>3</th>\n",
       "      <td>309_4</td>\n",
       "      <td>0.442107</td>\n",
       "      <td>0.617076</td>\n",
       "      <td>0.358626</td>\n",
       "      <td>2.466947</td>\n",
       "      <td>4.979503</td>\n",
       "      <td>0.222886</td>\n",
       "      <td>0.176463</td>\n",
       "      <td>2.152301</td>\n",
       "      <td>0.207004</td>\n",
       "      <td>...</td>\n",
       "      <td>0.990225</td>\n",
       "      <td>0.833277</td>\n",
       "      <td>0.192112</td>\n",
       "      <td>0.103184</td>\n",
       "      <td>0.391691</td>\n",
       "      <td>1.700563</td>\n",
       "      <td>Control</td>\n",
       "      <td>Memantine</td>\n",
       "      <td>C/S</td>\n",
       "      <td>c-CS-m</td>\n",
       "    </tr>\n",
       "    <tr>\n",
       "      <th>4</th>\n",
       "      <td>309_5</td>\n",
       "      <td>0.434940</td>\n",
       "      <td>0.617430</td>\n",
       "      <td>0.358802</td>\n",
       "      <td>2.365785</td>\n",
       "      <td>4.718679</td>\n",
       "      <td>0.213106</td>\n",
       "      <td>0.173627</td>\n",
       "      <td>2.134014</td>\n",
       "      <td>0.192158</td>\n",
       "      <td>...</td>\n",
       "      <td>0.997775</td>\n",
       "      <td>0.878668</td>\n",
       "      <td>0.205604</td>\n",
       "      <td>0.104784</td>\n",
       "      <td>0.434154</td>\n",
       "      <td>1.839730</td>\n",
       "      <td>Control</td>\n",
       "      <td>Memantine</td>\n",
       "      <td>C/S</td>\n",
       "      <td>c-CS-m</td>\n",
       "    </tr>\n",
       "    <tr>\n",
       "      <th>5</th>\n",
       "      <td>309_6</td>\n",
       "      <td>0.447506</td>\n",
       "      <td>0.628176</td>\n",
       "      <td>0.367388</td>\n",
       "      <td>2.385939</td>\n",
       "      <td>4.807635</td>\n",
       "      <td>0.218578</td>\n",
       "      <td>0.176233</td>\n",
       "      <td>2.141282</td>\n",
       "      <td>0.195188</td>\n",
       "      <td>...</td>\n",
       "      <td>0.920178</td>\n",
       "      <td>0.843679</td>\n",
       "      <td>0.190469</td>\n",
       "      <td>0.106476</td>\n",
       "      <td>0.439833</td>\n",
       "      <td>1.816389</td>\n",
       "      <td>Control</td>\n",
       "      <td>Memantine</td>\n",
       "      <td>C/S</td>\n",
       "      <td>c-CS-m</td>\n",
       "    </tr>\n",
       "    <tr>\n",
       "      <th>6</th>\n",
       "      <td>309_7</td>\n",
       "      <td>0.428033</td>\n",
       "      <td>0.573696</td>\n",
       "      <td>0.342709</td>\n",
       "      <td>2.334224</td>\n",
       "      <td>4.473130</td>\n",
       "      <td>0.225173</td>\n",
       "      <td>0.184004</td>\n",
       "      <td>2.012414</td>\n",
       "      <td>0.195789</td>\n",
       "      <td>...</td>\n",
       "      <td>1.028770</td>\n",
       "      <td>0.798284</td>\n",
       "      <td>0.181610</td>\n",
       "      <td>0.097834</td>\n",
       "      <td>0.406293</td>\n",
       "      <td>1.528484</td>\n",
       "      <td>Control</td>\n",
       "      <td>Memantine</td>\n",
       "      <td>C/S</td>\n",
       "      <td>c-CS-m</td>\n",
       "    </tr>\n",
       "    <tr>\n",
       "      <th>7</th>\n",
       "      <td>309_8</td>\n",
       "      <td>0.416923</td>\n",
       "      <td>0.564036</td>\n",
       "      <td>0.327703</td>\n",
       "      <td>2.260135</td>\n",
       "      <td>4.268735</td>\n",
       "      <td>0.214834</td>\n",
       "      <td>0.179668</td>\n",
       "      <td>2.007985</td>\n",
       "      <td>0.189803</td>\n",
       "      <td>...</td>\n",
       "      <td>0.943544</td>\n",
       "      <td>0.843966</td>\n",
       "      <td>0.191561</td>\n",
       "      <td>0.099494</td>\n",
       "      <td>0.382532</td>\n",
       "      <td>1.652658</td>\n",
       "      <td>Control</td>\n",
       "      <td>Memantine</td>\n",
       "      <td>C/S</td>\n",
       "      <td>c-CS-m</td>\n",
       "    </tr>\n",
       "    <tr>\n",
       "      <th>8</th>\n",
       "      <td>309_9</td>\n",
       "      <td>0.386311</td>\n",
       "      <td>0.538428</td>\n",
       "      <td>0.317720</td>\n",
       "      <td>2.125725</td>\n",
       "      <td>4.063950</td>\n",
       "      <td>0.207222</td>\n",
       "      <td>0.167778</td>\n",
       "      <td>1.861514</td>\n",
       "      <td>0.180684</td>\n",
       "      <td>...</td>\n",
       "      <td>0.946910</td>\n",
       "      <td>0.832182</td>\n",
       "      <td>0.186378</td>\n",
       "      <td>0.105145</td>\n",
       "      <td>0.435687</td>\n",
       "      <td>1.834599</td>\n",
       "      <td>Control</td>\n",
       "      <td>Memantine</td>\n",
       "      <td>C/S</td>\n",
       "      <td>c-CS-m</td>\n",
       "    </tr>\n",
       "    <tr>\n",
       "      <th>9</th>\n",
       "      <td>309_10</td>\n",
       "      <td>0.380827</td>\n",
       "      <td>0.499294</td>\n",
       "      <td>0.362462</td>\n",
       "      <td>2.096266</td>\n",
       "      <td>3.598587</td>\n",
       "      <td>0.227649</td>\n",
       "      <td>0.188093</td>\n",
       "      <td>1.717861</td>\n",
       "      <td>0.188093</td>\n",
       "      <td>...</td>\n",
       "      <td>0.970324</td>\n",
       "      <td>0.803395</td>\n",
       "      <td>0.189523</td>\n",
       "      <td>0.093300</td>\n",
       "      <td>0.414793</td>\n",
       "      <td>1.516862</td>\n",
       "      <td>Control</td>\n",
       "      <td>Memantine</td>\n",
       "      <td>C/S</td>\n",
       "      <td>c-CS-m</td>\n",
       "    </tr>\n",
       "  </tbody>\n",
       "</table>\n",
       "<p>10 rows × 73 columns</p>\n",
       "</div>"
      ],
      "text/plain": [
       "  MouseID  DYRK1A_N   ITSN1_N    BDNF_N     NR1_N    NR2A_N    pAKT_N  \\\n",
       "0   309_1  0.503644  0.747193  0.430175  2.816329  5.990152  0.218830   \n",
       "1   309_2  0.514617  0.689064  0.411770  2.789514  5.685038  0.211636   \n",
       "2   309_3  0.509183  0.730247  0.418309  2.687201  5.622059  0.209011   \n",
       "3   309_4  0.442107  0.617076  0.358626  2.466947  4.979503  0.222886   \n",
       "4   309_5  0.434940  0.617430  0.358802  2.365785  4.718679  0.213106   \n",
       "5   309_6  0.447506  0.628176  0.367388  2.385939  4.807635  0.218578   \n",
       "6   309_7  0.428033  0.573696  0.342709  2.334224  4.473130  0.225173   \n",
       "7   309_8  0.416923  0.564036  0.327703  2.260135  4.268735  0.214834   \n",
       "8   309_9  0.386311  0.538428  0.317720  2.125725  4.063950  0.207222   \n",
       "9  309_10  0.380827  0.499294  0.362462  2.096266  3.598587  0.227649   \n",
       "\n",
       "    pBRAF_N  pCAMKII_N   pCREB_N  ...  Ubiquitin_N  pGSK3B_Tyr216_N     SHH_N  \\\n",
       "0  0.177565   2.373744  0.232224  ...     1.044979         0.831557  0.188852   \n",
       "1  0.172817   2.292150  0.226972  ...     1.009883         0.849270  0.200404   \n",
       "2  0.175722   2.283337  0.230247  ...     0.996848         0.846709  0.193685   \n",
       "3  0.176463   2.152301  0.207004  ...     0.990225         0.833277  0.192112   \n",
       "4  0.173627   2.134014  0.192158  ...     0.997775         0.878668  0.205604   \n",
       "5  0.176233   2.141282  0.195188  ...     0.920178         0.843679  0.190469   \n",
       "6  0.184004   2.012414  0.195789  ...     1.028770         0.798284  0.181610   \n",
       "7  0.179668   2.007985  0.189803  ...     0.943544         0.843966  0.191561   \n",
       "8  0.167778   1.861514  0.180684  ...     0.946910         0.832182  0.186378   \n",
       "9  0.188093   1.717861  0.188093  ...     0.970324         0.803395  0.189523   \n",
       "\n",
       "      pS6_N     SYP_N    CaNA_N  Genotype  Treatment  Behavior   class  \n",
       "0  0.106305  0.427099  1.675652   Control  Memantine       C/S  c-CS-m  \n",
       "1  0.106592  0.441581  1.743610   Control  Memantine       C/S  c-CS-m  \n",
       "2  0.108303  0.435777  1.926427   Control  Memantine       C/S  c-CS-m  \n",
       "3  0.103184  0.391691  1.700563   Control  Memantine       C/S  c-CS-m  \n",
       "4  0.104784  0.434154  1.839730   Control  Memantine       C/S  c-CS-m  \n",
       "5  0.106476  0.439833  1.816389   Control  Memantine       C/S  c-CS-m  \n",
       "6  0.097834  0.406293  1.528484   Control  Memantine       C/S  c-CS-m  \n",
       "7  0.099494  0.382532  1.652658   Control  Memantine       C/S  c-CS-m  \n",
       "8  0.105145  0.435687  1.834599   Control  Memantine       C/S  c-CS-m  \n",
       "9  0.093300  0.414793  1.516862   Control  Memantine       C/S  c-CS-m  \n",
       "\n",
       "[10 rows x 73 columns]"
      ]
     },
     "execution_count": 8,
     "metadata": {},
     "output_type": "execute_result"
    }
   ],
   "source": [
    "mouse_proteomics.head(10)"
   ]
  },
  {
   "cell_type": "markdown",
   "id": "54e72b0a",
   "metadata": {},
   "source": [
    "We'll convert the data to a numpy 2D array and fit a scikit-learn PCA object to the datamatrix. We'll keep all the principal components for now, so that we can calculate percentage of variance captured by each principal component."
   ]
  },
  {
   "cell_type": "code",
   "execution_count": 9,
   "id": "e6a7986f",
   "metadata": {},
   "outputs": [
    {
     "data": {
      "text/plain": [
       "PCA()"
      ]
     },
     "execution_count": 9,
     "metadata": {},
     "output_type": "execute_result"
    }
   ],
   "source": [
    "X = mouse_proteomics.iloc[:, 1:(mouse_proteomics.shape[1]-4)].to_numpy()\n",
    "pca = PCA()\n",
    "pca.fit(X)"
   ]
  },
  {
   "cell_type": "code",
   "execution_count": 10,
   "id": "dda17828",
   "metadata": {},
   "outputs": [
    {
     "data": {
      "image/png": "[encoded data removed]",
      "text/plain": [
       "<Figure size 432x288 with 1 Axes>"
      ]
     },
     "metadata": {
      "needs_background": "light"
     },
     "output_type": "display_data"
    }
   ],
   "source": [
    "## Let's look at the percentage of variance explained by each PC\n",
    "\n",
    "# Convert standard deviations into variances\n",
    "pc_variance = np.power(pca.singular_values_, 2.0)\n",
    "\n",
    "# Calculate total variance\n",
    "total_variance = np.sum(pc_variance)\n",
    "\n",
    "# Calculate percentage of total variance\n",
    "pc_percent_total_variance = 100.0*pc_variance / total_variance\n",
    "\n",
    "# Plot \n",
    "plt.plot(pc_percent_total_variance, color='b', marker='o')\n",
    "plt.title('Percentage of variance explained by PCs')\n",
    "plt.xlabel('PC')\n",
    "plt.ylabel('% of total variance')\n",
    "plt.show()"
   ]
  },
  {
   "cell_type": "markdown",
   "id": "d9842403",
   "metadata": {},
   "source": [
    "From the plot above we can see that the first 2 principal components capture over 70% of the total variation in the original data. So we can reduce the dimensionality significantly, if we wanted to, by just retaining PC1 and PC2. For now, we'll just plot the scores of the first two PCs. First we must calculate the scores."
   ]
  },
  {
   "cell_type": "code",
   "execution_count": 11,
   "id": "ceca240c",
   "metadata": {},
   "outputs": [],
   "source": [
    "scores = pca.transform(X)"
   ]
  },
  {
   "cell_type": "markdown",
   "id": "81ddea46",
   "metadata": {},
   "source": [
    "We'll plot the scores from PC2 against the scores from PC1. We'll colour the points according to which behavior class they belong to. "
   ]
  },
  {
   "cell_type": "code",
   "execution_count": 12,
   "id": "7769a181",
   "metadata": {},
   "outputs": [
    {
     "data": {
      "image/png": "[encoded data removed]",
      "text/plain": [
       "<Figure size 432x288 with 1 Axes>"
      ]
     },
     "metadata": {
      "needs_background": "light"
     },
     "output_type": "display_data"
    }
   ],
   "source": [
    "colors = np.full(scores.shape[0], 'blue')\n",
    "colors[np.array(mouse_proteomics['Behavior'].values=='C/S')] = 'red'\n",
    "plt.scatter(scores[:, 0], scores[:,1], c=colors, alpha=0.25)\n",
    "plt.title('PC2 score vs PC1 score', fontsize=24)\n",
    "plt.xlabel('PC1 :' + str(round(pc_percent_total_variance[0],2)) + '%', fontsize=20)\n",
    "plt.ylabel('PC2 :' + str(round(pc_percent_total_variance[1],2)) + '%', fontsize=20)\n",
    "plt.xticks(fontsize=18)\n",
    "plt.yticks(fontsize=18)\n",
    "plt.show()"
   ]
  },
  {
   "cell_type": "markdown",
   "id": "2c5aad6c",
   "metadata": {},
   "source": [
    "The plot above shows that the 2nd principal component, in particular, helps to distinguish the two different behavior classes."
   ]
  }
 ],
 "metadata": {
  "kernelspec": {
   "display_name": "Python 3",
   "language": "python",
   "name": "python3"
  },
  "language_info": {
   "codemirror_mode": {
    "name": "ipython",
    "version": 3
   },
   "file_extension": ".py",
   "mimetype": "text/x-python",
   "name": "python",
   "nbconvert_exporter": "python",
   "pygments_lexer": "ipython3",
   "version": "3.8.8"
  }
 },
 "nbformat": 4,
 "nbformat_minor": 5
}
