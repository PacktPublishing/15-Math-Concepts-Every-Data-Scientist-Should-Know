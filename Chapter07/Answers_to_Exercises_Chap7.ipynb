{
 "cells": [
  {
   "cell_type": "code",
   "execution_count": 1,
   "id": "712f851c",
   "metadata": {},
   "outputs": [],
   "source": [
    "import pandas as pd\n",
    "import numpy as np\n",
    "\n",
    "from scipy.stats import ttest_rel"
   ]
  },
  {
   "cell_type": "markdown",
   "id": "855644d1",
   "metadata": {},
   "source": [
    "## Q1 Paired Sample t-test\n",
    "\n",
    "This uses the data in the file paired_sampled_ttest.csv in the Data folder of the GitHub repository."
   ]
  },
  {
   "cell_type": "markdown",
   "id": "513d8561",
   "metadata": {},
   "source": [
    "First we'll read in the data"
   ]
  },
  {
   "cell_type": "code",
   "execution_count": 2,
   "id": "e581c623",
   "metadata": {},
   "outputs": [],
   "source": [
    "# Read in paired sample t-test dataset\n",
    "df_paired = pd.read_csv(\"../Data/paired_sampled_ttest.csv\")"
   ]
  },
  {
   "cell_type": "markdown",
   "id": "3e7b0ae8",
   "metadata": {},
   "source": [
    "We'll take a quick look at the data, including the sample means of the columns in the dataset. We'll use the pandas describe function to do that."
   ]
  },
  {
   "cell_type": "code",
   "execution_count": 3,
   "id": "7da45971",
   "metadata": {},
   "outputs": [
    {
     "data": {
      "text/html": [
       "<div>\n",
       "<style scoped>\n",
       "    .dataframe tbody tr th:only-of-type {\n",
       "        vertical-align: middle;\n",
       "    }\n",
       "\n",
       "    .dataframe tbody tr th {\n",
       "        vertical-align: top;\n",
       "    }\n",
       "\n",
       "    .dataframe thead th {\n",
       "        text-align: right;\n",
       "    }\n",
       "</style>\n",
       "<table border=\"1\" class=\"dataframe\">\n",
       "  <thead>\n",
       "    <tr style=\"text-align: right;\">\n",
       "      <th></th>\n",
       "      <th>xA</th>\n",
       "      <th>xB</th>\n",
       "    </tr>\n",
       "  </thead>\n",
       "  <tbody>\n",
       "    <tr>\n",
       "      <th>count</th>\n",
       "      <td>40.000000</td>\n",
       "      <td>40.000000</td>\n",
       "    </tr>\n",
       "    <tr>\n",
       "      <th>mean</th>\n",
       "      <td>-0.472187</td>\n",
       "      <td>0.934351</td>\n",
       "    </tr>\n",
       "    <tr>\n",
       "      <th>std</th>\n",
       "      <td>4.342392</td>\n",
       "      <td>4.797588</td>\n",
       "    </tr>\n",
       "    <tr>\n",
       "      <th>min</th>\n",
       "      <td>-9.433588</td>\n",
       "      <td>-9.177824</td>\n",
       "    </tr>\n",
       "    <tr>\n",
       "      <th>25%</th>\n",
       "      <td>-3.066851</td>\n",
       "      <td>-1.815636</td>\n",
       "    </tr>\n",
       "    <tr>\n",
       "      <th>50%</th>\n",
       "      <td>0.285311</td>\n",
       "      <td>0.906282</td>\n",
       "    </tr>\n",
       "    <tr>\n",
       "      <th>75%</th>\n",
       "      <td>2.061572</td>\n",
       "      <td>3.803017</td>\n",
       "    </tr>\n",
       "    <tr>\n",
       "      <th>max</th>\n",
       "      <td>9.470712</td>\n",
       "      <td>12.524339</td>\n",
       "    </tr>\n",
       "  </tbody>\n",
       "</table>\n",
       "</div>"
      ],
      "text/plain": [
       "              xA         xB\n",
       "count  40.000000  40.000000\n",
       "mean   -0.472187   0.934351\n",
       "std     4.342392   4.797588\n",
       "min    -9.433588  -9.177824\n",
       "25%    -3.066851  -1.815636\n",
       "50%     0.285311   0.906282\n",
       "75%     2.061572   3.803017\n",
       "max     9.470712  12.524339"
      ]
     },
     "execution_count": 3,
     "metadata": {},
     "output_type": "execute_result"
    }
   ],
   "source": [
    "# Calculate summary statistics of the data\n",
    "df_paired.describe()"
   ]
  },
  {
   "cell_type": "markdown",
   "id": "ef236732",
   "metadata": {},
   "source": [
    "We can see that we have 40 observations and two columns of data, xA and xB, representing an A group and a B group of observations, respectively. The sample means of the two groups look different. The difference is mean group A - mean group B =  -0.472187 - 0.934351 = -1.406538. But is that difference statistically significant. We'll run a paired sample t-test to find out. We'll use the scipy.stats.ttest_rel function to run the paired sample t-test for us."
   ]
  },
  {
   "cell_type": "code",
   "execution_count": 4,
   "id": "8e186c40",
   "metadata": {},
   "outputs": [
    {
     "data": {
      "text/plain": [
       "TtestResult(statistic=-6.869196967907021, pvalue=3.242061825264152e-08, df=39)"
      ]
     },
     "execution_count": 4,
     "metadata": {},
     "output_type": "execute_result"
    }
   ],
   "source": [
    "# Run a paired sample t-test\n",
    "# We'll store the t-test result in an object, because we want to access\n",
    "# a method on that object in Q2.\n",
    "paired_ttest_result = ttest_rel(a=df_paired['xA'], b=df_paired['xB'])\n",
    "paired_ttest_result"
   ]
  },
  {
   "cell_type": "markdown",
   "id": "73352a7a",
   "metadata": {},
   "source": [
    "The t test-statistic for this t-test is -6.869. This is a large (in magnitude) value for a t test-statistic. Consequently, we expect the value to be statistically significant. The p-value is computed as 3.24e-08, so at the $\\alpha=0.05$ level we reject the null hypothesis and accept the alternative hypothesis that there is a difference in means between the two populations from which these samples were drawn. This says that the data provides evidence (not proof) that the population means are different between the A group and the B group.\n",
    "\n",
    "Note also the number of degrees-of-freedom is df=39 = 40-1. This is because we have 40 observations and we have had to estimaate one parameter in the test, the difference in means."
   ]
  },
  {
   "cell_type": "markdown",
   "id": "4d02190c",
   "metadata": {},
   "source": [
    "## Q2 Confidence Interval calculation for the difference in means\n",
    "\n",
    "The TtestResult object returned by the scipy.stats.ttest_rel function that we used in Q1 has a method that calculates the confidence interval for us (default is the 95% confidence interval). Since we stored that t-test result in an object we can easily call the confidence interval calculation method. We'll do that now. "
   ]
  },
  {
   "cell_type": "code",
   "execution_count": 5,
   "id": "cb03d166",
   "metadata": {},
   "outputs": [
    {
     "data": {
      "text/plain": [
       "ConfidenceInterval(low=-1.8207041761332543, high=-0.99237124169446)"
      ]
     },
     "execution_count": 5,
     "metadata": {},
     "output_type": "execute_result"
    }
   ],
   "source": [
    "# Calculate the 95% confidence interval for the difference in population means between the A group and the B group.\n",
    "paired_ttest_result.confidence_interval()"
   ]
  },
  {
   "cell_type": "markdown",
   "id": "15dba388",
   "metadata": {},
   "source": [
    "We can see that the 95% confidence interval goes between -1.8207 and -0.9924, so it doesn't span 0. From the discussion in the Chapter 7 text, we can conclude, with high confidence that the difference in population means is negative. As discussed in the chapter text, we would expect this given how confidence intervals and hypothesis tests are connected. \n",
    "\n",
    "Let's calculate some more confidence intervals, but with different levels of confidence. First, we'll calculate a 99% confidence interval."
   ]
  },
  {
   "cell_type": "code",
   "execution_count": 6,
   "id": "d04ddf78",
   "metadata": {},
   "outputs": [
    {
     "data": {
      "text/plain": [
       "ConfidenceInterval(low=-1.9610103820483178, high=-0.8520650357793963)"
      ]
     },
     "execution_count": 6,
     "metadata": {},
     "output_type": "execute_result"
    }
   ],
   "source": [
    "# Calculate the 99% confidence interval for the difference in population means between the A group and the B group.\n",
    "paired_ttest_result.confidence_interval(confidence_level=0.99)"
   ]
  },
  {
   "cell_type": "markdown",
   "id": "95955f33",
   "metadata": {},
   "source": [
    "The 99% confidence interval is between -1.9610 and -0.8521. It is a wider interval than the 95% confidence interval. We would expect this; to be more confident we have to allow for the possibility that the true difference in population means could be in a wider range of values. \n",
    "\n",
    "Let's now calculate the 80% confidence interval. This should be narrower than the 95% confidence interval."
   ]
  },
  {
   "cell_type": "code",
   "execution_count": 7,
   "id": "f619d061",
   "metadata": {},
   "outputs": [
    {
     "data": {
      "text/plain": [
       "ConfidenceInterval(low=-1.6734709241352164, high=-1.1396044936924978)"
      ]
     },
     "execution_count": 7,
     "metadata": {},
     "output_type": "execute_result"
    }
   ],
   "source": [
    "# Calculate the 80% confidence interval for the difference in population means between the A group and the B group.\n",
    "paired_ttest_result.confidence_interval(confidence_level=0.80)"
   ]
  },
  {
   "cell_type": "markdown",
   "id": "d7fd45d5",
   "metadata": {},
   "source": [
    "The 80% confidence interval spans between -1.6735 and -1.1396, so it is indeed narrower than the 95% confidence interval."
   ]
  }
 ],
 "metadata": {
  "kernelspec": {
   "display_name": "Python 3 (ipykernel)",
   "language": "python",
   "name": "python3"
  },
  "language_info": {
   "codemirror_mode": {
    "name": "ipython",
    "version": 3
   },
   "file_extension": ".py",
   "mimetype": "text/x-python",
   "name": "python",
   "nbconvert_exporter": "python",
   "pygments_lexer": "ipython3",
   "version": "3.11.5"
  }
 },
 "nbformat": 4,
 "nbformat_minor": 5
}
