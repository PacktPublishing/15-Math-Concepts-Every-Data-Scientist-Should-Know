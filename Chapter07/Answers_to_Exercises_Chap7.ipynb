{
 "cells": [
  {
   "cell_type": "markdown",
   "id": "855644d1",
   "metadata": {},
   "source": [
    "## Q1\n",
    "\n",
    "???"
   ]
  },
  {
   "cell_type": "code",
   "execution_count": 1,
   "id": "712f851c",
   "metadata": {},
   "outputs": [],
   "source": [
    "import numpy as np"
   ]
  },
  {
   "cell_type": "code",
   "execution_count": null,
   "id": "9a014016",
   "metadata": {},
   "outputs": [],
   "source": []
  }
 ],
 "metadata": {
  "kernelspec": {
   "display_name": "Python 3",
   "language": "python",
   "name": "python3"
  },
  "language_info": {
   "codemirror_mode": {
    "name": "ipython",
    "version": 3
   },
   "file_extension": ".py",
   "mimetype": "text/x-python",
   "name": "python",
   "nbconvert_exporter": "python",
   "pygments_lexer": "ipython3",
   "version": "3.8.8"
  }
 },
 "nbformat": 4,
 "nbformat_minor": 5
}
