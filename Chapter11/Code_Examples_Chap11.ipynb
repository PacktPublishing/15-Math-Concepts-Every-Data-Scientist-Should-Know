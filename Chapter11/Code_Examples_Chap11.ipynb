{
 "cells": [
  {
   "cell_type": "code",
   "execution_count": 1,
   "id": "2407e4bf",
   "metadata": {},
   "outputs": [],
   "source": [
    "import numpy as np"
   ]
  },
  {
   "cell_type": "code",
   "execution_count": 2,
   "id": "104df9e6",
   "metadata": {},
   "outputs": [],
   "source": [
    "# Set the seed for the numpy random number generator.\n",
    "# This ensures that we get reproducible results\n",
    "np.random.seed(17335)"
   ]
  },
  {
   "cell_type": "markdown",
   "id": "2cba4ada",
   "metadata": {},
   "source": [
    "## Generating a sequence of states from a 1st order discrete Markov process SIR model\n",
    "\n",
    "We’re going to start from the susceptible state, sample the next state using the probabilities from the first row of the SIR rate matrix. We’ll repeat a further 9 times, each time using the probability distribution from the row of the rate matrix corresponding to the current state. At the end we will have a sequence of 11 states. This will be an example trajectory from our SIR 1st order Markov process and could represent the trajectory of an individual person."
   ]
  },
  {
   "cell_type": "code",
   "execution_count": 3,
   "id": "372578a2",
   "metadata": {},
   "outputs": [],
   "source": [
    "### Define our states \n",
    "# Our states are \"Susceptible\" = index 0, \n",
    "# \"Infected\" = index 1\n",
    "# \"Recovered\" = index 2\n",
    "state_map = {0:'S', 1:'I', 2:'R'}\n",
    "\n",
    "### Define our rate matrix\n",
    "rate_matrix = np.array([[0.9, 0.1, 0.0],[0.0, 0.8, 0.2],[0.05, 0.0, 0.95]])\n",
    "\n",
    "### We'll start in the susceptible state and then sample \n",
    "### our next state and repeat for 10 iterations\n",
    "n_iter=10\n",
    "\n",
    "# Set initial state and its label\n",
    "current_state = 0\n",
    "states_sequence = [state_map[current_state]]\n",
    "\n",
    "# Do 10 iterations\n",
    "for i in range(n_iter):\n",
    "    # Get transition probabilities when starting from \n",
    "    # our current state\n",
    "    next_state_probs = rate_matrix[current_state,:]\n",
    "    \n",
    "    # Use numpy function to sample an integer from [0,1,2]\n",
    "    # with the specified transition probabilities \n",
    "    next_state = np.random.choice(3, p=next_state_probs)\n",
    "    \n",
    "    # Update our current state to this new state\n",
    "    # and get its label\n",
    "    current_state = next_state\n",
    "    states_sequence.extend(state_map[current_state])"
   ]
  },
  {
   "cell_type": "code",
   "execution_count": 4,
   "id": "e3b0da03",
   "metadata": {},
   "outputs": [
    {
     "name": "stdout",
     "output_type": "stream",
     "text": [
      "['S', 'S', 'S', 'S', 'S', 'I', 'R', 'R', 'R', 'R', 'R']\n"
     ]
    }
   ],
   "source": [
    "# Let's look at the sequence of state labels for the \n",
    "# sequence of states we have generated\n",
    "print(states_sequence)"
   ]
  },
  {
   "cell_type": "markdown",
   "id": "388fb467",
   "metadata": {},
   "source": [
    "## Calculation of the stable distribution and the limiting distribution\n",
    "\n",
    "Any stable distribution of the 1st order Markov process is given by a right-eigenvector of the transpose of the transition rate matrix corresponding to eigenvalue 1. We can use the numpy.linalg.eigen function, which computes the right-eigenvectors and eigenvalues of a square matrix."
   ]
  },
  {
   "cell_type": "code",
   "execution_count": 5,
   "id": "b46d67fc",
   "metadata": {},
   "outputs": [],
   "source": [
    "# Compute the right-eigenvectors and eigenvalues of our rate matrix\n",
    "rate_eigen = np.linalg.eig(np.transpose(rate_matrix))"
   ]
  },
  {
   "cell_type": "markdown",
   "id": "19711c38",
   "metadata": {},
   "source": [
    "We can then look at the eigenvalues"
   ]
  },
  {
   "cell_type": "code",
   "execution_count": 6,
   "id": "47495951",
   "metadata": {},
   "outputs": [
    {
     "data": {
      "text/plain": [
       "array([0.825+0.06614378j, 0.825-0.06614378j, 1.   +0.j        ])"
      ]
     },
     "execution_count": 6,
     "metadata": {},
     "output_type": "execute_result"
    }
   ],
   "source": [
    "# The eigenvalues are held in the first element of the tuple\n",
    "rate_eigen[0]"
   ]
  },
  {
   "cell_type": "markdown",
   "id": "fe0f7e62",
   "metadata": {},
   "source": [
    "The last eigenvalue is 1(its imaginary part is zero). So we can use the last eigenvector as the stable distribution. It will normalized to unit length, but we need its elements to sum to 1. But remember from Chapter 3 that any multiple of an eigenvector is still an eigenvector with the same eigenvalue, so we can just re-scale it to sum to 1."
   ]
  },
  {
   "cell_type": "code",
   "execution_count": 7,
   "id": "5dd020d0",
   "metadata": {},
   "outputs": [],
   "source": [
    "# Extract the last eigenvector (we can drop the zero imaginary part)\n",
    "pi_stable = np.real(rate_eigen[1][:,2])\n",
    "\n",
    "# Rescale the vector so its elements sumto 1\n",
    "pi_stable /=np.sum(pi_stable)"
   ]
  },
  {
   "cell_type": "markdown",
   "id": "a407800d",
   "metadata": {},
   "source": [
    "Let's take a look at the stable distribution"
   ]
  },
  {
   "cell_type": "code",
   "execution_count": 8,
   "id": "c00f6af4",
   "metadata": {},
   "outputs": [
    {
     "data": {
      "text/plain": [
       "array([0.28571429, 0.14285714, 0.57142857])"
      ]
     },
     "execution_count": 8,
     "metadata": {},
     "output_type": "execute_result"
    }
   ],
   "source": [
    "# Print the stable distribution\n",
    "pi_stable"
   ]
  },
  {
   "cell_type": "markdown",
   "id": "8ee6bd05",
   "metadata": {},
   "source": [
    "Now we'll compute the limiting distribution. We'll do this by starting from a definite initial state, i.e. a distribution which has only one non-zero value. We'll then apply the transition rate matrix a large (1000) number of times to get an approximation to the limiting distribution."
   ]
  },
  {
   "cell_type": "code",
   "execution_count": 9,
   "id": "bfe03d5a",
   "metadata": {},
   "outputs": [
    {
     "data": {
      "text/plain": [
       "array([0.28571429, 0.14285715, 0.57142856])"
      ]
     },
     "execution_count": 9,
     "metadata": {},
     "output_type": "execute_result"
    }
   ],
   "source": [
    "# Set the initial state distribution. We'll \n",
    "# set it to a distribution representing 100% of people \n",
    "# being in the susceptible state\n",
    "current_distribution = np.array([1.0, 0.0, 0.0])\n",
    "\n",
    "n_iter = 100\n",
    "for i in range(n_iter):\n",
    "    # Get the state distribution at the next timepoint by \n",
    "    # multiplying by the transition rate matrix\n",
    "    next_distribution = np.matmul(current_distribution, rate_matrix)\n",
    "    current_distribution = next_distribution\n",
    "    \n",
    "current_distribution"
   ]
  },
  {
   "cell_type": "markdown",
   "id": "4121b191",
   "metadata": {},
   "source": [
    "We'll repeat the above exercise, but starting from a different initial state,to show that we still end up with the same limiting distribution. We'll create a function to run the code above because we'll call it several time."
   ]
  },
  {
   "cell_type": "code",
   "execution_count": 10,
   "id": "a4fe2a6a",
   "metadata": {},
   "outputs": [],
   "source": [
    "def estimate_limiting_distribution(initial_distribution, rate_matrix, n_iter):\n",
    "    '''\n",
    "    Function to iterate the evolution of the state probability distribution\n",
    "    \n",
    "    :param initial distribution: The initial state distribution from which we start the evolution.\n",
    "    :type initial distribution: An 1D numpy array of N elements.\n",
    "    \n",
    "    :param rate_matrix: The transition probability matrix.\n",
    "    :type rate_matrix: A 2D numpy square N x N array.\n",
    "    \n",
    "    :param n_iter: The number of times we will iterate the evolution of the state distribution.\n",
    "    :type n_iter: int\n",
    "    \n",
    "    :return: The state distribution after n_iter iterations of the evolution equation\n",
    "               starting from initial_distribution.\n",
    "    :rtype: An 1D numpy array of N elements.\n",
    "    '''\n",
    "    \n",
    "    # Set the current distribution equal to the initial distribution\n",
    "    current_distribution = initial_distribution\n",
    "    \n",
    "    # Perform n_iter iterations of the evolution equation,\n",
    "    # updating the current distribution as we go along.\n",
    "    for i in range(n_iter):\n",
    "        # Get the state distribution at the next timepoint by \n",
    "        # multiplying by the transition rate matrix\n",
    "        next_distribution = np.matmul(current_distribution, rate_matrix)\n",
    "        current_distribution = next_distribution    \n",
    "        \n",
    "    return current_distribution"
   ]
  },
  {
   "cell_type": "code",
   "execution_count": 11,
   "id": "a0824e80",
   "metadata": {},
   "outputs": [
    {
     "name": "stdout",
     "output_type": "stream",
     "text": [
      "Estimate of the limiting distribution starting from [0, 1, 0]\n"
     ]
    },
    {
     "data": {
      "text/plain": [
       "array([0.28571428, 0.14285714, 0.57142858])"
      ]
     },
     "execution_count": 11,
     "metadata": {},
     "output_type": "execute_result"
    }
   ],
   "source": [
    "# Estimate the limiting distribution starting from an initial distribution that is \n",
    "# 100% infected state\n",
    "limiting_distribution_estimate1 = estimate_limiting_distribution(initial_distribution=np.array([0.0, 1.0, 0.0]),\n",
    "                                                                 rate_matrix=rate_matrix,\n",
    "                                                                 n_iter=100)\n",
    "\n",
    "# Look at the estimate of the limiting distribution\n",
    "print(\"Estimate of the limiting distribution starting from [0, 1, 0]\")\n",
    "limiting_distribution_estimate1 "
   ]
  },
  {
   "cell_type": "code",
   "execution_count": 12,
   "id": "737ee90d",
   "metadata": {},
   "outputs": [
    {
     "name": "stdout",
     "output_type": "stream",
     "text": [
      "Estimate of the limiting distribution starting from [1/3, 1/3, 1/3]\n"
     ]
    },
    {
     "data": {
      "text/plain": [
       "array([0.28571428, 0.14285714, 0.57142857])"
      ]
     },
     "execution_count": 12,
     "metadata": {},
     "output_type": "execute_result"
    }
   ],
   "source": [
    "# Estimate the limiting distribution starting from an initial distribution that is uniform\n",
    "limiting_distribution_estimate2 = estimate_limiting_distribution(initial_distribution=np.array([1.0/3.0, 1.0/3.0, 1.0/3.0]),\n",
    "                                                                 rate_matrix=rate_matrix,\n",
    "                                                                 n_iter=100)\n",
    "\n",
    "# Look at the estimate of the limiting distribution\n",
    "print(\"Estimate of the limiting distribution starting from [1/3, 1/3, 1/3]\")\n",
    "limiting_distribution_estimate2 "
   ]
  },
  {
   "cell_type": "markdown",
   "id": "e906e0ef",
   "metadata": {},
   "source": [
    "We can see that the two estimates of the limiting distribution are the same (to within the precision of the numerical calculations)."
   ]
  },
  {
   "cell_type": "markdown",
   "id": "fc79e8fd",
   "metadata": {},
   "source": [
    "As a final code example on 1st order discrete Markov processes, we'll confirm the limiting state distribution by that the state by generating lots of long trajectories and looking at the frequency of the final states reached. This code can take several minutes to run."
   ]
  },
  {
   "cell_type": "code",
   "execution_count": 13,
   "id": "0813e83c",
   "metadata": {},
   "outputs": [
    {
     "name": "stdout",
     "output_type": "stream",
     "text": [
      "Running trajectory 0 out of 10000\n",
      "Running trajectory 500 out of 10000\n",
      "Running trajectory 1000 out of 10000\n",
      "Running trajectory 1500 out of 10000\n",
      "Running trajectory 2000 out of 10000\n",
      "Running trajectory 2500 out of 10000\n",
      "Running trajectory 3000 out of 10000\n",
      "Running trajectory 3500 out of 10000\n",
      "Running trajectory 4000 out of 10000\n",
      "Running trajectory 4500 out of 10000\n",
      "Running trajectory 5000 out of 10000\n",
      "Running trajectory 5500 out of 10000\n",
      "Running trajectory 6000 out of 10000\n",
      "Running trajectory 6500 out of 10000\n",
      "Running trajectory 7000 out of 10000\n",
      "Running trajectory 7500 out of 10000\n",
      "Running trajectory 8000 out of 10000\n",
      "Running trajectory 8500 out of 10000\n",
      "Running trajectory 9000 out of 10000\n",
      "Running trajectory 9500 out of 10000\n"
     ]
    }
   ],
   "source": [
    "# Set the number of trajectories we're going to generate\n",
    "n_trajectories = 10000\n",
    "\n",
    "# Set the length of the trajectories\n",
    "n_iter=1000\n",
    "\n",
    "# Initialize an array to hold the counts of final states\n",
    "final_state_distribution =np.zeros(3)\n",
    "\n",
    "# Loop over the trajectories\n",
    "for i in range(n_trajectories):\n",
    "    if i%500==0:\n",
    "        print(\"Running trajectory \" + str(i) + \" out of \" + str(n_trajectories))\n",
    "    \n",
    "    # Set initial state and its label\n",
    "    current_state = 0\n",
    "\n",
    "    # Do a large number of iterations\n",
    "    # and record the final state\n",
    "    for j in range(n_iter):\n",
    "        # Get transition probabilities when starting from \n",
    "        # our current state\n",
    "        next_state_probs = rate_matrix[current_state,:]\n",
    "    \n",
    "        # Use numpy function to sample an integer from [0,1,2]\n",
    "        # with the specified transition probabilities \n",
    "        next_state = np.random.choice(3, size=1, p=next_state_probs)[0]\n",
    "    \n",
    "        # Update our current state to this new state\n",
    "        current_state = next_state\n",
    "    \n",
    "    final_state_distribution[current_state] += 1.0\n",
    "\n",
    "# Convert the state frequencies into proportions    \n",
    "final_state_distribution /= float(n_trajectories)        "
   ]
  },
  {
   "cell_type": "markdown",
   "id": "5d3ea3ba",
   "metadata": {},
   "source": [
    "Let's look at the final state distribution to compare it to the estimate of the limiting distribution and the stable distribution."
   ]
  },
  {
   "cell_type": "code",
   "execution_count": 14,
   "id": "1472dd61",
   "metadata": {},
   "outputs": [
    {
     "data": {
      "text/plain": [
       "array([0.2835, 0.1459, 0.5706])"
      ]
     },
     "execution_count": 14,
     "metadata": {},
     "output_type": "execute_result"
    }
   ],
   "source": [
    "# Print the estimate final state distribution\n",
    "final_state_distribution"
   ]
  }
 ],
 "metadata": {
  "kernelspec": {
   "display_name": "Python 3 (ipykernel)",
   "language": "python",
   "name": "python3"
  },
  "language_info": {
   "codemirror_mode": {
    "name": "ipython",
    "version": 3
   },
   "file_extension": ".py",
   "mimetype": "text/x-python",
   "name": "python",
   "nbconvert_exporter": "python",
   "pygments_lexer": "ipython3",
   "version": "3.11.5"
  }
 },
 "nbformat": 4,
 "nbformat_minor": 5
}
