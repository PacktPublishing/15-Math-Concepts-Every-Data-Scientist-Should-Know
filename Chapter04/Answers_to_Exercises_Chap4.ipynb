{
 "cells": [
  {
   "cell_type": "code",
   "execution_count": 1,
   "id": "8656a25a",
   "metadata": {},
   "outputs": [],
   "source": [
    "import pandas as pd\n",
    "import numpy as np\n",
    "import matplotlib.pyplot as plt\n",
    "import statsmodels.formula.api as smf\n",
    "from sklearn.linear_model import LinearRegression\n",
    "from scipy.optimize import least_squares"
   ]
  },
  {
   "cell_type": "markdown",
   "id": "f2718084",
   "metadata": {},
   "source": [
    "## Q1: OLS regression using scikit learn\n",
    "\n",
    "We going to repeat the linear model of the power-plant output that we covered in the main text. However, we'll use the scikit-learn to do the OLS regression. This illustrates that there many python packages available to us to do OLS linear regression. To start, we'll read in the data."
   ]
  },
  {
   "cell_type": "code",
   "execution_count": 2,
   "id": "dd0840f5",
   "metadata": {},
   "outputs": [],
   "source": [
    "# Read in the raw data\n",
    "df_power = pd.read_csv(\"../Data/power_plant_output.csv\")"
   ]
  },
  {
   "cell_type": "code",
   "execution_count": 3,
   "id": "e418b6d6",
   "metadata": {},
   "outputs": [],
   "source": [
    "# We extract the design matrix as a 2D numpy array. This initially corresponds to the feature columns of the dataframe.\n",
    "# In this case it is all but the last column\n",
    "X = df_power.iloc[:, 0:(df_power.shape[1]-1)].to_numpy()\n",
    "\n",
    "# Now we'll extract the response vector to a numpy array\n",
    "y = df_power.iloc[:, df_power.shape[1]-1].to_numpy()"
   ]
  },
  {
   "cell_type": "markdown",
   "id": "7e5e7b50",
   "metadata": {},
   "source": [
    "Now we'll do OLS regression using the scikit-learn LinearRegression class"
   ]
  },
  {
   "cell_type": "code",
   "execution_count": 4,
   "id": "4107cff5",
   "metadata": {},
   "outputs": [],
   "source": [
    "# call the fit function of the LinearRegression object, passing in the design matrix and response vector\n",
    "power_scikit_model = LinearRegression().fit(X, y)"
   ]
  },
  {
   "cell_type": "markdown",
   "id": "d9c1d254",
   "metadata": {},
   "source": [
    "We'll compare the parameter estimates from the OLS regression done using scikit-learn with those from using the statsmodels package. First we'll have to re-do the statsmodels OLS regression."
   ]
  },
  {
   "cell_type": "code",
   "execution_count": 5,
   "id": "19f88764",
   "metadata": {},
   "outputs": [],
   "source": [
    "# First we specify the model using statsmodels.formula.api.ols\n",
    "power_statsmodel = smf.ols(formula='PE ~ AT + V', data=df_power)\n",
    "\n",
    "# Now we fit the model to the data, i.e. we minimize the sum-of-squared residuals with respect to the model parameters\n",
    "power_statsmodel_result = power_statsmodel.fit()"
   ]
  },
  {
   "cell_type": "code",
   "execution_count": 6,
   "id": "c84c3d7b",
   "metadata": {},
   "outputs": [
    {
     "data": {
      "text/html": [
       "<div>\n",
       "<style scoped>\n",
       "    .dataframe tbody tr th:only-of-type {\n",
       "        vertical-align: middle;\n",
       "    }\n",
       "\n",
       "    .dataframe tbody tr th {\n",
       "        vertical-align: top;\n",
       "    }\n",
       "\n",
       "    .dataframe thead th {\n",
       "        text-align: right;\n",
       "    }\n",
       "</style>\n",
       "<table border=\"1\" class=\"dataframe\">\n",
       "  <thead>\n",
       "    <tr style=\"text-align: right;\">\n",
       "      <th></th>\n",
       "      <th>statsmodels</th>\n",
       "      <th>scikit-learn</th>\n",
       "    </tr>\n",
       "  </thead>\n",
       "  <tbody>\n",
       "    <tr>\n",
       "      <th>Intercept</th>\n",
       "      <td>505.477434</td>\n",
       "      <td>505.477434</td>\n",
       "    </tr>\n",
       "    <tr>\n",
       "      <th>AT</th>\n",
       "      <td>-1.704266</td>\n",
       "      <td>-1.704266</td>\n",
       "    </tr>\n",
       "    <tr>\n",
       "      <th>V</th>\n",
       "      <td>-0.324487</td>\n",
       "      <td>-0.324487</td>\n",
       "    </tr>\n",
       "  </tbody>\n",
       "</table>\n",
       "</div>"
      ],
      "text/plain": [
       "           statsmodels  scikit-learn\n",
       "Intercept   505.477434    505.477434\n",
       "AT           -1.704266     -1.704266\n",
       "V            -0.324487     -0.324487"
      ]
     },
     "execution_count": 6,
     "metadata": {},
     "output_type": "execute_result"
    }
   ],
   "source": [
    "# Now compare the parameter estimates from the scikit-learn OLS regression with those from the statsmodels OLS regression\n",
    "df_power_compare = pd.DataFrame({'statsmodels': power_statsmodel_result.params,\n",
    "                                 'scikit-learn':np.append([power_scikit_model.intercept_], power_scikit_model.coef_)})\n",
    "\n",
    "df_power_compare"
   ]
  },
  {
   "cell_type": "markdown",
   "id": "3333bf6f",
   "metadata": {},
   "source": [
    "As expected the parameter estimates are identical (from the two different packages) since they are using the same closed-form formula under the hood."
   ]
  },
  {
   "cell_type": "markdown",
   "id": "35333cf0",
   "metadata": {},
   "source": [
    "## Q2: Robust gradient descent\n",
    "\n",
    "The outliers dataset is in the file Data/outliers_example.csv in the github repository. The data was generated from a model of the form $y = \\beta_{0} + \\beta_{1}x$. Random noise was then added to the $y$ values. There are 31 datapoints in total. Two of the datapoints are clear outliers. These are at index 27 and 28.\n",
    "\n",
    "We'll fit a model of the form $y = \\beta_{0} + \\beta_{1}x$ via empirical risk minimization with the empirical risk calculated using a pseudo-Huber loss function of the form $\\mathrm{L}(y, \\hat{y}) = \\sqrt{1 + (y-\\hat{y})^{2}} - 1$. We'll do the empirical risk minimization using the simple gradient descent algorithm.\n",
    "\n",
    "To start we'll read in and look at the data.\n"
   ]
  },
  {
   "cell_type": "code",
   "execution_count": 7,
   "id": "9cb0e943",
   "metadata": {},
   "outputs": [],
   "source": [
    "# Read in the raw data\n",
    "df_outliers = pd.read_csv(\"../Data/outliers_example.csv\")"
   ]
  },
  {
   "cell_type": "markdown",
   "id": "f714f7a5",
   "metadata": {},
   "source": [
    "We'll take a quick look at the data. First we'll look at a few rows of data"
   ]
  },
  {
   "cell_type": "code",
   "execution_count": 8,
   "id": "036c3083",
   "metadata": {},
   "outputs": [
    {
     "data": {
      "text/html": [
       "<div>\n",
       "<style scoped>\n",
       "    .dataframe tbody tr th:only-of-type {\n",
       "        vertical-align: middle;\n",
       "    }\n",
       "\n",
       "    .dataframe tbody tr th {\n",
       "        vertical-align: top;\n",
       "    }\n",
       "\n",
       "    .dataframe thead th {\n",
       "        text-align: right;\n",
       "    }\n",
       "</style>\n",
       "<table border=\"1\" class=\"dataframe\">\n",
       "  <thead>\n",
       "    <tr style=\"text-align: right;\">\n",
       "      <th></th>\n",
       "      <th>x</th>\n",
       "      <th>y</th>\n",
       "    </tr>\n",
       "  </thead>\n",
       "  <tbody>\n",
       "    <tr>\n",
       "      <th>0</th>\n",
       "      <td>-2.289707</td>\n",
       "      <td>-5.298498</td>\n",
       "    </tr>\n",
       "    <tr>\n",
       "      <th>1</th>\n",
       "      <td>-2.086515</td>\n",
       "      <td>-2.165589</td>\n",
       "    </tr>\n",
       "    <tr>\n",
       "      <th>2</th>\n",
       "      <td>-1.904273</td>\n",
       "      <td>-0.552044</td>\n",
       "    </tr>\n",
       "    <tr>\n",
       "      <th>3</th>\n",
       "      <td>-1.387136</td>\n",
       "      <td>-2.867857</td>\n",
       "    </tr>\n",
       "    <tr>\n",
       "      <th>4</th>\n",
       "      <td>-1.162846</td>\n",
       "      <td>-4.174585</td>\n",
       "    </tr>\n",
       "    <tr>\n",
       "      <th>5</th>\n",
       "      <td>-1.042285</td>\n",
       "      <td>-3.197176</td>\n",
       "    </tr>\n",
       "    <tr>\n",
       "      <th>6</th>\n",
       "      <td>-0.780465</td>\n",
       "      <td>-1.259264</td>\n",
       "    </tr>\n",
       "    <tr>\n",
       "      <th>7</th>\n",
       "      <td>-0.648718</td>\n",
       "      <td>-7.164544</td>\n",
       "    </tr>\n",
       "    <tr>\n",
       "      <th>8</th>\n",
       "      <td>-0.362807</td>\n",
       "      <td>-0.236140</td>\n",
       "    </tr>\n",
       "    <tr>\n",
       "      <th>9</th>\n",
       "      <td>-0.244814</td>\n",
       "      <td>-0.711990</td>\n",
       "    </tr>\n",
       "  </tbody>\n",
       "</table>\n",
       "</div>"
      ],
      "text/plain": [
       "          x         y\n",
       "0 -2.289707 -5.298498\n",
       "1 -2.086515 -2.165589\n",
       "2 -1.904273 -0.552044\n",
       "3 -1.387136 -2.867857\n",
       "4 -1.162846 -4.174585\n",
       "5 -1.042285 -3.197176\n",
       "6 -0.780465 -1.259264\n",
       "7 -0.648718 -7.164544\n",
       "8 -0.362807 -0.236140\n",
       "9 -0.244814 -0.711990"
      ]
     },
     "execution_count": 8,
     "metadata": {},
     "output_type": "execute_result"
    }
   ],
   "source": [
    "df_outliers.head(10)"
   ]
  },
  {
   "cell_type": "markdown",
   "id": "3e23c060",
   "metadata": {},
   "source": [
    "Let's look at the summary statistics for the dataset."
   ]
  },
  {
   "cell_type": "code",
   "execution_count": 9,
   "id": "91430892",
   "metadata": {},
   "outputs": [
    {
     "data": {
      "text/html": [
       "<div>\n",
       "<style scoped>\n",
       "    .dataframe tbody tr th:only-of-type {\n",
       "        vertical-align: middle;\n",
       "    }\n",
       "\n",
       "    .dataframe tbody tr th {\n",
       "        vertical-align: top;\n",
       "    }\n",
       "\n",
       "    .dataframe thead th {\n",
       "        text-align: right;\n",
       "    }\n",
       "</style>\n",
       "<table border=\"1\" class=\"dataframe\">\n",
       "  <thead>\n",
       "    <tr style=\"text-align: right;\">\n",
       "      <th></th>\n",
       "      <th>x</th>\n",
       "      <th>y</th>\n",
       "    </tr>\n",
       "  </thead>\n",
       "  <tbody>\n",
       "    <tr>\n",
       "      <th>count</th>\n",
       "      <td>31.000000</td>\n",
       "      <td>31.000000</td>\n",
       "    </tr>\n",
       "    <tr>\n",
       "      <th>mean</th>\n",
       "      <td>0.786354</td>\n",
       "      <td>3.113503</td>\n",
       "    </tr>\n",
       "    <tr>\n",
       "      <th>std</th>\n",
       "      <td>1.713190</td>\n",
       "      <td>10.658013</td>\n",
       "    </tr>\n",
       "    <tr>\n",
       "      <th>min</th>\n",
       "      <td>-2.289707</td>\n",
       "      <td>-7.164544</td>\n",
       "    </tr>\n",
       "    <tr>\n",
       "      <th>25%</th>\n",
       "      <td>-0.505763</td>\n",
       "      <td>-1.593490</td>\n",
       "    </tr>\n",
       "    <tr>\n",
       "      <th>50%</th>\n",
       "      <td>0.935624</td>\n",
       "      <td>-0.552044</td>\n",
       "    </tr>\n",
       "    <tr>\n",
       "      <th>75%</th>\n",
       "      <td>1.971436</td>\n",
       "      <td>4.094011</td>\n",
       "    </tr>\n",
       "    <tr>\n",
       "      <th>max</th>\n",
       "      <td>4.289707</td>\n",
       "      <td>46.435986</td>\n",
       "    </tr>\n",
       "  </tbody>\n",
       "</table>\n",
       "</div>"
      ],
      "text/plain": [
       "               x          y\n",
       "count  31.000000  31.000000\n",
       "mean    0.786354   3.113503\n",
       "std     1.713190  10.658013\n",
       "min    -2.289707  -7.164544\n",
       "25%    -0.505763  -1.593490\n",
       "50%     0.935624  -0.552044\n",
       "75%     1.971436   4.094011\n",
       "max     4.289707  46.435986"
      ]
     },
     "execution_count": 9,
     "metadata": {},
     "output_type": "execute_result"
    }
   ],
   "source": [
    "df_outliers.describe()"
   ]
  },
  {
   "cell_type": "markdown",
   "id": "2e5e32d8",
   "metadata": {},
   "source": [
    "Now we'll define the functions needed to do the empirical risk minimization via gradient descent. We'll make this code generic, to work with any loss function and any model, so that if we want to change the model or loss function later on we don't have to re-write this bit of code."
   ]
  },
  {
   "cell_type": "code",
   "execution_count": 10,
   "id": "84552f23",
   "metadata": {},
   "outputs": [],
   "source": [
    "# Define functions for performing gradient descent\n",
    "\n",
    "def risk(X, y, beta, model, loss):\n",
    "    '''\n",
    "    Function to compute the empirical risk.\n",
    "    \n",
    "    :param X: The design matrix of feature values.\n",
    "    :type X: A numpy array\n",
    "    \n",
    "    :param y: The response values.\n",
    "    :type y: A 1D numpy array\n",
    "    \n",
    "    :param beta: The vector of model parameter values at which we want to \n",
    "                 evaluate the empirical risk\n",
    "    :type beta: A 1D numpy array.\n",
    "    \n",
    "    :param model: The model prediction function. It returns\n",
    "                  the prediction given input of the feature\n",
    "                  vector and the model parameter vector.\n",
    "    :type model: A callable object\n",
    "    \n",
    "    :param loss: A loss function\n",
    "    :type loss: A callable object\n",
    "    \n",
    "    :return: The empirical risk function value\n",
    "    :rtype: float\n",
    "    '''\n",
    "    # Initialize the risk value\n",
    "    risk = 0.0\n",
    "  \n",
    "    # Loop over the data and increment the risk\n",
    "    for i in range(X.shape[0]):\n",
    "        risk += loss(y[i], model(X[i,:], beta))\n",
    "        \n",
    "    risk /= X.shape[0]\n",
    "  \n",
    "    return risk\n",
    "\n",
    "\n",
    "def derivative_risk(X, y, beta, model, derivative_model, derivative_loss):\n",
    "    '''\n",
    "    Function to compute the derivative of the empirical risk\n",
    "    with respect to the model parameter.\n",
    "        \n",
    "    :param X: The design matrix of feature values.\n",
    "    :type X: A numpy array\n",
    "    \n",
    "    :param y: The response values for our example.\n",
    "    :type y: A 1D numpy array\n",
    "    \n",
    "    :param beta: The model parameter value at which we want to \n",
    "                 evaluate the empirical risk.\n",
    "    :type beta: float\n",
    "    \n",
    "    :param model: The model prediction function. It returns\n",
    "                  the prediction given input of the feature\n",
    "                  vector and the model parameter vector.\n",
    "    :type model: A callable object\n",
    "    \n",
    "    :param derivative_model: A function which returns the \n",
    "                             derivative of the model prediction with \n",
    "                             respect to the model parameters.\n",
    "    :type derivative_model: A callable object\n",
    "    \n",
    "    :param derivative_loss: A function which returns the \n",
    "                            derivative of the loss function with \n",
    "                            respect to the model prediction.\n",
    "    :type derivative_loss: A callable object\n",
    "                            \n",
    "    \n",
    "    :return: The derivative of the empirical risk function.\n",
    "    :rtype: float\n",
    "    '''\n",
    "    derivative_risk = 0.0\n",
    "  \n",
    "    for i in range(X.shape[0]):\n",
    "        yhat = model(X[i,:], beta)\n",
    "        derivative_risk += (derivative_loss(y[i], yhat) * derivative_model(X[i,:], beta))\n",
    "\n",
    "    derivative_risk /= X.shape[0]\n",
    "    \n",
    "    return derivative_risk   \n",
    "\n"
   ]
  },
  {
   "cell_type": "markdown",
   "id": "56659406",
   "metadata": {},
   "source": [
    "Now we'll write functions to define our specific choices of loss function and model form"
   ]
  },
  {
   "cell_type": "code",
   "execution_count": 11,
   "id": "7af28062",
   "metadata": {},
   "outputs": [],
   "source": [
    "# Define the model\n",
    "def get_q2_model():\n",
    "    '''\n",
    "    Function to create a callable that returns the Q2 model predictions.\n",
    "    \n",
    "    :return: A function that calculate the Q2 model predictions.\n",
    "    :rtype: A callable object\n",
    "    '''\n",
    "    \n",
    "    def q2_model(x, beta):\n",
    "        '''\n",
    "        A function that calculates the Q2 model predictions.\n",
    "        \n",
    "        :param x: The vector of features of the particular datapoint.\n",
    "        :type x: A 1D numpy array\n",
    "        \n",
    "        :param beta: The vector of model parameters.\n",
    "        :type beta: A 1D numpy array.\n",
    "        \n",
    "        :return: The Q2 model prediction.\n",
    "        :rtype: float\n",
    "        '''\n",
    "    \n",
    "        # The model is a linear model\n",
    "        y = beta[0] + (beta[1]*x[0])\n",
    "    \n",
    "        return y\n",
    "    \n",
    "    return q2_model\n",
    "\n",
    "def get_derivative_q2_model():\n",
    "    '''\n",
    "    Function to create a callable that returns the derivative of the \n",
    "    Q2 model prediction with respect to the model parameters.\n",
    "    \n",
    "    :return: A function that returns the derivative of the \n",
    "             Q2 model prediction with respect to the model parameters.\n",
    "    :rtype: A callable object    \n",
    "    '''\n",
    "    \n",
    "    def derivative_q2_model(x, beta):\n",
    "        '''\n",
    "        A function that calculates the derivative of the Q2 model predictions\n",
    "        with respect to the model parameters\n",
    "        \n",
    "        :param x: The vector of features of the particular datapoint.\n",
    "        :type x: A 1D numpy array\n",
    "        \n",
    "        :param beta: The vector of model parameters.\n",
    "        :type beta: A 1D numpy array.\n",
    "        \n",
    "        :return: The derivative of the Q2 model prediction.\n",
    "        :rtype: A 1D numpy array        \n",
    "        '''\n",
    "        \n",
    "        # Initialize an array to hold the derivative values\n",
    "        derivative = np.zeros(beta.shape)\n",
    "        \n",
    "        # Set the derivatives (with respect to the model parameters) of the linear model\n",
    "        derivative[0] = 1.0\n",
    "        derivative[1] = x[0]\n",
    "        \n",
    "        return derivative\n",
    "    \n",
    "    return derivative_q2_model\n",
    "\n",
    "# Define the risk function\n",
    "def get_pseudo_huber():\n",
    "    '''\n",
    "    Function to create a callable that returns the pseudo-Huber loss function values.\n",
    "    \n",
    "    :return: A function that calculate the loss function values.\n",
    "    :rtype: A callable object    \n",
    "    '''\n",
    "    \n",
    "    def pseudo_huber(y, yhat):\n",
    "        '''\n",
    "        Function that returns the pseudo-Huber loss function values.\n",
    "        \n",
    "        :param y: The true response value.\n",
    "        :type y: float\n",
    "        \n",
    "        :param yhat: The model predicted response value.\n",
    "        :type yhat: float.\n",
    "        \n",
    "        :return: The pseudo-Huber loss function value\n",
    "        :rtype: float\n",
    "        '''\n",
    "    \n",
    "        # Calculate the residual\n",
    "        residual = y - yhat\n",
    "        \n",
    "        # Calculate the pseudo-Huber loss\n",
    "        loss = np.sqrt(1.0 + np.power(residual, 2.0)) - 1.0\n",
    "    \n",
    "        return loss\n",
    "    \n",
    "    return pseudo_huber\n",
    "\n",
    "def get_derivative_pseudo_huber():\n",
    "    '''\n",
    "    Function to create a callable that returns the derivative of the pseudo-Huber \n",
    "    loss function with respect to the model prediction.\n",
    "    \n",
    "    :return: Function that returns the derivative of the pseudo-Huber \n",
    "             loss function with respect to the model prediction.\n",
    "    :rtype: A callable object    \n",
    "    '''\n",
    "    \n",
    "    def derivative_pseudo_huber(y, yhat):\n",
    "        '''\n",
    "        Function that returns the derivative of the pseudo-Huber \n",
    "        loss function with respect to the model prediction.\n",
    "        \n",
    "        :param y: The true response value.\n",
    "        :type y: float\n",
    "        \n",
    "        :param yhat: The model predicted response value.\n",
    "        :type yhat: float.\n",
    "        \n",
    "        :return: The derivative of the pseudo-Huber loss function.\n",
    "        :rtype: float\n",
    "        '''\n",
    "        \n",
    "        # Calculate the residual\n",
    "        residual = y - yhat\n",
    "        \n",
    "        # Calculate the derivative\n",
    "        derivative_loss = -residual / np.sqrt(1.0 + np.power(residual, 2.0))\n",
    "        \n",
    "        return derivative_loss\n",
    "    \n",
    "    return derivative_pseudo_huber"
   ]
  },
  {
   "cell_type": "markdown",
   "id": "aabe1a83",
   "metadata": {},
   "source": [
    "Now create the relevant data arrays and functions to do the gradient descent"
   ]
  },
  {
   "cell_type": "code",
   "execution_count": 12,
   "id": "1dcbbc29",
   "metadata": {},
   "outputs": [],
   "source": [
    "# Extract the feature and response values to \n",
    "# numpy arrays\n",
    "X_outliers = df_outliers['x'].to_numpy(copy=True)\n",
    "y_outliers = df_outliers['y'].to_numpy(copy=True)\n",
    "\n",
    "# reshape the feature values to a matrix, because we have defined\n",
    "# the model function to take a feature vector as input in general\n",
    "X_outliers.shape=(len(X_outliers),1)\n",
    "\n",
    "# Create the functions to calculate the model, the loss and their\n",
    "# derivatives\n",
    "q2_model = get_q2_model() # gets the model function\n",
    "q2_derivative_model = get_derivative_q2_model() # gets the derivative of the model function\n",
    "\n",
    "q2_loss = get_pseudo_huber() # gets the loss function\n",
    "q2_derivative_loss = get_derivative_pseudo_huber() # gets the derivative of the loss function"
   ]
  },
  {
   "cell_type": "markdown",
   "id": "84035e67",
   "metadata": {},
   "source": [
    "Now do the gradient descent"
   ]
  },
  {
   "cell_type": "code",
   "execution_count": 13,
   "id": "6d60a333",
   "metadata": {},
   "outputs": [],
   "source": [
    "# Set the learning rate and the number of iterations we want to perform\n",
    "eta=0.01\n",
    "n_iter=5000\n",
    "\n",
    "# Initialize arrays to hold the sequence of \n",
    "# parameter estimates and empirical risk values\n",
    "beta_learn=np.zeros((1+n_iter, 2))\n",
    "risk_learn=np.full(1+n_iter, np.nan)\n",
    "\n",
    "# Set the starting estimate for the\n",
    "# model parameters\n",
    "beta_learn[0,0]=0.0\n",
    "beta_learn[0,1]=1.0\n",
    "\n",
    "# Iterate using the gradient descent update rule\n",
    "for iter in range(n_iter):\n",
    "    risk_learn[iter] = risk(X_outliers, y_outliers, beta_learn[iter, :], q2_model, q2_loss)\n",
    "    beta_learn[iter+1, :] = beta_learn[iter] -(eta*derivative_risk(X_outliers, y_outliers, beta_learn[iter, :], q2_model, q2_derivative_model, q2_derivative_loss))"
   ]
  },
  {
   "cell_type": "code",
   "execution_count": 14,
   "id": "41fbd5aa",
   "metadata": {},
   "outputs": [
    {
     "data": {
      "text/plain": [
       "array([-0.5084421 ,  2.03284684])"
      ]
     },
     "execution_count": 14,
     "metadata": {},
     "output_type": "execute_result"
    }
   ],
   "source": [
    "# The final parameter estimates are,\n",
    "beta_learn[-1, ]"
   ]
  },
  {
   "cell_type": "code",
   "execution_count": 15,
   "id": "81179f31",
   "metadata": {},
   "outputs": [
    {
     "data": {
      "text/html": [
       "<div>\n",
       "<style scoped>\n",
       "    .dataframe tbody tr th:only-of-type {\n",
       "        vertical-align: middle;\n",
       "    }\n",
       "\n",
       "    .dataframe tbody tr th {\n",
       "        vertical-align: top;\n",
       "    }\n",
       "\n",
       "    .dataframe thead th {\n",
       "        text-align: right;\n",
       "    }\n",
       "</style>\n",
       "<table border=\"1\" class=\"dataframe\">\n",
       "  <thead>\n",
       "    <tr style=\"text-align: right;\">\n",
       "      <th></th>\n",
       "      <th>OLS</th>\n",
       "      <th>OLS Outliers Removed</th>\n",
       "      <th>pseudo-Huber Gradient Descent</th>\n",
       "    </tr>\n",
       "  </thead>\n",
       "  <tbody>\n",
       "    <tr>\n",
       "      <th>Intercept</th>\n",
       "      <td>0.216482</td>\n",
       "      <td>-0.577907</td>\n",
       "      <td>-0.508442</td>\n",
       "    </tr>\n",
       "    <tr>\n",
       "      <th>x</th>\n",
       "      <td>3.684120</td>\n",
       "      <td>1.889414</td>\n",
       "      <td>2.032847</td>\n",
       "    </tr>\n",
       "  </tbody>\n",
       "</table>\n",
       "</div>"
      ],
      "text/plain": [
       "                OLS  OLS Outliers Removed  pseudo-Huber Gradient Descent\n",
       "Intercept  0.216482             -0.577907                      -0.508442\n",
       "x          3.684120              1.889414                       2.032847"
      ]
     },
     "execution_count": 15,
     "metadata": {},
     "output_type": "execute_result"
    }
   ],
   "source": [
    "# Let's compare to the parameter estimates we would have got with OLS regression\n",
    "outlier_model_ols1 = smf.ols(formula='y ~ x', data=df_outliers)\n",
    "outlier_model_ols1_result = outlier_model_ols1.fit()\n",
    "\n",
    "# We'll also do an OLS regression with the two outlier points removed\n",
    "outlier_model_ols2 = smf.ols(formula='y ~ x', data=df_outliers[~df_outliers.index.isin([27, 28])])\n",
    "outlier_model_ols2_result = outlier_model_ols2.fit()\n",
    "\n",
    "# Now compare the parameter estimates from the OLS regression with those from the gradient descent with the \n",
    "# robust loss function\n",
    "df_outliers_compare = pd.DataFrame({'OLS': outlier_model_ols1_result.params, 'OLS Outliers Removed':outlier_model_ols2_result.params, \n",
    "                           'pseudo-Huber Gradient Descent':beta_learn[-1, ]})\n",
    "df_outliers_compare"
   ]
  },
  {
   "cell_type": "markdown",
   "id": "55b57e58",
   "metadata": {},
   "source": [
    "You can see how the outliers have significantly increased the gradient estimate in the standard OLS regression. The parameter estimates from the robust gradient descent are closer to the parameter estimates from the OLS regression with the outliers removed. They are not identical because, i) the robust loss function will reduce the effects of the outliers but not remove the outlier data points completely, ii) since the OLS regression has had the outliers removed, we are comparing model fits on two different datasets, so we are not comparing like with like, and so we would expect some differences.\n",
    "\n",
    "The parameters used to generate the data were, in fact, 1.0 for the intercept and 1.5 for the gradient. We can see that even when we use robust gradient descent or remove the outliers from the OLS regresion, there is still a large difference between the parameter estimates and the true parameter values. This is because, i) we are using a finite dataset, in fact quite a small one, consisting of only 31 datapoint, ii) the random component in the data was deliberately set to have a large variance. Overall this means there is large sampling variation in the data and hence in the parameter estimates, even when we either mitigate or remove the effect of the outliers. "
   ]
  },
  {
   "cell_type": "markdown",
   "id": "6400c9ad",
   "metadata": {},
   "source": [
    "## Q3: Non-linear least squares minimization using simple gradient descent\n",
    "\n",
    "The data in the file Data/nls_example.csv contains data that has been generated according to the relationship,\n",
    "$y = \\beta_{0} + \\beta_{1}e^{-\\beta_{2}x}$. The $y$ values in the dataset have been corrupted by noise, i.e,. they also contain an additive random component. We'll use a simple gradient descent algorithm to estimate the model parameters via least squares minimization. We'll initialize the parameter estimate at $\\beta_{0}=1, \\beta_{1}=5, \\beta_{2}=1$. We'll run the gradient descent algorithm for 10000 iterations. To start, we'll read in the data.\n"
   ]
  },
  {
   "cell_type": "code",
   "execution_count": 16,
   "id": "be3ad923",
   "metadata": {},
   "outputs": [],
   "source": [
    "# Read in the raw data\n",
    "df_nls = pd.read_csv(\"../Data/nls_example.csv\")"
   ]
  },
  {
   "cell_type": "markdown",
   "id": "31c64e6f",
   "metadata": {},
   "source": [
    "We can reuse the functions defined in Q2 to do the gradient descent, we just need to redefine the loss function and the model we use."
   ]
  },
  {
   "cell_type": "code",
   "execution_count": 17,
   "id": "3f22ab0a",
   "metadata": {},
   "outputs": [],
   "source": [
    "# Define the model\n",
    "def get_q3_model():\n",
    "    '''\n",
    "    Function to create a callable that returns the Q3 model predictions.\n",
    "    \n",
    "    :return: A function that calculate the Q3 model predictions.\n",
    "    :rtype: A callable object\n",
    "    '''\n",
    "    \n",
    "    def q3_model(x, beta):\n",
    "        '''\n",
    "        A function that calculates the Q3 model predictions.\n",
    "        \n",
    "        :param x: The vector of features of the particular datapoint.\n",
    "        :type x: A 1D numpy array\n",
    "        \n",
    "        :param beta: The vector of model parameters.\n",
    "        :type beta: A 1D numpy array.\n",
    "        \n",
    "        :return: The Q3 model prediction.\n",
    "        :rtype: float\n",
    "        '''\n",
    "    \n",
    "        # The model is a non-linear model\n",
    "        y = beta[0] + (beta[1]*np.exp(-beta[2]*x[0]))\n",
    "    \n",
    "        return y\n",
    "    \n",
    "    return q3_model\n",
    "\n",
    "def get_derivative_q3_model():\n",
    "    '''\n",
    "    Function to create a callable that returns the derivative of the \n",
    "    Q3 model prediction with respect to the model parameters.\n",
    "    \n",
    "    :return: A function that returns the derivative of the \n",
    "             Q3 model prediction with respect to the model parameters.\n",
    "    :rtype: A callable object    \n",
    "    '''\n",
    "    \n",
    "    def derivative_q3_model(x, beta):\n",
    "        '''\n",
    "        A function that calculates the derivative of the Q3 model predictions\n",
    "        with respect to the model parameters\n",
    "        \n",
    "        :param x: The vector of features of the particular datapoint.\n",
    "        :type x: A 1D numpy array\n",
    "        \n",
    "        :param beta: The vector of model parameters.\n",
    "        :type beta: A 1D numpy array.\n",
    "        \n",
    "        :return: The derivative of the Q3 model prediction.\n",
    "        :rtype: A 1D numpy array        \n",
    "        '''\n",
    "        \n",
    "        # Initialize an array to hold the derivative values\n",
    "        derivative = np.zeros(beta.shape)\n",
    "        \n",
    "        # Set the derivatives (with respect to the model parameters) of the linear model\n",
    "        derivative[0] = 1.0\n",
    "        derivative[1] = np.exp(-beta[2]*x[0])\n",
    "        derivative[2] = -beta[1]*x[0]*np.exp(-beta[2]*x[0])\n",
    "        \n",
    "        return derivative\n",
    "    \n",
    "    return derivative_q3_model\n",
    "\n",
    "# Define the risk function\n",
    "def get_squared_loss():\n",
    "    '''\n",
    "    Function to create a callable that returns the squared-loss function values.\n",
    "    \n",
    "    :return: A function that calculate the loss function values.\n",
    "    :rtype: A callable object    \n",
    "    '''\n",
    "    \n",
    "    def squared_loss(y, yhat):\n",
    "        '''\n",
    "        Function that returns the squared-loss function values.\n",
    "        \n",
    "        :param y: The true response value.\n",
    "        :type y: float\n",
    "        \n",
    "        :param yhat: The model predicted response value.\n",
    "        :type yhat: float.\n",
    "        \n",
    "        :return: The squared-loss function value\n",
    "        :rtype: float\n",
    "        '''\n",
    "    \n",
    "        # Calculate the residual\n",
    "        residual = y - yhat\n",
    "        \n",
    "        # Calculate the pseudo-Huber loss\n",
    "        loss = np.power(residual, 2.0)\n",
    "    \n",
    "        return loss\n",
    "    \n",
    "    return squared_loss\n",
    "\n",
    "def get_derivative_squared_loss():\n",
    "    '''\n",
    "    Function to create a callable that returns the derivative of the \n",
    "    squared-loss function with respect to the model prediction.\n",
    "    \n",
    "    :return: Function that returns the derivative of the squared-loss \n",
    "             function with respect to the model prediction.\n",
    "    :rtype: A callable object    \n",
    "    '''\n",
    "    \n",
    "    def derivative_squared_loss(y, yhat):\n",
    "        '''\n",
    "        Function that returns the derivative of the squared-loss  \n",
    "        function with respect to the model prediction.\n",
    "        \n",
    "        :param y: The true response value.\n",
    "        :type y: float\n",
    "        \n",
    "        :param yhat: The model predicted response value.\n",
    "        :type yhat: float.\n",
    "        \n",
    "        :return: The derivative of the squard-loss function.\n",
    "        :rtype: float\n",
    "        '''\n",
    "        \n",
    "        # Calculate the residual\n",
    "        residual = y - yhat\n",
    "        \n",
    "        # Calculate the derivative\n",
    "        derivative_loss = -2.0*residual\n",
    "        \n",
    "        return derivative_loss\n",
    "    \n",
    "    return derivative_squared_loss"
   ]
  },
  {
   "cell_type": "markdown",
   "id": "6441e678",
   "metadata": {},
   "source": [
    "Now create the relevant data arrays and functions to do the gradient descent"
   ]
  },
  {
   "cell_type": "code",
   "execution_count": 18,
   "id": "4a58a48d",
   "metadata": {},
   "outputs": [],
   "source": [
    "# Extract the feature and response values to \n",
    "# numpy arrays\n",
    "X_nls = df_nls['x'].to_numpy(copy=True)\n",
    "y_nls = df_nls['y'].to_numpy(copy=True)\n",
    "\n",
    "# reshape the feature values to a matrix, because we have defined\n",
    "# the model function to take a feature vector as input in general\n",
    "X_nls.shape=(len(X_nls),1)\n",
    "\n",
    "# Create the functions to calculate the model, the loss and their\n",
    "# derivatives\n",
    "q3_model = get_q3_model() # gets the model function\n",
    "q3_derivative_model = get_derivative_q3_model() # gets the derivative of the model function\n",
    "\n",
    "q3_loss = get_squared_loss() # gets the loss function\n",
    "q3_derivative_loss = get_derivative_squared_loss() # gets the derivative of the loss function"
   ]
  },
  {
   "cell_type": "markdown",
   "id": "6c62f201",
   "metadata": {},
   "source": [
    "Now do the gradient descent"
   ]
  },
  {
   "cell_type": "code",
   "execution_count": 19,
   "id": "f276ec09",
   "metadata": {},
   "outputs": [],
   "source": [
    "# Set the learning rate and the number of iterations we want to perform\n",
    "eta=0.1\n",
    "n_iter=10000 # This can take a few minutes to run\n",
    "\n",
    "# Initialize arrays to hold the sequence of \n",
    "# parameter estimates and empirical risk values\n",
    "beta_learn_nls=np.zeros((1+n_iter, 3))\n",
    "risk_learn_nls=np.full(1+n_iter, np.nan)\n",
    "\n",
    "# Set the starting estimate for the\n",
    "# model parameters\n",
    "beta_learn_nls[0,0]=1.0\n",
    "beta_learn_nls[0,1]=5.0\n",
    "beta_learn_nls[0,2]=1.0\n",
    "\n",
    "# Iterate using the gradient descent update rule\n",
    "for iter in range(n_iter):\n",
    "    risk_learn_nls[iter] = risk(X_nls, y_nls, beta_learn_nls[iter, :], q3_model, q3_loss)\n",
    "    beta_learn_nls[iter+1, :] = beta_learn_nls[iter] -(eta*derivative_risk(X_nls, y_nls, beta_learn_nls[iter, :], q3_model, q3_derivative_model, q3_derivative_loss))"
   ]
  },
  {
   "cell_type": "markdown",
   "id": "514e060a",
   "metadata": {},
   "source": [
    "Let's look at whether the gradient descent has converged. We'll plot from iteration 50 onwards. The first few iterations produce the biggest decrease in the risk and so distort the scale of the plot a little."
   ]
  },
  {
   "cell_type": "code",
   "execution_count": 20,
   "id": "2b897595",
   "metadata": {},
   "outputs": [
    {
     "data": {
      "image/png": "[encoded data removed]",
      "text/plain": [
       "<Figure size 640x480 with 1 Axes>"
      ]
     },
     "metadata": {},
     "output_type": "display_data"
    }
   ],
   "source": [
    "# Plot the risk estimate at each iteration\n",
    "plt.plot(range(50, n_iter+1), risk_learn_nls[50:])\n",
    "plt.title('Risk vs Iteration', fontsize=24)\n",
    "plt.xlabel('Iteration', fontsize=20)\n",
    "plt.ylabel('Risk', fontsize=20)\n",
    "plt.xticks(fontsize=14)\n",
    "plt.yticks(fontsize=14)\n",
    "plt.show()"
   ]
  },
  {
   "cell_type": "code",
   "execution_count": 21,
   "id": "cc605d09",
   "metadata": {},
   "outputs": [
    {
     "data": {
      "image/png": "[encoded data removed]",
      "text/plain": [
       "<Figure size 640x480 with 1 Axes>"
      ]
     },
     "metadata": {},
     "output_type": "display_data"
    }
   ],
   "source": [
    "# Plot parameter estimates at each iteration\n",
    "plt.plot(range(50, n_iter+1), beta_learn_nls[50:,0])\n",
    "plt.title(r'$\\hat{\\beta}_{0}$ vs Iteration', fontsize=24)\n",
    "plt.xlabel('Iteration', fontsize=20)\n",
    "plt.ylabel(r'$\\hat{\\beta}_{0}$', fontsize=20)\n",
    "plt.xticks(fontsize=14)\n",
    "plt.yticks(fontsize=14)\n",
    "plt.show()"
   ]
  },
  {
   "cell_type": "code",
   "execution_count": 22,
   "id": "8b758055",
   "metadata": {},
   "outputs": [
    {
     "data": {
      "image/png": "[encoded data removed]",
      "text/plain": [
       "<Figure size 640x480 with 1 Axes>"
      ]
     },
     "metadata": {},
     "output_type": "display_data"
    }
   ],
   "source": [
    "# Plot parameter estimates at each iteration\n",
    "plt.plot(range(50, n_iter+1), beta_learn_nls[50:,1])\n",
    "plt.title(r'$\\hat{\\beta}_{1}$ vs Iteration', fontsize=24)\n",
    "plt.xlabel('Iteration', fontsize=20)\n",
    "plt.ylabel(r'$\\hat{\\beta}_{1}$', fontsize=20)\n",
    "plt.xticks(fontsize=14)\n",
    "plt.yticks(fontsize=14)\n",
    "plt.show()"
   ]
  },
  {
   "cell_type": "code",
   "execution_count": 23,
   "id": "8493bc3d",
   "metadata": {},
   "outputs": [
    {
     "data": {
      "image/png": "[encoded data removed]",
      "text/plain": [
       "<Figure size 640x480 with 1 Axes>"
      ]
     },
     "metadata": {},
     "output_type": "display_data"
    }
   ],
   "source": [
    "# Plot parameter estimates at each iteration\n",
    "plt.plot(range(50, n_iter+1), beta_learn_nls[50:,2])\n",
    "plt.title(r'$\\hat{\\beta}_{2}$ vs Iteration', fontsize=24)\n",
    "plt.xlabel('Iteration', fontsize=20)\n",
    "plt.ylabel(r'$\\hat{\\beta}_{2}$', fontsize=20)\n",
    "plt.xticks(fontsize=14)\n",
    "plt.yticks(fontsize=14)\n",
    "plt.show()"
   ]
  },
  {
   "cell_type": "markdown",
   "id": "4056fef1",
   "metadata": {},
   "source": [
    "The simple gradient descent looks like it has converged and so produced sensible parameter estimates. But let's look at what we get if we do the least squares minimization using a more sophisticated algorithm. For this we'll use the scipy.optimize.least_squares function. To use this we first need to create a function that returns the model residuals given the model parameters as input."
   ]
  },
  {
   "cell_type": "code",
   "execution_count": 24,
   "id": "f2080c51",
   "metadata": {},
   "outputs": [],
   "source": [
    "# Define the residuals function\n",
    "def get_residuals_function(X, y, model):\n",
    "    '''\n",
    "    Function to create a callable that returns the residuals of the \n",
    "    model predictions.\n",
    "    \n",
    "    :param X: The design matrix of feature values.\n",
    "    :type X: A numpy array\n",
    "    \n",
    "    :param y: The response values.\n",
    "    :type y: A 1D numpy array\n",
    "    \n",
    "    :param model: A function that returns the model predictions.\n",
    "    :type model: A callable object\n",
    "    \n",
    "    :return: Function that returns the residuals.\n",
    "    :rtype: A callable object     \n",
    "    '''\n",
    "    \n",
    "    def residuals_function(beta):\n",
    "        '''\n",
    "        Function that returns the residuals of the \n",
    "        model predictions.\n",
    "        \n",
    "        :param beta: A vector of model parameters.\n",
    "        :type beta: A 1D numpy array\n",
    "        \n",
    "        :return: The vector of model residuals.\n",
    "        :rtype: A 1D numpy array\n",
    "        '''\n",
    "        residuals = np.zeros(len(y))\n",
    "        \n",
    "        for i in range(len(y)):\n",
    "            residuals[i] = y[i] - model(X[i, :], beta)\n",
    "        \n",
    "        return residuals\n",
    "    \n",
    "    return residuals_function\n",
    "    "
   ]
  },
  {
   "cell_type": "markdown",
   "id": "a56e0a22",
   "metadata": {},
   "source": [
    "Now do the least squares minimization using the scipy.optimize.least_squares function"
   ]
  },
  {
   "cell_type": "code",
   "execution_count": 25,
   "id": "6450bca6",
   "metadata": {},
   "outputs": [],
   "source": [
    "scipy_nls_result = least_squares(get_residuals_function(X_nls, y_nls, q3_model), np.array([0.0, 1.0, 1.0]))"
   ]
  },
  {
   "cell_type": "markdown",
   "id": "4f6c52f3",
   "metadata": {},
   "source": [
    "Let's compare the output from the simple gradient descent and the more sophisticated algorithm"
   ]
  },
  {
   "cell_type": "code",
   "execution_count": 26,
   "id": "0cded211",
   "metadata": {},
   "outputs": [
    {
     "data": {
      "text/html": [
       "<div>\n",
       "<style scoped>\n",
       "    .dataframe tbody tr th:only-of-type {\n",
       "        vertical-align: middle;\n",
       "    }\n",
       "\n",
       "    .dataframe tbody tr th {\n",
       "        vertical-align: top;\n",
       "    }\n",
       "\n",
       "    .dataframe thead th {\n",
       "        text-align: right;\n",
       "    }\n",
       "</style>\n",
       "<table border=\"1\" class=\"dataframe\">\n",
       "  <thead>\n",
       "    <tr style=\"text-align: right;\">\n",
       "      <th></th>\n",
       "      <th>Gradient descent</th>\n",
       "      <th>Scipy NLS</th>\n",
       "    </tr>\n",
       "  </thead>\n",
       "  <tbody>\n",
       "    <tr>\n",
       "      <th>0</th>\n",
       "      <td>1.762413</td>\n",
       "      <td>1.763492</td>\n",
       "    </tr>\n",
       "    <tr>\n",
       "      <th>1</th>\n",
       "      <td>6.611920</td>\n",
       "      <td>6.636653</td>\n",
       "    </tr>\n",
       "    <tr>\n",
       "      <th>2</th>\n",
       "      <td>0.826309</td>\n",
       "      <td>0.828915</td>\n",
       "    </tr>\n",
       "  </tbody>\n",
       "</table>\n",
       "</div>"
      ],
      "text/plain": [
       "   Gradient descent  Scipy NLS\n",
       "0          1.762413   1.763492\n",
       "1          6.611920   6.636653\n",
       "2          0.826309   0.828915"
      ]
     },
     "execution_count": 26,
     "metadata": {},
     "output_type": "execute_result"
    }
   ],
   "source": [
    "df_nls_compare = pd.DataFrame({'Gradient descent': beta_learn_nls[-1,:], \n",
    "                               'Scipy NLS':scipy_nls_result.x})\n",
    "df_nls_compare"
   ]
  },
  {
   "cell_type": "markdown",
   "id": "9e87c7cc",
   "metadata": {},
   "source": [
    "The simple gradient descent algorithm appears to have produced similar parameter estimates to the scipy least squares algorithm. However, we had to run the gradient descent algorithm for 10000 iterations and we started from a initialization of (1.0, 5.0, 1.0) that is reasonably close to the optimal values of (1.763, 6.637, 0.829). In contrast, we started the scipy least squares algorithm from (0.0, 1.0, 1.0) and only took 15 iterations of the scipy algorithms. This highlights how more sophisticated optimization algorithms are required for least squares problems when we have more complex non-linear models. This is particularly true when it comes to parameter estimation for neural networks, where adaptive gradient descent algorithms such as the Adam optimizer are available to us."
   ]
  }
 ],
 "metadata": {
  "kernelspec": {
   "display_name": "Python 3 (ipykernel)",
   "language": "python",
   "name": "python3"
  },
  "language_info": {
   "codemirror_mode": {
    "name": "ipython",
    "version": 3
   },
   "file_extension": ".py",
   "mimetype": "text/x-python",
   "name": "python",
   "nbconvert_exporter": "python",
   "pygments_lexer": "ipython3",
   "version": "3.11.5"
  }
 },
 "nbformat": 4,
 "nbformat_minor": 5
}
